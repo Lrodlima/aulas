{
 "cells": [
  {
   "cell_type": "code",
   "execution_count": 1,
   "metadata": {
    "collapsed": false
   },
   "outputs": [],
   "source": [
    "%matplotlib inline"
   ]
  },
  {
   "cell_type": "markdown",
   "metadata": {},
   "source": [
    "\n",
    "# Linear Regression Example\n",
    "\n",
    "This example uses the only the first feature of the `diabetes` dataset, in\n",
    "order to illustrate a two-dimensional plot of this regression technique. The\n",
    "straight line can be seen in the plot, showing how linear regression attempts\n",
    "to draw a straight line that will best minimize the residual sum of squares\n",
    "between the observed responses in the dataset, and the responses predicted by\n",
    "the linear approximation.\n",
    "\n",
    "The coefficients, the residual sum of squares and the variance score are also\n",
    "calculated.\n",
    "\n"
   ]
  },
  {
   "cell_type": "code",
   "execution_count": 2,
   "metadata": {
    "collapsed": false
   },
   "outputs": [
    {
     "name": "stdout",
     "output_type": "stream",
     "text": [
      "Automatically created module for IPython interactive environment\n",
      "Coefficients: \n",
      " [ 1121.36526482]\n",
      "Mean squared error: 2176.00\n",
      "Variance score: 0.55\n"
     ]
    },
    {
     "data": {
      "text/plain": [
       "[<matplotlib.lines.Line2D at 0x7feb7ca3ac18>]"
      ]
     },
     "execution_count": 2,
     "metadata": {},
     "output_type": "execute_result"
    },
    {
     "data": {
      "image/png": "[encoded data removed]",
      "text/plain": [
       "<matplotlib.figure.Figure at 0x7feb73697ef0>"
      ]
     },
     "metadata": {},
     "output_type": "display_data"
    }
   ],
   "source": [
    "print(__doc__)\n",
    "\n",
    "\n",
    "# Code source: Jaques Grobler\n",
    "# License: BSD 3 clause\n",
    "\n",
    "\n",
    "import matplotlib.pyplot as plt\n",
    "import numpy as np\n",
    "from sklearn import datasets, linear_model\n",
    "\n",
    "# Load the diabetes dataset\n",
    "diabetes = datasets.load_diabetes()\n",
    "\n",
    "\n",
    "# Use only one feature\n",
    "diabetes_X = diabetes.data[:, np.newaxis, 2]\n",
    "\n",
    "# Split the data into training/testing sets\n",
    "diabetes_X_train = diabetes_X[:-20]\n",
    "diabetes_X_test = diabetes_X[-20:]\n",
    "\n",
    "# Split the targets into training/testing sets\n",
    "diabetes_y_train = diabetes.target[:-20]\n",
    "diabetes_y_test = diabetes.target[-20:]\n",
    "\n",
    "# Create linear regression object\n",
    "regr = linear_model.LinearRegression()\n",
    "\n",
    "# Train the model using the training sets\n",
    "regr.fit(diabetes_X_test, diabetes_y_test)\n",
    "\n",
    "# The coefficients\n",
    "print('Coefficients: \\n', regr.coef_)\n",
    "# The mean squared error\n",
    "print(\"Mean squared error: %.2f\"\n",
    "      % np.mean((regr.predict(diabetes_X_test) - diabetes_y_test) ** 2))\n",
    "# Explained variance score: 1 is perfect prediction\n",
    "print('Variance score: %.2f' % regr.score(diabetes_X_test, diabetes_y_test))\n",
    "\n",
    "# Plot outputs\n",
    "plt.scatter(diabetes_X_test, diabetes_y_test)\n",
    "plt.plot(diabetes_X_test, regr.predict(diabetes_X_test),\n",
    "         linewidth=3)\n"
   ]
  },
  {
   "cell_type": "code",
   "execution_count": 3,
   "metadata": {
    "collapsed": false
   },
   "outputs": [
    {
     "ename": "NameError",
     "evalue": "name 'order' is not defined",
     "output_type": "error",
     "traceback": [
      "\u001b[0;31m---------------------------------------------------------------------------\u001b[0m",
      "\u001b[0;31mNameError\u001b[0m                                 Traceback (most recent call last)",
      "\u001b[0;32m<ipython-input-3-120009cab091>\u001b[0m in \u001b[0;36m<module>\u001b[0;34m()\u001b[0m\n\u001b[0;32m----> 1\u001b[0;31m \u001b[0mdiabetes_X_test_out\u001b[0m \u001b[0;34m=\u001b[0m \u001b[0mnp\u001b[0m\u001b[0;34m.\u001b[0m\u001b[0mvstack\u001b[0m\u001b[0;34m(\u001b[0m\u001b[0;34m(\u001b[0m\u001b[0mdiabetes_X_test\u001b[0m\u001b[0;34m,\u001b[0m \u001b[0mdiabetes_X_test\u001b[0m\u001b[0;34m[\u001b[0m\u001b[0morder\u001b[0m\u001b[0;34m[\u001b[0m\u001b[0;34m-\u001b[0m\u001b[0;36m1\u001b[0m\u001b[0;34m]\u001b[0m\u001b[0;34m]\u001b[0m\u001b[0;34m[\u001b[0m\u001b[0;34m:\u001b[0m\u001b[0;34m,\u001b[0m \u001b[0mnp\u001b[0m\u001b[0;34m.\u001b[0m\u001b[0mnewaxis\u001b[0m\u001b[0;34m]\u001b[0m\u001b[0;34m)\u001b[0m\u001b[0;34m)\u001b[0m\u001b[0;34m\u001b[0m\u001b[0m\n\u001b[0m\u001b[1;32m      2\u001b[0m \u001b[0mdiabetes_y_test_out\u001b[0m \u001b[0;34m=\u001b[0m \u001b[0mnp\u001b[0m\u001b[0;34m.\u001b[0m\u001b[0mconcatenate\u001b[0m\u001b[0;34m(\u001b[0m\u001b[0;34m(\u001b[0m\u001b[0mdiabetes_y_test\u001b[0m\u001b[0;34m,\u001b[0m \u001b[0;34m[\u001b[0m\u001b[0;36m1000\u001b[0m\u001b[0;34m]\u001b[0m\u001b[0;34m)\u001b[0m\u001b[0;34m)\u001b[0m\u001b[0;34m\u001b[0m\u001b[0m\n\u001b[1;32m      3\u001b[0m \u001b[0mdiabetes_y_test_out\u001b[0m\u001b[0;34m.\u001b[0m\u001b[0mshape\u001b[0m\u001b[0;34m\u001b[0m\u001b[0m\n\u001b[1;32m      4\u001b[0m \u001b[0mdiabetes_X_test_out\u001b[0m\u001b[0;34m.\u001b[0m\u001b[0mshape\u001b[0m\u001b[0;34m\u001b[0m\u001b[0m\n\u001b[1;32m      5\u001b[0m \u001b[0;31m# diabetes_X_test[order[-1]][:, np.newaxis]\u001b[0m\u001b[0;34m\u001b[0m\u001b[0;34m\u001b[0m\u001b[0m\n",
      "\u001b[0;31mNameError\u001b[0m: name 'order' is not defined"
     ]
    }
   ],
   "source": [
    "diabetes_X_test_out = np.vstack((diabetes_X_test, diabetes_X_test[order[-1]][:, np.newaxis]))\n",
    "diabetes_y_test_out = np.concatenate((diabetes_y_test, [1000]))\n",
    "diabetes_y_test_out.shape\n",
    "diabetes_X_test_out.shape\n",
    "# diabetes_X_test[order[-1]][:, np.newaxis]"
   ]
  },
  {
   "cell_type": "code",
   "execution_count": null,
   "metadata": {
    "collapsed": false
   },
   "outputs": [],
   "source": [
    "plt.scatter(diabetes_X_test, diabetes_y_test)\n",
    "plt.plot(diabetes_X_test, regr.predict(diabetes_X_test),\n",
    "         linewidth=3)\n",
    "\n",
    "order = np.argsort(diabetes_X_test, 0).ravel()\n",
    "\n",
    "diabetes_X_test_out = np.vstack((diabetes_X_test, diabetes_X_test[order[-1]][:, np.newaxis]))\n",
    "diabetes_y_test_out = np.concatenate((diabetes_y_test, [1000]))\n",
    "# Train the model using the training sets\n",
    "# regr.fit(diabetes_X_test_out,\n",
    "#          diabetes_y_test_out)\n",
    "\n",
    "plt.scatter(diabetes_X_test[order[-1]], [1000], alpha=0.)\n",
    "# plt.plot(diabetes_X_test_out, regr.predict(diabetes_X_test_out),\n",
    "#          linewidth=3)"
   ]
  },
  {
   "cell_type": "code",
   "execution_count": null,
   "metadata": {
    "collapsed": false
   },
   "outputs": [],
   "source": [
    "regr.fit(diabetes_X_test,\n",
    "         diabetes_y_test)\n",
    "\n",
    "plt.scatter(diabetes_X_test, diabetes_y_test)\n",
    "plt.plot(diabetes_X_test, regr.predict(diabetes_X_test),\n",
    "         linewidth=3)\n",
    "\n",
    "order = np.argsort(diabetes_X_test, 0).ravel()\n",
    "\n",
    "diabetes_X_test_out = np.vstack((diabetes_X_test, diabetes_X_test[order[-1]][:, np.newaxis]))\n",
    "diabetes_y_test_out = np.concatenate((diabetes_y_test, [1000]))\n",
    "# Train the model using the training sets\n",
    "regr.fit(diabetes_X_test_out,\n",
    "         diabetes_y_test_out)\n",
    "\n",
    "plt.scatter(diabetes_X_test[order[-1]], [1000])\n",
    "# plt.plot(diabetes_X_test_out, regr.predict(diabetes_X_test_out),\n",
    "#          linewidth=3)"
   ]
  },
  {
   "cell_type": "code",
   "execution_count": null,
   "metadata": {
    "collapsed": false
   },
   "outputs": [],
   "source": [
    "regr.fit(diabetes_X_test,\n",
    "         diabetes_y_test)\n",
    "\n",
    "plt.scatter(diabetes_X_test, diabetes_y_test)\n",
    "plt.plot(diabetes_X_test, regr.predict(diabetes_X_test),\n",
    "         linewidth=3)\n",
    "\n",
    "order = np.argsort(diabetes_X_test, 0).ravel()\n",
    "\n",
    "diabetes_X_test_out = np.vstack((diabetes_X_test, diabetes_X_test[order[-1]][:, np.newaxis]))\n",
    "diabetes_y_test_out = np.concatenate((diabetes_y_test, [1000]))\n",
    "# Train the model using the training sets\n",
    "regr.fit(diabetes_X_test_out,\n",
    "         diabetes_y_test_out)\n",
    "\n",
    "plt.scatter(diabetes_X_test[order[-1]], [1000])\n",
    "plt.plot(diabetes_X_test_out, regr.predict(diabetes_X_test_out),\n",
    "         linewidth=3)\n",
    "axes = plt.gca()\n",
    "axes.set_ylim(0)"
   ]
  },
  {
   "cell_type": "code",
   "execution_count": null,
   "metadata": {
    "collapsed": false
   },
   "outputs": [],
   "source": [
    "x = np.arange(-4, 4, 0.2)\n",
    "\n",
    "y = x**2 + np.random.randn(x.shape[0]) / 2\n",
    "plt.scatter(x, y)\n",
    "\n",
    "regr.fit(x[:, np.newaxis], y)\n",
    "\n",
    "plt.plot(x, regr.predict(x[:, np.newaxis]),\n",
    "         linewidth=3)"
   ]
  },
  {
   "cell_type": "code",
   "execution_count": null,
   "metadata": {
    "collapsed": false
   },
   "outputs": [],
   "source": [
    "import numpy as np\n",
    "import matplotlib.pyplot as plt\n",
    "input = np.array([\n",
    "    [1, 6],\n",
    "    [2, 5],\n",
    "    [3, 7],\n",
    "    [4, 10]\n",
    "])\n",
    "m = len(input)\n",
    "X = np.array([np.ones(m), input[:, 0]]).T\n",
    "y = np.array(input[:, 1]).reshape(-1, 1)\n",
    "betaHat = np.linalg.inv(X.T.dot(X)).dot(X.T).dot(y)\n",
    "print(betaHat)\n",
    "plt.figure(1)\n",
    "xx = np.linspace(0, 5, 2)\n",
    "yy = np.array(betaHat[0] + betaHat[1] * xx)\n",
    "plt.plot(xx, yy.T, color='b')\n",
    "plt.scatter(input[:, 0], input[:, 1], color='r')\n",
    "plt.show()"
   ]
  },
  {
   "cell_type": "markdown",
   "metadata": {},
   "source": [
    "$y = x^2 + N(0, 1)$"
   ]
  },
  {
   "cell_type": "markdown",
   "metadata": {},
   "source": [
    "# Perceptron\n",
    "\n",
    "Exemplo NAND"
   ]
  },
  {
   "cell_type": "code",
   "execution_count": 37,
   "metadata": {
    "collapsed": false
   },
   "outputs": [
    {
     "data": {
      "text/plain": [
       "(-0.05, 1.05)"
      ]
     },
     "execution_count": 37,
     "metadata": {},
     "output_type": "execute_result"
    },
    {
     "data": {
      "image/png": "[encoded data removed]",
      "text/plain": [
       "<matplotlib.figure.Figure at 0x7feb6ea17358>"
      ]
     },
     "metadata": {},
     "output_type": "display_data"
    }
   ],
   "source": [
    "X = np.array([[1, 0, 0],\n",
    "             [1, 0, 1],\n",
    "             [1, 1, 0],\n",
    "             [1, 1, 1]])\n",
    "y = np.array([1, 1, 1, 0])\n",
    "\n",
    "pos = (y == 1)\n",
    "np.random.seed(0)\n",
    "# w = np.random.randn(3)[:, np.newaxis] \n",
    "w = np.array([[ -0.5 ],\n",
    "       [ 0.40015721],\n",
    "       [ 0.97873798]])\n",
    "plt.scatter(X[pos, 1], X[pos, 2], color='b')\n",
    "plt.scatter(X[~pos, 1], X[~pos, 2], color='r')\n",
    "axes = plt.gca()\n",
    "axes.set_ylim(-0.05, 1.05)\n",
    "axes.set_xlim(-0.05, 1.05)"
   ]
  },
  {
   "cell_type": "code",
   "execution_count": 38,
   "metadata": {
    "collapsed": false
   },
   "outputs": [
    {
     "data": {
      "text/plain": [
       "(-0.05, 1.05)"
      ]
     },
     "execution_count": 38,
     "metadata": {},
     "output_type": "execute_result"
    },
    {
     "data": {
      "image/png": "[encoded data removed]",
      "text/plain": [
       "<matplotlib.figure.Figure at 0x7feb7ca3a8d0>"
      ]
     },
     "metadata": {},
     "output_type": "display_data"
    }
   ],
   "source": [
    "def plt_perceptron_df(X, y, w):\n",
    "    xx = np.linspace(0, 1)\n",
    "    yy = (- w[1] / w[2]) * xx - (w[0] / w[2])\n",
    "    plt.plot(xx, yy, color='y')\n",
    "    plt.scatter(X[pos, 1], X[pos, 2], color='b')\n",
    "    plt.scatter(X[~pos, 1], X[~pos, 2], color='r')\n",
    "    axes = plt.gca()\n",
    "    axes.set_ylim(-0.05, 1.05)\n",
    "    axes.set_ylim(-0.05, 1.05)\n",
    "    return plt\n",
    "plt = plt_perceptron_df(X, y, w)\n",
    "axes = plt.gca()\n",
    "axes.set_ylim(-0.05, 1.05)\n",
    "axes.set_ylim(-0.05, 1.05)"
   ]
  },
  {
   "cell_type": "code",
   "execution_count": 39,
   "metadata": {
    "collapsed": false,
    "scrolled": false
   },
   "outputs": [
    {
     "name": "stdout",
     "output_type": "stream",
     "text": [
      "0.75\n",
      "[0 2 3]\n",
      "[[-0.5       ]\n",
      " [ 0.40015721]\n",
      " [ 0.97873798]] * [1 0 0] = [0] \n"
     ]
    },
    {
     "data": {
      "image/png": "[encoded data removed]",
      "text/plain": [
       "<matplotlib.figure.Figure at 0x7feb6eaab3c8>"
      ]
     },
     "metadata": {},
     "output_type": "display_data"
    },
    {
     "name": "stdout",
     "output_type": "stream",
     "text": [
      "w = [[ 0.5       ]\n",
      " [ 0.40015721]\n",
      " [ 0.97873798]]\n",
      "[[ 0.5       ]\n",
      " [ 0.40015721]\n",
      " [ 0.97873798]] * [1 1 0] = [0] \n"
     ]
    },
    {
     "data": {
      "image/png": "[encoded data removed]",
      "text/plain": [
       "<matplotlib.figure.Figure at 0x7feb6e9d80f0>"
      ]
     },
     "metadata": {},
     "output_type": "display_data"
    },
    {
     "name": "stdout",
     "output_type": "stream",
     "text": [
      "w = [[ 1.5       ]\n",
      " [ 1.40015721]\n",
      " [ 0.97873798]]\n",
      "[[ 1.5       ]\n",
      " [ 1.40015721]\n",
      " [ 0.97873798]] * [1 1 1] = [1] \n"
     ]
    },
    {
     "data": {
      "image/png": "[encoded data removed]",
      "text/plain": [
       "<matplotlib.figure.Figure at 0x7feb6e976470>"
      ]
     },
     "metadata": {},
     "output_type": "display_data"
    },
    {
     "name": "stdout",
     "output_type": "stream",
     "text": [
      "w = [[ 0.5       ]\n",
      " [ 0.40015721]\n",
      " [-0.02126202]]\n",
      "0.25\n",
      "[3]\n",
      "[[ 0.5       ]\n",
      " [ 0.40015721]\n",
      " [-0.02126202]] * [1 1 1] = [1] \n"
     ]
    },
    {
     "data": {
      "image/png": "[encoded data removed]",
      "text/plain": [
       "<matplotlib.figure.Figure at 0x7feb6ed02d30>"
      ]
     },
     "metadata": {},
     "output_type": "display_data"
    },
    {
     "name": "stdout",
     "output_type": "stream",
     "text": [
      "w = [[-0.5       ]\n",
      " [-0.59984279]\n",
      " [-1.02126202]]\n",
      "0.75\n",
      "[0 1 2]\n",
      "[[-0.5       ]\n",
      " [-0.59984279]\n",
      " [-1.02126202]] * [1 0 0] = [0] \n"
     ]
    },
    {
     "data": {
      "image/png": "[encoded data removed]",
      "text/plain": [
       "<matplotlib.figure.Figure at 0x7feb6e934e10>"
      ]
     },
     "metadata": {},
     "output_type": "display_data"
    },
    {
     "name": "stdout",
     "output_type": "stream",
     "text": [
      "w = [[ 0.5       ]\n",
      " [-0.59984279]\n",
      " [-1.02126202]]\n",
      "[[ 0.5       ]\n",
      " [-0.59984279]\n",
      " [-1.02126202]] * [1 0 1] = [0] \n"
     ]
    },
    {
     "data": {
      "image/png": "[encoded data removed]",
      "text/plain": [
       "<matplotlib.figure.Figure at 0x7feb6e8a3438>"
      ]
     },
     "metadata": {},
     "output_type": "display_data"
    },
    {
     "name": "stdout",
     "output_type": "stream",
     "text": [
      "w = [[ 1.5       ]\n",
      " [-0.59984279]\n",
      " [-0.02126202]]\n",
      "[[ 1.5       ]\n",
      " [-0.59984279]\n",
      " [-0.02126202]] * [1 1 0] = [0] \n"
     ]
    },
    {
     "data": {
      "image/png": "[encoded data removed]",
      "text/plain": [
       "<matplotlib.figure.Figure at 0x7feb6e8756a0>"
      ]
     },
     "metadata": {},
     "output_type": "display_data"
    },
    {
     "name": "stdout",
     "output_type": "stream",
     "text": [
      "w = [[ 2.5       ]\n",
      " [ 0.40015721]\n",
      " [-0.02126202]]\n",
      "0.25\n",
      "[3]\n",
      "[[ 2.5       ]\n",
      " [ 0.40015721]\n",
      " [-0.02126202]] * [1 1 1] = [1] \n"
     ]
    },
    {
     "data": {
      "image/png": "[encoded data removed]",
      "text/plain": [
       "<matplotlib.figure.Figure at 0x7feb6e86e6a0>"
      ]
     },
     "metadata": {},
     "output_type": "display_data"
    },
    {
     "name": "stdout",
     "output_type": "stream",
     "text": [
      "w = [[ 1.5       ]\n",
      " [-0.59984279]\n",
      " [-1.02126202]]\n",
      "0.0\n",
      "[]\n",
      "0.0\n",
      "[]\n",
      "0.0\n",
      "[]\n",
      "0.0\n",
      "[]\n",
      "0.0\n",
      "[]\n",
      "0.0\n",
      "[]\n"
     ]
    }
   ],
   "source": [
    "# def perceptron_step(X, y, w):\n",
    "\n",
    "for i in np.arange(10):\n",
    "    # retorna zero 1 se positivo e zero se negativo\n",
    "    y_pred = (np.sign(np.dot(X, w)) > 0).astype(int)\n",
    "    erros = y_pred != y[:, np.newaxis]\n",
    "    print(erros.mean())\n",
    "#     print(w, y_pred, y)\n",
    "    ids, _ = np.where(erros)\n",
    "    print(ids)\n",
    "    for j in ids:\n",
    "        print(\"%s * %s = %s \" % (w, X[j], y_pred[j]))\n",
    "        plt = plt_perceptron_df(X, y, w)\n",
    "        axes = plt.gca()\n",
    "        axes.set_ylim(-0.05, 1.05)\n",
    "        axes.set_ylim(-0.05, 1.05)\n",
    "        plt.show()\n",
    "        w += ((y[j] - y_pred[j].ravel()) * X[j])[:, np.newaxis]\n",
    "        print(\"w = %s\" % (w))\n",
    "       \n",
    "    "
   ]
  },
  {
   "cell_type": "code",
   "execution_count": 40,
   "metadata": {
    "collapsed": false
   },
   "outputs": [
    {
     "data": {
      "text/plain": [
       "<module 'matplotlib.pyplot' from '/home/rcampos/projects/amb009/venv/lib/python3.5/site-packages/matplotlib/pyplot.py'>"
      ]
     },
     "execution_count": 40,
     "metadata": {},
     "output_type": "execute_result"
    },
    {
     "data": {
      "image/png": "[encoded data removed]",
      "text/plain": [
       "<matplotlib.figure.Figure at 0x7feb6e90a940>"
      ]
     },
     "metadata": {},
     "output_type": "display_data"
    }
   ],
   "source": [
    "plt_perceptron_df(X, y, w)"
   ]
  }
 ],
 "metadata": {
  "kernelspec": {
   "display_name": "Python 3",
   "language": "python",
   "name": "python3"
  },
  "language_info": {
   "codemirror_mode": {
    "name": "ipython",
    "version": 3
   },
   "file_extension": ".py",
   "mimetype": "text/x-python",
   "name": "python",
   "nbconvert_exporter": "python",
   "pygments_lexer": "ipython3",
   "version": "3.5.2"
  }
 },
 "nbformat": 4,
 "nbformat_minor": 0
}
