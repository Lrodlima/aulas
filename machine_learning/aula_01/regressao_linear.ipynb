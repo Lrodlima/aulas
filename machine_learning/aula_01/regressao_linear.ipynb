{
 "cells": [
  {
   "cell_type": "code",
   "execution_count": 11,
   "metadata": {
    "collapsed": true
   },
   "outputs": [],
   "source": [
    "# macro do ipython para rederizar o matplotlib inline\n",
    "%matplotlib inline\n",
    "\n",
    "# numpy é uma biblioteca de python que \n",
    "# nos permite fazer operações matriciais e vetoriais\n",
    "# facilmente, e eficientemente (até um certo tamanho)\n",
    "import numpy as np\n",
    "\n",
    "import matplotlib.pyplot as plt"
   ]
  },
  {
   "cell_type": "markdown",
   "metadata": {},
   "source": [
    "### Objetivo\n",
    "\n",
    "O objetivo desse jupyter notebook é complementar a aula teórica com uma perspectiva prática do assunto.\n",
    "Vamos implementar o método dos mínimos quadrados em numpy para ficarmos mais familiares com a biblioteca, além disso vamos utilizar algumas implementações da biblioteca scikit-learn. A ideia é mostrar como alguns métodos do scikit-learn funciona por de baixo dos panos, além de nos familiarizarmos mais com esssa ferramenta."
   ]
  },
  {
   "cell_type": "code",
   "execution_count": 12,
   "metadata": {
    "collapsed": true
   },
   "outputs": [],
   "source": [
    "class RegressaoLinear(object):\n",
    "\n",
    "    def __init__(self):\n",
    "        self.w_ = None\n",
    "    \n",
    "    def ajustar(self, X, y):\n",
    "        return self\n",
    "    \n",
    "    def predizer(self, X):\n",
    "        if self.w_ is None:\n",
    "            raise ValueError('Tentando predizer sem ajustar aos dados!!!') \n",
    "            \n",
    "        n_exemplos, n_atributos = X.shape\n",
    "        \n",
    "        # expandimos X acrescentando uma coluna de 1's\n",
    "        # para o w_0 que representa onde o hiperplano\n",
    "        # corta o eixo y\n",
    "        X = np.hstack((np.ones((n_exemplos, 1)), X))\n",
    "            \n",
    "        return X.dot(self.w_)\n"
   ]
  },
  {
   "cell_type": "markdown",
   "metadata": {},
   "source": [
    "Esse é o esqueleto de nossa classe que ajustas os dados usando um regressão linear. Todo método de regressão faz sua predição do modo descrito no método **predizer**, ou seja, $X . w$. Porém cada um deles há uma forma distinta de aprender os pesos $w_0, ..., w_m$. \n",
    "\n",
    "Vamos então implementar o método para ajustar aos dados (encontrar o w) utilizando o método dos mínimos quadrados visto em aula.\n",
    "\n",
    "Lembra-se que há uma fórmula analítica para resolvermos o problema de minimzação da soma dos quadrados das diferenças $\\min_{w} ||Xw - y||^2_2$ que é definida do seguinte modo:\n",
    "\n",
    "$w = (X^TX)^{-1}X^Ty$\n",
    "\n",
    "Como vamos implementar isso? Vou ter de fazer todos essas operações matriciais? Vou ter de implementar um algoritmo para calcular a inversa de uma matriz?\n",
    "\n",
    "É aí que entra o numpy! Ele nos oferece todas essas operações implementadas eficientemente em python (por de baixo dos panos são implementados em C, mas com um interface para python) para possamos fazer chamadas bem alto nível e consigamos implementar o método dos mínimos quadrados sem muito esforço.\n",
    "\n",
    "Então como que fica isso em python + numpy?"
   ]
  },
  {
   "cell_type": "code",
   "execution_count": 13,
   "metadata": {
    "collapsed": true
   },
   "outputs": [],
   "source": [
    "class RegressaoLinearMMQ(RegressaoLinear):\n",
    "    \n",
    "    def ajustar(self, X, y):\n",
    "        n_exemplos, n_atributos = X.shape\n",
    "        \n",
    "        if y.ndim == 1:\n",
    "            y = y[:, np.newaxis]\n",
    "        \n",
    "        # expandimos X acrescentando uma coluna de 1's\n",
    "        # para o w_0 que representa onde o hiperplano\n",
    "        # corta o eixo y\n",
    "        X = np.hstack((np.ones((n_exemplos, 1)), X))\n",
    "        \n",
    "        self.w_ = np.linalg.inv(X.T.dot(X)).dot(X.T).dot(y)\n",
    "        return self"
   ]
  },
  {
   "cell_type": "markdown",
   "metadata": {},
   "source": [
    "Isso mesmo, simples assim! \n",
    "\n",
    "O grosso da computação está np trecho a seguir, que é a tradução da fórmula $w = (X^TX)^{-1}X^Ty$ para python com numpy.\n",
    "\n",
    "```python\n",
    "    self.w_ = np.linalg.inv(X.T.dot(X)).dot(X.T).dot(y)\n",
    "```\n",
    "O numpy tem um módulo linalg (linear algebra), com várias funções de algebra linear, tais como inversada matriz, determinante, auto valores, só para citar algumas. Além disso, em numpy é usado a função dot para se fazer multiplicação de matrizes e também para fazer produto interno entre dois vetores.\n",
    "\n",
    "Vamos só explicar algumas cosinhas que podem parecer estranhas no primeiro momento.\n",
    "\n",
    "```python\n",
    "if y.ndim == 1:\n",
    "    y = y[:, np.newaxis]\n",
    "```\n",
    "\n",
    "O trecho de código acima garante que $y$ seja um vetor no formato $Nx1$, ou seja, colunar.\n",
    "\n",
    "Para explicar o trecho a seguir precisamos recapitular umas cosinhas da aula.\n",
    "\n",
    "```python\n",
    "# expandimos X acrescentando uma coluna de 1's\n",
    "# para o w_0 que representa onde o hiperplano\n",
    "# corta o eixo y\n",
    "X = np.hstack((np.ones((n_exemplos, 1)), X))\n",
    "```\n",
    "\n",
    "Lembram-se que nós temos $n\\_atributos + 1$ pesos, onde o primeiro peso o $w_0$ é a interseção da reta com o eixo $y$? Lembram-se que a fórmula genérica para nossos modelos lineares é $y = w_0 * 1 + w_1 * x_1 + ... + w_m * x_m$?\n",
    "\n",
    "Desse modo, para achar o peso $w_0$ precisamos acrescentar uma variável \"arficial\" que sempre vai ter o valor 1.\n",
    "Portanto, é para isso que serve o código acima, para acrescentar essa variável e nos permitir achar o $w_0$!"
   ]
  },
  {
   "cell_type": "markdown",
   "metadata": {},
   "source": [
    "### Testando nossa implementação"
   ]
  },
  {
   "cell_type": "markdown",
   "metadata": {},
   "source": [
    "Vamos testar nossa implementação em um conjunto de dados. Para isso vamos utilizar um banco de dados disponibilizado pela biblioteca de aprendizado de máquinas scikit-learn."
   ]
  },
  {
   "cell_type": "code",
   "execution_count": 14,
   "metadata": {
    "collapsed": false
   },
   "outputs": [
    {
     "data": {
      "text/plain": [
       "<matplotlib.collections.PathCollection at 0x7f6b6db97c18>"
      ]
     },
     "execution_count": 14,
     "metadata": {},
     "output_type": "execute_result"
    },
    {
     "data": {
      "image/png": "[encoded data removed]",
      "text/plain": [
       "<matplotlib.figure.Figure at 0x7f6b6dab7da0>"
      ]
     },
     "metadata": {},
     "output_type": "display_data"
    }
   ],
   "source": [
    "from sklearn import datasets, linear_model\n",
    "\n",
    "# Carregando o cojunto de dados sobre diabetes\n",
    "diabetes = datasets.load_diabetes()\n",
    "\n",
    "# Vamos utilizar apenas um atributo para facilitar nossa visualização\n",
    "diabetes_X = diabetes.data[:, np.newaxis, 2]\n",
    "\n",
    "# Vamos pegar apenas umas 20 amostras\n",
    "X_amostra = diabetes_X[-20:]\n",
    "y_amostra = diabetes.target[-20:]\n",
    "\n",
    "plt.scatter(X_amostra, y_amostra)"
   ]
  },
  {
   "cell_type": "markdown",
   "metadata": {},
   "source": [
    "Bora treinar nosso modelo com nossa implementação :)"
   ]
  },
  {
   "cell_type": "code",
   "execution_count": 15,
   "metadata": {
    "collapsed": false
   },
   "outputs": [
    {
     "data": {
      "text/plain": [
       "[<matplotlib.lines.Line2D at 0x7f6b6dcc1cc0>]"
      ]
     },
     "execution_count": 15,
     "metadata": {},
     "output_type": "execute_result"
    },
    {
     "data": {
      "image/png": "[encoded data removed]",
      "text/plain": [
       "<matplotlib.figure.Figure at 0x7f6b6dac7eb8>"
      ]
     },
     "metadata": {},
     "output_type": "display_data"
    }
   ],
   "source": [
    "reg = RegressaoLinearMMQ()\n",
    "reg.ajustar(X_amostra, y_amostra)\n",
    "\n",
    "plt.scatter(X_amostra, y_amostra)\n",
    "plt.plot(X_amostra, reg.predizer(X_amostra),\n",
    "         linewidth=3)"
   ]
  },
  {
   "cell_type": "markdown",
   "metadata": {
    "collapsed": false
   },
   "source": [
    "Olha gente que lindo! Nossa regressão linear funcionou. Vamos contrastar nossa implementação com o do scikit-learn."
   ]
  },
  {
   "cell_type": "code",
   "execution_count": 16,
   "metadata": {
    "collapsed": false
   },
   "outputs": [
    {
     "data": {
      "text/plain": [
       "[<matplotlib.lines.Line2D at 0x7f6b6da87128>]"
      ]
     },
     "execution_count": 16,
     "metadata": {},
     "output_type": "execute_result"
    },
    {
     "data": {
      "image/png": "[encoded data removed]",
      "text/plain": [
       "<matplotlib.figure.Figure at 0x7f6b6da87048>"
      ]
     },
     "metadata": {},
     "output_type": "display_data"
    }
   ],
   "source": [
    "reg = linear_model.LinearRegression()\n",
    "reg.fit(X_amostra, y_amostra)\n",
    "\n",
    "plt.scatter(X_amostra, y_amostra)\n",
    "plt.plot(X_amostra, reg.predict(X_amostra),\n",
    "         linewidth=3)"
   ]
  },
  {
   "cell_type": "markdown",
   "metadata": {},
   "source": [
    "Obtivemos o mesmo resultado! Quem precisa de scikit-learn agora?? Bricadeira...\n",
    "\n",
    "Vamos acrescentar um outlier nesse conjunto de dados e verificar como esse método se comporta.\n",
    "\n",
    "## Sensibilidade a Outliers"
   ]
  },
  {
   "cell_type": "code",
   "execution_count": 17,
   "metadata": {
    "collapsed": false
   },
   "outputs": [
    {
     "data": {
      "text/plain": [
       "[<matplotlib.lines.Line2D at 0x7f6b6d9d8128>]"
      ]
     },
     "execution_count": 17,
     "metadata": {},
     "output_type": "execute_result"
    },
    {
     "data": {
      "image/png": "[encoded data removed]",
      "text/plain": [
       "<matplotlib.figure.Figure at 0x7f6b6daf0780>"
      ]
     },
     "metadata": {},
     "output_type": "display_data"
    }
   ],
   "source": [
    "order = np.argsort(X_amostra, 0).ravel()\n",
    "\n",
    "# vamos adicionar um exemplo com y muito discrepande\n",
    "# e x igual ao maior valor do conjunto de dados\n",
    "X_outlier = np.vstack((X_amostra, [[X_amostra.max()]]))\n",
    "y_outlier = np.concatenate((y_amostra, [1000]))\n",
    "\n",
    "\n",
    "reg = RegressaoLinearMMQ()\n",
    "\n",
    "reg.ajustar(X_amostra, y_amostra)\n",
    "# traçando os pontos e reta anterior\n",
    "plt.scatter(X_amostra, y_amostra)\n",
    "plt.plot(X_amostra, reg.predizer(X_amostra),\n",
    "         linewidth=3)\n",
    "\n",
    "reg.ajustar(X_outlier, y_outlier)\n",
    "# traçando o outlier e a nova reta\n",
    "plt.scatter(X_outlier[-1:], y_outlier[-1:])\n",
    "plt.plot(X_outlier, reg.predizer(X_outlier),\n",
    "         linewidth=3)"
   ]
  },
  {
   "cell_type": "markdown",
   "metadata": {},
   "source": [
    "## Lasso\n",
    "\n",
    "Para o Lasso, não uma formula análitica para encontrar os pesos $w$. Desse modo, vamos brincar um pouco com ele utilizando a implementação do scikit-learn.\n",
    "\n",
    "Brinque um pouco com parâmetro **alpha** do Lasso. A medida que você vai aumentando seu valor, maior é o impacto da penalização do regularizador na otimização dos pesos."
   ]
  },
  {
   "cell_type": "code",
   "execution_count": 18,
   "metadata": {
    "collapsed": false
   },
   "outputs": [
    {
     "data": {
      "text/plain": [
       "[<matplotlib.lines.Line2D at 0x7f6b6d94bfd0>]"
      ]
     },
     "execution_count": 18,
     "metadata": {},
     "output_type": "execute_result"
    },
    {
     "data": {
      "image/png": "[encoded data removed]",
      "text/plain": [
       "<matplotlib.figure.Figure at 0x7f6b6dbe1400>"
      ]
     },
     "metadata": {},
     "output_type": "display_data"
    }
   ],
   "source": [
    "lasso = linear_model.Lasso(alpha=0.001)\n",
    "\n",
    "reg.ajustar(X_amostra, y_amostra)\n",
    "# traçando os pontos e reta anterior\n",
    "plt.scatter(X_amostra, y_amostra)\n",
    "plt.plot(X_amostra, reg.predizer(X_amostra),\n",
    "         linewidth=3)\n",
    "\n",
    "lasso.fit(X_outlier, y_outlier)\n",
    "# traçando o outlier e a nova reta\n",
    "plt.scatter(X_outlier[-1:], y_outlier[-1:])\n",
    "plt.plot(X_outlier, lasso.predict(X_outlier),\n",
    "         linewidth=3)"
   ]
  },
  {
   "cell_type": "markdown",
   "metadata": {},
   "source": [
    "## Ridge Regression\n",
    "\n",
    "No caso do ridge regression há uma fórmula fechada para se encontrar $w$. \n",
    "\n",
    "Essa fórmula é a seguinte:\n",
    "\n",
    "$w = (X^TX + I\\alpha)^{-1}X^Ty$\n",
    "\n",
    "Portanto, para que você se familiarize um pouco com numpy peço que faça o seguinte exercício. Você deve completar o método **ajustar** da classe ***RegressaoLinearRidge*** abaixo com a implementação em numpy da equação anterior. Após completar sua implementação, brinque um pouco com os valores de alpha e verifique como a modelo se comporta."
   ]
  },
  {
   "cell_type": "code",
   "execution_count": 43,
   "metadata": {
    "collapsed": true
   },
   "outputs": [],
   "source": [
    "class RegressaoLinearRidge(RegressaoLinear):\n",
    "    def __init__(self, alpha = 1):\n",
    "        super(RegressaoLinearRidge, self).__init__()\n",
    "        self.alpha_ = alpha\n",
    "    \n",
    "    def ajustar(self, X, y):\n",
    "        # complete com sua implementação utilizando numpy\n",
    "        return self"
   ]
  },
  {
   "cell_type": "code",
   "execution_count": 42,
   "metadata": {
    "collapsed": false
   },
   "outputs": [
    {
     "data": {
      "text/plain": [
       "[<matplotlib.lines.Line2D at 0x7fa857827c50>]"
      ]
     },
     "execution_count": 42,
     "metadata": {},
     "output_type": "execute_result"
    },
    {
     "data": {
      "image/png": "[encoded data removed]",
      "text/plain": [
       "<matplotlib.figure.Figure at 0x7fa857cba978>"
      ]
     },
     "metadata": {},
     "output_type": "display_data"
    }
   ],
   "source": [
    "reg = RegressaoLinearMMQ()\n",
    "reg.ajustar(X_amostra, y_amostra)\n",
    "# traçando os pontos e reta anterior\n",
    "plt.scatter(X_amostra, y_amostra)\n",
    "plt.plot(X_amostra, reg.predizer(X_amostra),\n",
    "         linewidth=3)\n",
    "\n",
    "ridge = RegressaoLinearRidge(alpha=0.04)\n",
    "ridge.ajustar(X_outlier, y_outlier)\n",
    "# traçando o outlier e a nova reta\n",
    "plt.scatter(X_outlier[-1:], y_outlier[-1:])\n",
    "plt.plot(X_outlier, ridge.predizer(X_outlier),\n",
    "         linewidth=3)"
   ]
  }
 ],
 "metadata": {
  "kernelspec": {
   "display_name": "Python 3",
   "language": "python",
   "name": "python3"
  },
  "language_info": {
   "codemirror_mode": {
    "name": "ipython",
    "version": 3
   },
   "file_extension": ".py",
   "mimetype": "text/x-python",
   "name": "python",
   "nbconvert_exporter": "python",
   "pygments_lexer": "ipython3",
   "version": "3.5.2"
  }
 },
 "nbformat": 4,
 "nbformat_minor": 1
}
