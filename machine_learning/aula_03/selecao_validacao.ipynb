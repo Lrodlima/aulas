{
 "cells": [
  {
   "cell_type": "code",
   "execution_count": 1,
   "metadata": {
    "collapsed": true
   },
   "outputs": [],
   "source": [
    "# macro do ipython para rederizar o matplotlib inline\n",
    "%matplotlib inline\n",
    "\n",
    "# numpy é uma biblioteca de python que \n",
    "# nos permite fazer operações matriciais e vetoriais\n",
    "# facilmente, e eficientemente (até um certo tamanho)\n",
    "import numpy as np\n",
    "\n",
    "import matplotlib.pyplot as plt\n",
    "\n",
    "from pylab import rcParams\n",
    "rcParams['figure.figsize'] = 15, 10\n",
    "\n",
    "import time\n",
    "\n",
    "import warnings\n",
    "warnings.filterwarnings('ignore')"
   ]
  },
  {
   "cell_type": "markdown",
   "metadata": {},
   "source": [
    "## Objetivo\n",
    "\n"
   ]
  },
  {
   "cell_type": "markdown",
   "metadata": {},
   "source": [
    "### Carregando conjunto de dados\n",
    "\n",
    "Vamos utilizar o mesmo conjunto de dados do notebook do SVM (aula_01). O conjunto de dados 20 newsgroups disponível no scikit-learn. Esse conjunto de dados possui aproximadamente 18000 newsgroups posts categorizados em 20 tópicos dividos em dois conjuntos: um para treino e outro para teste (em outras palavras, para avaliação de desempenho do modelo). A divisão entre conjunto de treino e teste basedo em mensagens postadas antes e depois uma data específica.\n",
    "\n",
    "\n",
    "Vamos então carregá-lo e fazer a transformação para espaço vetorial como **bag-of-words** usando o scikit-learn."
   ]
  },
  {
   "cell_type": "code",
   "execution_count": 2,
   "metadata": {
    "collapsed": false
   },
   "outputs": [
    {
     "name": "stdout",
     "output_type": "stream",
     "text": [
      "N. de Exmplos de Treino: 11314; N. de Atributos: 39115\n",
      "N. de Exmplos de Teste: 7532; N. de Atributos: 39115\n"
     ]
    }
   ],
   "source": [
    "from sklearn.datasets import fetch_20newsgroups\n",
    "from sklearn.feature_extraction.text import CountVectorizer\n",
    "\n",
    "train_20ng = fetch_20newsgroups(subset='train', shuffle=True, remove=('headers', 'quotes', 'footers'))\n",
    "test_20ng = fetch_20newsgroups(subset='test', shuffle=True, remove=('headers', 'quotes', 'footers'))\n",
    "\n",
    "# transforma dados textuais em uma representação vetorial usando\n",
    "# bag-of-words\n",
    "vec = CountVectorizer(stop_words='english', min_df=2)\n",
    "\n",
    "X_train = vec.fit_transform(train_20ng.data)\n",
    "y_train = train_20ng.target\n",
    "\n",
    "X_test = vec.transform(test_20ng.data)\n",
    "y_test = test_20ng.target\n",
    "\n",
    "print(\"N. de Exmplos de Treino: %d; N. de Atributos: %d\" % X_train.shape)\n",
    "print(\"N. de Exmplos de Teste: %d; N. de Atributos: %d\" % X_test.shape)"
   ]
  },
  {
   "cell_type": "markdown",
   "metadata": {},
   "source": [
    "## Holdout\n",
    "\n",
    "Vamos utilizar a técnica holdout para selecionar o parâmetro C do svm, profundidae máxima de um àrvore de Decisão, e o hiperparâmetro da regressão logística. Lembre-se que no holdout nós dividimos o conjunto de dados em 3 conjuntos distintos, um para treino (avaliação de performance), validação (seleção do modelo/parâmetros) e treino.\n",
    "\n",
    "O scikit já divide o conjunto de dados em treino e teste, como pode ser notado acima. Desse modo vamos apenas dividir o conjunto de treino em dois (validação e treino)."
   ]
  },
  {
   "cell_type": "code",
   "execution_count": 3,
   "metadata": {
    "collapsed": false
   },
   "outputs": [],
   "source": [
    "from sklearn.model_selection import train_test_split\n",
    "X_train_aux, X_valid, y_train_aux, y_valid = train_test_split(X_train, y_train, test_size=0.4, random_state=0)"
   ]
  },
  {
   "cell_type": "markdown",
   "metadata": {},
   "source": [
    "Quais valores de C escolher? Então, testar todos os valores de C pode ser inviável. Desse modo nós podemos chutar alguns valores que façam sentidos. Por exemplos, valores pequenos, médio e grandes, e assim testá-los."
   ]
  },
  {
   "cell_type": "code",
   "execution_count": 4,
   "metadata": {
    "collapsed": false
   },
   "outputs": [
    {
     "data": {
      "text/plain": [
       "array([ 0.00024414,  0.00029033,  0.00034527,  0.00041059,  0.00048828,\n",
       "        0.00058067,  0.00069053,  0.00082119,  0.00097656,  0.00116134,\n",
       "        0.00138107,  0.00164238,  0.00195312,  0.00232267,  0.00276214,\n",
       "        0.00328475,  0.00390625,  0.00464534,  0.00552427,  0.0065695 ,\n",
       "        0.0078125 ,  0.00929068,  0.01104854,  0.01313901,  0.015625  ,\n",
       "        0.01858136,  0.02209709,  0.02627801,  0.03125   ,  0.03716272,\n",
       "        0.04419417,  0.05255603,  0.0625    ,  0.07432544,  0.08838835,\n",
       "        0.10511205,  0.125     ,  0.14865089,  0.1767767 ,  0.2102241 ])"
      ]
     },
     "execution_count": 4,
     "metadata": {},
     "output_type": "execute_result"
    }
   ],
   "source": [
    "Cs = 2. ** np.arange(-12, -2, 0.25)\n",
    "Cs"
   ]
  },
  {
   "cell_type": "markdown",
   "metadata": {},
   "source": [
    "Desse modo, para cada valor de C vamos aprender um modelo usando nosso ```X_train_aux``` e então avaliá-lo usando alguma métrica e o valores preditos no conjunto de ```X_valid```."
   ]
  },
  {
   "cell_type": "code",
   "execution_count": 5,
   "metadata": {
    "collapsed": false
   },
   "outputs": [
    {
     "name": "stdout",
     "output_type": "stream",
     "text": [
      "Melhor F1 : 0.713817; Melhor C : 0.011049\n"
     ]
    }
   ],
   "source": [
    "from sklearn.svm import LinearSVC\n",
    "from sklearn.metrics import f1_score\n",
    "from sklearn.base import clone\n",
    "\n",
    "svm = LinearSVC(random_state=0)\n",
    "\n",
    "def holdout(clf, param_valores):\n",
    "    best_score = 0\n",
    "    best_param = 0\n",
    "    for param, valores in param_valores.items():\n",
    "        resultados = np.zeros((valores.shape[0], 4))\n",
    "        \n",
    "        # Para cada valor dos hiperparâmetro\n",
    "        # nós criamos um modelo diferente com \n",
    "        # conjunto de treino auxiliar. \n",
    "        # Após termos o modelo com tal parâmetro,\n",
    "        # fazemos a predição no conjunto de validação\n",
    "        # e utilizamos alguma métrica para\n",
    "        # obtermos um score para aquele método, e então,\n",
    "        # escolher o paramêtro (ou conjunto de parâmetros)\n",
    "        # gerou o modelo com maior score.\n",
    "        for i, val in enumerate(valores):\n",
    "            # clonando classificador e atribuindo o parametro\n",
    "            classificador = clone(clf)\n",
    "            classificador.set_params(**{param: val})\n",
    "            \n",
    "            # aprendendo um modelo baseado no conjunto de treino auxiliar\n",
    "            classificador.fit(X_train_aux, y_train_aux)\n",
    "            \n",
    "            # predição baseada no conjunto de validação\n",
    "            y_pred = classificador.predict(X_valid)\n",
    "\n",
    "            # score para avaliação do modelo.\n",
    "            score = f1_score(y_valid, y_pred, average=\"macro\")\n",
    "\n",
    "            # melhor parâmetro de acordo com score\n",
    "            if best_score < score:\n",
    "                best_score = score\n",
    "                best_param = val\n",
    "\n",
    "            # score no conjunto de validação, treino e teste para cada um dos valores do parâmetro\n",
    "            # vamos utilizar isso para traçar a curva do compromisso viés e variância\n",
    "            resultados[i, 0] = val\n",
    "            resultados[i, 1] = 1 - score\n",
    "            resultados[i, 2] = 1 - f1_score(y_train_aux, classificador.predict(X_train_aux), average=\"macro\")\n",
    "            resultados[i, 3] = 1 - f1_score(y_test, classificador.predict(X_test), average=\"macro\")\n",
    "        \n",
    "    \n",
    "    print(\"Melhor F1 : %f; Melhor %s : %f\" % (best_score, param, best_param))\n",
    "    return resultados, best_score, best_param\n",
    "\n",
    "resultados, best_score, best_param = holdout(svm, {'C': Cs})           "
   ]
  },
  {
   "cell_type": "code",
   "execution_count": 6,
   "metadata": {
    "collapsed": false
   },
   "outputs": [
    {
     "name": "stdout",
     "output_type": "stream",
     "text": [
      "F1 no Teste: 0.645750\n"
     ]
    }
   ],
   "source": [
    "svm.set_params(**{'C': best_param})\n",
    "svm.fit(X_train, y_train)\n",
    "y_pred = svm.predict(X_test)\n",
    "\n",
    "score = f1_score(y_test, y_pred, average=\"macro\")\n",
    "print(\"F1 no Teste: %f\" % (score))"
   ]
  },
  {
   "cell_type": "code",
   "execution_count": 7,
   "metadata": {
    "collapsed": false
   },
   "outputs": [
    {
     "name": "stdout",
     "output_type": "stream",
     "text": [
      "F1 no Teste: 0.713817\n"
     ]
    }
   ],
   "source": [
    "svm.set_params(**{'C': best_param})\n",
    "svm.fit(X_train_aux, y_train_aux)\n",
    "y_pred = svm.predict(X_valid)\n",
    "\n",
    "score = f1_score(y_valid, y_pred, average=\"macro\")\n",
    "print(\"F1 no Teste: %f\" % (score))"
   ]
  },
  {
   "cell_type": "code",
   "execution_count": 8,
   "metadata": {
    "collapsed": false
   },
   "outputs": [
    {
     "data": {
      "image/png": "[encoded data removed]",
      "text/plain": [
       "<matplotlib.figure.Figure at 0x7f72bb9b9710>"
      ]
     },
     "metadata": {},
     "output_type": "display_data"
    }
   ],
   "source": [
    "def plot_bias_variance_tradeoff(resultados, param, labels, best_param = None):\n",
    "    for j in range(resultados.shape[1] - 1):\n",
    "        plt.plot(resultados[:, 0], resultados[:, j + 1],\n",
    "                 linewidth=3., label=labels[j])\n",
    "    if best_param:\n",
    "        plt.plot([best_param, best_param], [resultados[:,1:].min(), resultados[:,1:].max()],\n",
    "                 linewidth=1)\n",
    "    plt.xlabel(param)\n",
    "    plt.ylabel(\"Erro\")\n",
    "    plt.legend(loc=\"best\")\n",
    "        \n",
    "labels = ['Validação', 'Treino', 'Teste']\n",
    "plot_bias_variance_tradeoff(resultados, \"C\", labels, best_param)"
   ]
  },
  {
   "cell_type": "code",
   "execution_count": 9,
   "metadata": {
    "collapsed": false
   },
   "outputs": [
    {
     "name": "stdout",
     "output_type": "stream",
     "text": [
      "Melhor F1 : 0.471080; Melhor max_depth : 200.000000\n"
     ]
    }
   ],
   "source": [
    "from sklearn.tree import DecisionTreeClassifier\n",
    "dt = DecisionTreeClassifier(random_state=0, max_features=1.0)\n",
    "\n",
    "profundidades = np.array([1, 5, 8, 25] + list(range(50, 130, 10)) + [200, 250, 300, 350, 500, 800, 1000])\n",
    "\n",
    "resultados, best_score, best_param = holdout(dt, {'max_depth': profundidades})"
   ]
  },
  {
   "cell_type": "code",
   "execution_count": 10,
   "metadata": {
    "collapsed": false
   },
   "outputs": [
    {
     "data": {
      "image/png": "[encoded data removed]",
      "text/plain": [
       "<matplotlib.figure.Figure at 0x7f72bb910668>"
      ]
     },
     "metadata": {},
     "output_type": "display_data"
    }
   ],
   "source": [
    "plot_bias_variance_tradeoff(resultados, \"profundidade\", labels, best_param)"
   ]
  },
  {
   "cell_type": "code",
   "execution_count": 11,
   "metadata": {
    "collapsed": false
   },
   "outputs": [
    {
     "name": "stdout",
     "output_type": "stream",
     "text": [
      "Melhor F1 : 0.701559; Melhor C : 0.297302\n"
     ]
    },
    {
     "data": {
      "image/png": "[encoded data removed]",
      "text/plain": [
       "<matplotlib.figure.Figure at 0x7f72bbe01668>"
      ]
     },
     "metadata": {},
     "output_type": "display_data"
    }
   ],
   "source": [
    "from sklearn.linear_model import LogisticRegression\n",
    "lreg = LogisticRegression(random_state=0, dual=True, n_jobs=-1)\n",
    "\n",
    "Cs = 2. ** np.arange(-8, 2, 0.25)\n",
    "\n",
    "resultados, best_score, best_param = holdout(lreg, {'C': Cs})\n",
    "plot_bias_variance_tradeoff(resultados, \"C\", labels, best_param)"
   ]
  },
  {
   "cell_type": "markdown",
   "metadata": {},
   "source": [
    "## Leave-one-out e Validação Cruzada"
   ]
  },
  {
   "cell_type": "code",
   "execution_count": 15,
   "metadata": {
    "collapsed": false
   },
   "outputs": [
    {
     "name": "stdout",
     "output_type": "stream",
     "text": [
      "Melhor F1 : 0.682743; Tempo : 634.30\n"
     ]
    }
   ],
   "source": [
    "from sklearn.model_selection import LeaveOneOut\n",
    "from sklearn.naive_bayes import MultinomialNB\n",
    "\n",
    "\n",
    "nb = MultinomialNB()\n",
    "\n",
    "inicio = time.time()\n",
    "\n",
    "loo = LeaveOneOut()\n",
    "y_pred = np.zeros((X_train.shape[0]))\n",
    "for index_train, index_valid in loo.split(X_train):\n",
    "    X_train_aux, X_valid = X_train[index_train], X_train[index_valid]\n",
    "    y_train_aux, y_valid = y_train[index_train], y_train[index_valid]\n",
    "    \n",
    "    nb.fit(X_train_aux, y_train_aux)\n",
    "    y_pred[index_valid] = nb.predict(X_valid)\n",
    "    \n",
    "fim = time.time()\n",
    "print(\"Melhor F1 : %f; Tempo : %.2f\" % (f1_score(y_train, y_pred, average = \"macro\"), fim - inicio))"
   ]
  },
  {
   "cell_type": "code",
   "execution_count": 16,
   "metadata": {
    "collapsed": false
   },
   "outputs": [
    {
     "name": "stdout",
     "output_type": "stream",
     "text": [
      "Melhor F1 : 0.617725;\n"
     ]
    }
   ],
   "source": [
    "print(\"Melhor F1 : %f;\" % (f1_score(y_test, nb.predict(X_test), average = \"macro\")))"
   ]
  },
  {
   "cell_type": "markdown",
   "metadata": {},
   "source": [
    "Leave-one-out é inviável quando temos muitos dados. Eu só estou utilizando para estimar o erro em teste, mesmo assim demora um tempão. Note que eu estou usando o naïve bayes para isso e ele é um dos métodos com processo de aprendizado mais rápido, portanto, é possível enxergar que esse método fosse utilizado para escolher o valor do hiperparâmetro serio praticamente impossível obtê-lo em um tempo aceitável.\n",
    "\n",
    "O leave-one-out é um caso especial da validação cruzada (cross-validation), quando temos N conjuntos disjuntos. Na estratégia da validação cruzada, nós divitimos o conjunto de treino em K conjuntos de tamanho similar e disjuntos, chamados de ***Folds*** (**K-Fold Cross-Validation**). Modelo é aprendido utilizando K - 1 *folds*, o *fold* deixado de fora do treino é utilizado para predição e avaliação do modelo. Esse processo é repetido K vezes para que cada *fold* seja usado para predição ao menos uma vez. Avaliação final do modelo é dado pela média das avaliações em cada *fold*. \n",
    "\n",
    "No leave-one-out, nós temos que K = N (quantidade de exemplos no conjunto de treino). \n",
    "\n",
    "T. Hastie, R. Tibshirani, J. Friedman, The Elements of Statistical Learning, Springer 2009"
   ]
  },
  {
   "cell_type": "code",
   "execution_count": 17,
   "metadata": {
    "collapsed": false,
    "scrolled": true
   },
   "outputs": [],
   "source": [
    "from sklearn.model_selection import validation_curve, KFold\n",
    "\n",
    "ordered = np.argsort(y_train)\n",
    "\n",
    "Cs = 2. ** np.arange(-12, -2, 0.5)\n",
    "cv = KFold(n_splits = 5)\n",
    "train_scores, valid_scores = validation_curve(svm, X_train[ordered], y_train[ordered], 'C', Cs, cv=cv, n_jobs=-1, scoring='f1_macro')"
   ]
  },
  {
   "cell_type": "code",
   "execution_count": 18,
   "metadata": {
    "collapsed": false
   },
   "outputs": [
    {
     "name": "stdout",
     "output_type": "stream",
     "text": [
      "Melhor F1 : 0.034772; Melhor C : 0.031250\n"
     ]
    },
    {
     "data": {
      "image/png": "[encoded data removed]",
      "text/plain": [
       "<matplotlib.figure.Figure at 0x7f72bb5ea518>"
      ]
     },
     "metadata": {},
     "output_type": "display_data"
    }
   ],
   "source": [
    "mean_valid_score = valid_scores.mean(1)\n",
    "mean_train_score = train_scores.mean(1)\n",
    "\n",
    "best_param_index = np.argmax(mean_valid_score)\n",
    "\n",
    "print(\"Melhor F1 : %f; Melhor C : %f\" % (mean_valid_score[best_param_index], Cs[best_param_index]))\n",
    "\n",
    "resultados = np.vstack((Cs, 1 - mean_valid_score, 1 - mean_train_score)).T\n",
    "\n",
    "plot_bias_variance_tradeoff(resultados, \"C\", labels, Cs[best_param_index])"
   ]
  },
  {
   "cell_type": "code",
   "execution_count": 19,
   "metadata": {
    "collapsed": false,
    "scrolled": false
   },
   "outputs": [
    {
     "name": "stdout",
     "output_type": "stream",
     "text": [
      "Melhor F1 : 0.718373; Melhor C : 0.011049\n"
     ]
    },
    {
     "data": {
      "image/png": "[encoded data removed]",
      "text/plain": [
       "<matplotlib.figure.Figure at 0x7f72bb5d4518>"
      ]
     },
     "metadata": {},
     "output_type": "display_data"
    }
   ],
   "source": [
    "cv = KFold(n_splits = 5)\n",
    "train_scores, valid_scores = validation_curve(svm, X_train, y_train, 'C', Cs, cv=cv, n_jobs=-1, scoring='f1_macro')\n",
    "\n",
    "mean_valid_score = valid_scores.mean(1)\n",
    "mean_train_score = train_scores.mean(1)\n",
    "\n",
    "best_param_index = np.argmax(mean_valid_score)\n",
    "\n",
    "print(\"Melhor F1 : %f; Melhor C : %f\" % (mean_valid_score[best_param_index], Cs[best_param_index]))\n",
    "\n",
    "resultados = np.vstack((Cs, 1 - mean_valid_score, 1 - mean_train_score)).T\n",
    "plot_bias_variance_tradeoff(resultados, \"C\", labels, Cs[best_param_index])"
   ]
  },
  {
   "cell_type": "code",
   "execution_count": 20,
   "metadata": {
    "collapsed": false
   },
   "outputs": [
    {
     "name": "stdout",
     "output_type": "stream",
     "text": [
      "Melhor F1 : 0.724111; Melhor C : 0.011049\n"
     ]
    },
    {
     "data": {
      "image/png": "[encoded data removed]",
      "text/plain": [
       "<matplotlib.figure.Figure at 0x7f72bb5ec978>"
      ]
     },
     "metadata": {},
     "output_type": "display_data"
    }
   ],
   "source": [
    "Cs = 2. ** np.arange(-12, -2, 0.5)\n",
    "cv = KFold(n_splits = 10)\n",
    "train_scores, valid_scores = validation_curve(svm, X_train, y_train, 'C', Cs, cv=cv, n_jobs=-1, scoring='f1_macro')\n",
    "\n",
    "mean_valid_score = valid_scores.mean(1)\n",
    "mean_train_score = train_scores.mean(1)\n",
    "\n",
    "best_param_index = np.argmax(mean_valid_score)\n",
    "\n",
    "print(\"Melhor F1 : %f; Melhor C : %f\" % (mean_valid_score[best_param_index], Cs[best_param_index]))\n",
    "\n",
    "resultados = np.vstack((Cs, 1 - mean_valid_score, 1 - mean_train_score)).T\n",
    "plot_bias_variance_tradeoff(resultados, \"C\", labels, Cs[best_param_index])"
   ]
  },
  {
   "cell_type": "markdown",
   "metadata": {},
   "source": [
    "### Calibrando mais de um hiperparâmetro\n",
    "\n",
    "E quando o modelo possui mais de um hiperparâmetro, como fazer a calibragem?\n",
    "\n",
    "- Fazer a calibragem individual de cada um deles, sempre escolhendo o melhor valor para cada hiperparâmetro individual.\n",
    "  \n",
    "  - Não leva em consideração que os hiperparâmtros podem afetar uns aos outros\n",
    "  - Menos custo\n",
    "  \n",
    "- Usar um tática força bruta, e tentar todas as combinações de hiperparâmetros. Essa técnica é conhecida como GridSearch\n",
    "  - Pode ser muito custosa computacionalmente\n",
    "\n",
    "- Fazer uma exploração aleatória em busca dos melhores valores\n",
    "  - Computanionalmente melhor que GridSearch, porém pode ser resultar em o modelo pior que usando a técnica do GridSearch.\n",
    "    \n",
    "  \n",
    "Scikit-learn nos oferece formas simples tanto de fazer um gridsearch quanto fazer uma busca aleatória, respectivamente com os modulos, **GridSearchCV** e **RandomizedSearchCV**."
   ]
  },
  {
   "cell_type": "code",
   "execution_count": 21,
   "metadata": {
    "collapsed": false
   },
   "outputs": [
    {
     "data": {
      "text/plain": [
       "LinearSVC(C=0.011048543456039806, class_weight=None, dual=True,\n",
       "     fit_intercept=True, intercept_scaling=1, loss='squared_hinge',\n",
       "     max_iter=1000, multi_class='ovr', penalty='l2', random_state=0,\n",
       "     tol=0.0001, verbose=0)"
      ]
     },
     "execution_count": 21,
     "metadata": {},
     "output_type": "execute_result"
    }
   ],
   "source": [
    "\"\"\"http://scikit-learn.org/stable/modules/generated/sklearn.svm.LinearSVC.html\"\"\"\n",
    "svm"
   ]
  },
  {
   "cell_type": "markdown",
   "metadata": {},
   "source": [
    "Além do hiperparâmetro C, a implementação do SVM linear disponibilizada pelo Scikit-learn tem outros parâmetros que influenciam o aprendizado do modelo, e portanto, sua predição final. Dessa forma, podemos calibrá-los juntamente com C.\n",
    "\n",
    "Vamos então fazer isso utilizando o  **GridSearchCV** e **RandomizedSearchCV** do scikit."
   ]
  },
  {
   "cell_type": "code",
   "execution_count": 22,
   "metadata": {
    "collapsed": false,
    "scrolled": true
   },
   "outputs": [
    {
     "name": "stdout",
     "output_type": "stream",
     "text": [
      "Fitting 10 folds for each of 40 candidates, totalling 400 fits\n"
     ]
    },
    {
     "name": "stderr",
     "output_type": "stream",
     "text": [
      "[Parallel(n_jobs=-1)]: Done  34 tasks      | elapsed:   21.9s\n",
      "[Parallel(n_jobs=-1)]: Done 184 tasks      | elapsed:  1.9min\n",
      "[Parallel(n_jobs=-1)]: Done 400 out of 400 | elapsed:  5.3min finished\n"
     ]
    },
    {
     "data": {
      "text/plain": [
       "GridSearchCV(cv=KFold(n_splits=10, random_state=None, shuffle=False),\n",
       "       error_score='raise',\n",
       "       estimator=LinearSVC(C=0.011048543456039806, class_weight=None, dual=True,\n",
       "     fit_intercept=True, intercept_scaling=1, loss='squared_hinge',\n",
       "     max_iter=1000, multi_class='ovr', penalty='l2', random_state=0,\n",
       "     tol=0.0001, verbose=0),\n",
       "       fit_params={}, iid=True, n_jobs=-1,\n",
       "       param_grid={'C': array([ 0.00024,  0.00035,  0.00049,  0.00069,  0.00098,  0.00138,\n",
       "        0.00195,  0.00276,  0.00391,  0.00552,  0.00781,  0.01105,\n",
       "        0.01562,  0.0221 ,  0.03125,  0.04419,  0.0625 ,  0.08839,\n",
       "        0.125  ,  0.17678]), 'class_weight': [None, 'balanced']},\n",
       "       pre_dispatch='2*n_jobs', refit=True, return_train_score=True,\n",
       "       scoring='f1_macro', verbose=1)"
      ]
     },
     "execution_count": 22,
     "metadata": {},
     "output_type": "execute_result"
    }
   ],
   "source": [
    "from sklearn.model_selection import  GridSearchCV, RandomizedSearchCV\n",
    "\n",
    "param_grid = {\n",
    "    'C': 2. ** np.arange(-12, -2, 0.5),\n",
    "    'class_weight': [None, 'balanced'],\n",
    "             }\n",
    "grid = GridSearchCV(svm, param_grid, scoring='f1_macro', cv=cv, n_jobs=-1, verbose=1)\n",
    "\n",
    "grid.fit(X_train, y_train)"
   ]
  },
  {
   "cell_type": "code",
   "execution_count": 23,
   "metadata": {
    "collapsed": false
   },
   "outputs": [
    {
     "name": "stdout",
     "output_type": "stream",
     "text": [
      "Melhores parâmetros: {'C': 0.011048543456039806, 'class_weight': 'balanced'}; Melhor F1: 0.725747\n",
      "Teste F1: 0.646023\n"
     ]
    }
   ],
   "source": [
    "print(\"Melhores parâmetros: %s; Melhor F1: %f\" % (grid.best_params_, grid.best_score_))\n",
    "print(\"Teste F1: %f\" % (f1_score(y_test, grid.predict(X_test), average='macro')))"
   ]
  },
  {
   "cell_type": "code",
   "execution_count": 24,
   "metadata": {
    "collapsed": false,
    "scrolled": true
   },
   "outputs": [
    {
     "name": "stdout",
     "output_type": "stream",
     "text": [
      "Fitting 10 folds for each of 10 candidates, totalling 100 fits\n"
     ]
    },
    {
     "name": "stderr",
     "output_type": "stream",
     "text": [
      "[Parallel(n_jobs=-1)]: Done  34 tasks      | elapsed:   22.8s\n",
      "[Parallel(n_jobs=-1)]: Done 100 out of 100 | elapsed:  1.4min finished\n"
     ]
    },
    {
     "data": {
      "text/plain": [
       "RandomizedSearchCV(cv=KFold(n_splits=10, random_state=None, shuffle=False),\n",
       "          error_score='raise',\n",
       "          estimator=LinearSVC(C=0.011048543456039806, class_weight=None, dual=True,\n",
       "     fit_intercept=True, intercept_scaling=1, loss='squared_hinge',\n",
       "     max_iter=1000, multi_class='ovr', penalty='l2', random_state=0,\n",
       "     tol=0.0001, verbose=0),\n",
       "          fit_params={}, iid=True, n_iter=10, n_jobs=-1,\n",
       "          param_distributions={'C': array([ 0.00024,  0.00049,  0.00098,  0.00195,  0.00391,  0.00781,\n",
       "        0.01562,  0.03125,  0.0625 ,  0.125  ]), 'class_weight': [None]},\n",
       "          pre_dispatch='2*n_jobs', random_state=0, refit=True,\n",
       "          return_train_score=True, scoring='f1_macro', verbose=1)"
      ]
     },
     "execution_count": 24,
     "metadata": {},
     "output_type": "execute_result"
    }
   ],
   "source": [
    "from sklearn.model_selection import  GridSearchCV, RandomizedSearchCV\n",
    "\n",
    "param_grid = {\n",
    "    'C': 2. ** np.arange(-12, -2, 1.),\n",
    "    'class_weight': [None],\n",
    "             }\n",
    "rand = RandomizedSearchCV(svm, param_grid, scoring='f1_macro', cv=cv, n_jobs=-1, verbose=1, random_state=0)\n",
    "\n",
    "rand.fit(X_train, y_train)"
   ]
  },
  {
   "cell_type": "code",
   "execution_count": 25,
   "metadata": {
    "collapsed": false
   },
   "outputs": [
    {
     "name": "stdout",
     "output_type": "stream",
     "text": [
      "Melhores parâmetros: {'C': 0.015625, 'class_weight': None}; Melhor F1: 0.723448\n",
      "Teste F1: 0.643069\n"
     ]
    }
   ],
   "source": [
    "print(\"Melhores parâmetros: %s; Melhor F1: %f\" % (rand.best_params_, rand.best_score_))\n",
    "print(\"Teste F1: %f\" % (f1_score(y_test, rand.predict(X_test), average='macro')))"
   ]
  },
  {
   "cell_type": "markdown",
   "metadata": {},
   "source": [
    "Além do hiperparâmetros do algoritmo de aprendizado de máquinas, outros fatores influenciam no aprendizado de um determinado modelo. Esse fatores podem ser, os atributos e as transformações que fazemos nos atributos, os kernels do svm e assim por diante. Nesse contexto, vamos mostrar como construir um pipeline para seleção de atributos, criação e enriquecimento de atributos. E isso tudo nós temos de escolher empiricamente, e cada combinação desse fatores gerará um modelo distinto e devemos escolher o melhor dentre eles para nós colocarmos em produção.\n",
    "\n",
    "\n",
    "Ainda no contexto de classificação de textual vamos então escolher os melhores atributos, enriquecer e criar novos atributos na esperança de melhorar obtermos modelos melhores.\n",
    "\n",
    "# Pipeline\n",
    "\n",
    "Vamos uma funcionalidade do scikit muito boa na prática, conhecida como pipeline.\n",
    "\n",
    "Com esse módulo podemos criar todo fluxo de transformações antes de passar os dados para o algortimo, e com isso conseguimos escolher a melhor representação para os nosso dados e os hiperparâmetros de nosso modelo."
   ]
  },
  {
   "cell_type": "code",
   "execution_count": 26,
   "metadata": {
    "collapsed": false
   },
   "outputs": [
    {
     "data": {
      "text/plain": [
       "Pipeline(steps=[('countvectorizer', CountVectorizer(analyzer='word', binary=False, decode_error='strict',\n",
       "        dtype=<class 'numpy.int64'>, encoding='utf-8', input='content',\n",
       "        lowercase=True, max_df=1.0, max_features=None, min_df=2,\n",
       "        ngram_range=(1, 1), preprocessor=None, stop_words='english..., max_iter=1000,\n",
       "     multi_class='ovr', penalty='l2', random_state=0, tol=0.0001,\n",
       "     verbose=0))])"
      ]
     },
     "execution_count": 26,
     "metadata": {},
     "output_type": "execute_result"
    }
   ],
   "source": [
    "from sklearn.pipeline import make_pipeline\n",
    "from sklearn.feature_extraction.text import TfidfTransformer\n",
    "\n",
    "# Vamos criar o nosso fluxo de execução\n",
    "pipe = make_pipeline(\n",
    "    CountVectorizer(stop_words='english', min_df=2),\n",
    "    TfidfTransformer(norm='l2', use_idf=True, smooth_idf=True, sublinear_tf=False),\n",
    "    LinearSVC(dual=True, random_state = 0)\n",
    ")\n",
    "\n",
    "pipe"
   ]
  },
  {
   "cell_type": "code",
   "execution_count": 27,
   "metadata": {
    "collapsed": false,
    "scrolled": false
   },
   "outputs": [
    {
     "name": "stdout",
     "output_type": "stream",
     "text": [
      "Fitting 5 folds for each of 10 candidates, totalling 50 fits\n"
     ]
    },
    {
     "name": "stderr",
     "output_type": "stream",
     "text": [
      "[Parallel(n_jobs=-1)]: Done  34 tasks      | elapsed:   46.9s\n",
      "[Parallel(n_jobs=-1)]: Done  50 out of  50 | elapsed:  1.2min finished\n"
     ]
    },
    {
     "data": {
      "text/plain": [
       "RandomizedSearchCV(cv=StratifiedKFold(n_splits=5, random_state=0, shuffle=False),\n",
       "          error_score='raise',\n",
       "          estimator=Pipeline(steps=[('countvectorizer', CountVectorizer(analyzer='word', binary=False, decode_error='strict',\n",
       "        dtype=<class 'numpy.int64'>, encoding='utf-8', input='content',\n",
       "        lowercase=True, max_df=1.0, max_features=None, min_df=2,\n",
       "        ngram_range=(1, 1), preprocessor=None, stop_words='english..., max_iter=1000,\n",
       "     multi_class='ovr', penalty='l2', random_state=0, tol=0.0001,\n",
       "     verbose=0))]),\n",
       "          fit_params={}, iid=True, n_iter=10, n_jobs=-1,\n",
       "          param_distributions={'tfidftransformer__norm': [None, 'l2', 'max', 'l1'], 'linearsvc__class_weight': [None, 'balanced'], 'linearsvc__C': array([ 0.03125,  0.0625 ,  0.125  ,  0.25   ,  0.5    ,  1.     ,\n",
       "        2.     ,  4.     ])},\n",
       "          pre_dispatch='2*n_jobs', random_state=0, refit=True,\n",
       "          return_train_score=True, scoring='f1_macro', verbose=1)"
      ]
     },
     "execution_count": 27,
     "metadata": {},
     "output_type": "execute_result"
    }
   ],
   "source": [
    "from sklearn.model_selection import StratifiedKFold\n",
    "\n",
    "param_grid = { \n",
    "    'tfidftransformer__norm': [None, 'l2', 'max', 'l1'],\n",
    "    'linearsvc__C': 2. ** np.arange(-5, 3, 1),\n",
    "    'linearsvc__class_weight': [None, 'balanced'],\n",
    "     }\n",
    "\n",
    "rand = RandomizedSearchCV(pipe, param_grid, scoring='f1_macro',\n",
    "                          cv=StratifiedKFold(n_splits=5, shuffle=False, random_state=0),\n",
    "                          n_jobs=-1, verbose=1, random_state=0)\n",
    "\n",
    "rand.fit(train_20ng.data, train_20ng.target)"
   ]
  },
  {
   "cell_type": "code",
   "execution_count": 28,
   "metadata": {
    "collapsed": false
   },
   "outputs": [
    {
     "name": "stdout",
     "output_type": "stream",
     "text": [
      "{'tfidftransformer__norm': 'l2', 'linearsvc__class_weight': None, 'linearsvc__C': 0.5}\n",
      "0.75497869263\n"
     ]
    }
   ],
   "source": [
    "print(rand.best_params_)\n",
    "print(rand.best_score_)"
   ]
  },
  {
   "cell_type": "code",
   "execution_count": 29,
   "metadata": {
    "collapsed": false
   },
   "outputs": [
    {
     "data": {
      "text/plain": [
       "0.68203508152018488"
      ]
     },
     "execution_count": 29,
     "metadata": {},
     "output_type": "execute_result"
    }
   ],
   "source": [
    "y_pred = rand.predict(test_20ng.data)\n",
    "\n",
    "score = f1_score(test_20ng.target, y_pred, average=\"macro\")\n",
    "score"
   ]
  },
  {
   "cell_type": "code",
   "execution_count": 30,
   "metadata": {
    "collapsed": false
   },
   "outputs": [
    {
     "data": {
      "text/html": [
       "<div>\n",
       "<table border=\"1\" class=\"dataframe\">\n",
       "  <thead>\n",
       "    <tr style=\"text-align: right;\">\n",
       "      <th></th>\n",
       "      <th>mean_fit_time</th>\n",
       "      <th>mean_score_time</th>\n",
       "      <th>mean_test_score</th>\n",
       "      <th>mean_train_score</th>\n",
       "      <th>param_linearsvc__C</th>\n",
       "      <th>param_linearsvc__class_weight</th>\n",
       "      <th>param_tfidftransformer__norm</th>\n",
       "      <th>params</th>\n",
       "      <th>rank_test_score</th>\n",
       "      <th>split0_test_score</th>\n",
       "      <th>...</th>\n",
       "      <th>split2_test_score</th>\n",
       "      <th>split2_train_score</th>\n",
       "      <th>split3_test_score</th>\n",
       "      <th>split3_train_score</th>\n",
       "      <th>split4_test_score</th>\n",
       "      <th>split4_train_score</th>\n",
       "      <th>std_fit_time</th>\n",
       "      <th>std_score_time</th>\n",
       "      <th>std_test_score</th>\n",
       "      <th>std_train_score</th>\n",
       "    </tr>\n",
       "  </thead>\n",
       "  <tbody>\n",
       "    <tr>\n",
       "      <th>0</th>\n",
       "      <td>5.866017</td>\n",
       "      <td>0.857290</td>\n",
       "      <td>0.752505</td>\n",
       "      <td>0.974447</td>\n",
       "      <td>1</td>\n",
       "      <td>balanced</td>\n",
       "      <td>l2</td>\n",
       "      <td>{'tfidftransformer__norm': 'l2', 'linearsvc__c...</td>\n",
       "      <td>3</td>\n",
       "      <td>0.741873</td>\n",
       "      <td>...</td>\n",
       "      <td>0.754169</td>\n",
       "      <td>0.974717</td>\n",
       "      <td>0.759400</td>\n",
       "      <td>0.973376</td>\n",
       "      <td>0.762455</td>\n",
       "      <td>0.974282</td>\n",
       "      <td>0.430851</td>\n",
       "      <td>0.131291</td>\n",
       "      <td>0.008038</td>\n",
       "      <td>0.000587</td>\n",
       "    </tr>\n",
       "    <tr>\n",
       "      <th>1</th>\n",
       "      <td>5.130215</td>\n",
       "      <td>0.888266</td>\n",
       "      <td>0.754425</td>\n",
       "      <td>0.958249</td>\n",
       "      <td>0.25</td>\n",
       "      <td>balanced</td>\n",
       "      <td>l2</td>\n",
       "      <td>{'tfidftransformer__norm': 'l2', 'linearsvc__c...</td>\n",
       "      <td>2</td>\n",
       "      <td>0.744454</td>\n",
       "      <td>...</td>\n",
       "      <td>0.757404</td>\n",
       "      <td>0.959228</td>\n",
       "      <td>0.760001</td>\n",
       "      <td>0.957844</td>\n",
       "      <td>0.764275</td>\n",
       "      <td>0.958009</td>\n",
       "      <td>0.407342</td>\n",
       "      <td>0.135726</td>\n",
       "      <td>0.007827</td>\n",
       "      <td>0.000565</td>\n",
       "    </tr>\n",
       "    <tr>\n",
       "      <th>2</th>\n",
       "      <td>10.872061</td>\n",
       "      <td>0.901811</td>\n",
       "      <td>0.713643</td>\n",
       "      <td>0.886801</td>\n",
       "      <td>1</td>\n",
       "      <td>None</td>\n",
       "      <td>l1</td>\n",
       "      <td>{'tfidftransformer__norm': 'l1', 'linearsvc__c...</td>\n",
       "      <td>8</td>\n",
       "      <td>0.714953</td>\n",
       "      <td>...</td>\n",
       "      <td>0.712051</td>\n",
       "      <td>0.889295</td>\n",
       "      <td>0.719177</td>\n",
       "      <td>0.884624</td>\n",
       "      <td>0.723432</td>\n",
       "      <td>0.886264</td>\n",
       "      <td>0.460828</td>\n",
       "      <td>0.120610</td>\n",
       "      <td>0.008427</td>\n",
       "      <td>0.001529</td>\n",
       "    </tr>\n",
       "    <tr>\n",
       "      <th>3</th>\n",
       "      <td>9.327862</td>\n",
       "      <td>0.766807</td>\n",
       "      <td>0.743198</td>\n",
       "      <td>0.975843</td>\n",
       "      <td>4</td>\n",
       "      <td>balanced</td>\n",
       "      <td>l2</td>\n",
       "      <td>{'tfidftransformer__norm': 'l2', 'linearsvc__c...</td>\n",
       "      <td>5</td>\n",
       "      <td>0.724732</td>\n",
       "      <td>...</td>\n",
       "      <td>0.745338</td>\n",
       "      <td>0.975816</td>\n",
       "      <td>0.752723</td>\n",
       "      <td>0.975237</td>\n",
       "      <td>0.756233</td>\n",
       "      <td>0.976106</td>\n",
       "      <td>1.158952</td>\n",
       "      <td>0.100708</td>\n",
       "      <td>0.011348</td>\n",
       "      <td>0.000322</td>\n",
       "    </tr>\n",
       "    <tr>\n",
       "      <th>4</th>\n",
       "      <td>5.659874</td>\n",
       "      <td>0.613149</td>\n",
       "      <td>0.739246</td>\n",
       "      <td>0.975443</td>\n",
       "      <td>0.5</td>\n",
       "      <td>None</td>\n",
       "      <td>max</td>\n",
       "      <td>{'tfidftransformer__norm': 'max', 'linearsvc__...</td>\n",
       "      <td>6</td>\n",
       "      <td>0.728667</td>\n",
       "      <td>...</td>\n",
       "      <td>0.737978</td>\n",
       "      <td>0.975267</td>\n",
       "      <td>0.749068</td>\n",
       "      <td>0.975181</td>\n",
       "      <td>0.747622</td>\n",
       "      <td>0.975570</td>\n",
       "      <td>0.545628</td>\n",
       "      <td>0.096868</td>\n",
       "      <td>0.007994</td>\n",
       "      <td>0.000188</td>\n",
       "    </tr>\n",
       "    <tr>\n",
       "      <th>5</th>\n",
       "      <td>4.262201</td>\n",
       "      <td>0.676865</td>\n",
       "      <td>0.754979</td>\n",
       "      <td>0.969422</td>\n",
       "      <td>0.5</td>\n",
       "      <td>None</td>\n",
       "      <td>l2</td>\n",
       "      <td>{'tfidftransformer__norm': 'l2', 'linearsvc__c...</td>\n",
       "      <td>1</td>\n",
       "      <td>0.741022</td>\n",
       "      <td>...</td>\n",
       "      <td>0.759086</td>\n",
       "      <td>0.969779</td>\n",
       "      <td>0.757185</td>\n",
       "      <td>0.968481</td>\n",
       "      <td>0.767806</td>\n",
       "      <td>0.969646</td>\n",
       "      <td>0.421053</td>\n",
       "      <td>0.112308</td>\n",
       "      <td>0.009022</td>\n",
       "      <td>0.000479</td>\n",
       "    </tr>\n",
       "    <tr>\n",
       "      <th>6</th>\n",
       "      <td>4.514845</td>\n",
       "      <td>0.669099</td>\n",
       "      <td>0.705677</td>\n",
       "      <td>0.862504</td>\n",
       "      <td>0.25</td>\n",
       "      <td>balanced</td>\n",
       "      <td>l1</td>\n",
       "      <td>{'tfidftransformer__norm': 'l1', 'linearsvc__c...</td>\n",
       "      <td>9</td>\n",
       "      <td>0.703400</td>\n",
       "      <td>...</td>\n",
       "      <td>0.701546</td>\n",
       "      <td>0.864279</td>\n",
       "      <td>0.714464</td>\n",
       "      <td>0.861373</td>\n",
       "      <td>0.712267</td>\n",
       "      <td>0.858617</td>\n",
       "      <td>0.337784</td>\n",
       "      <td>0.106420</td>\n",
       "      <td>0.006666</td>\n",
       "      <td>0.002249</td>\n",
       "    </tr>\n",
       "    <tr>\n",
       "      <th>7</th>\n",
       "      <td>13.008737</td>\n",
       "      <td>0.616773</td>\n",
       "      <td>0.589249</td>\n",
       "      <td>0.975973</td>\n",
       "      <td>1</td>\n",
       "      <td>None</td>\n",
       "      <td>None</td>\n",
       "      <td>{'tfidftransformer__norm': None, 'linearsvc__c...</td>\n",
       "      <td>10</td>\n",
       "      <td>0.587464</td>\n",
       "      <td>...</td>\n",
       "      <td>0.601847</td>\n",
       "      <td>0.975852</td>\n",
       "      <td>0.604417</td>\n",
       "      <td>0.975488</td>\n",
       "      <td>0.569717</td>\n",
       "      <td>0.976215</td>\n",
       "      <td>0.720155</td>\n",
       "      <td>0.093265</td>\n",
       "      <td>0.012760</td>\n",
       "      <td>0.000275</td>\n",
       "    </tr>\n",
       "    <tr>\n",
       "      <th>8</th>\n",
       "      <td>4.640763</td>\n",
       "      <td>0.552526</td>\n",
       "      <td>0.744984</td>\n",
       "      <td>0.974378</td>\n",
       "      <td>0.25</td>\n",
       "      <td>None</td>\n",
       "      <td>max</td>\n",
       "      <td>{'tfidftransformer__norm': 'max', 'linearsvc__...</td>\n",
       "      <td>4</td>\n",
       "      <td>0.733719</td>\n",
       "      <td>...</td>\n",
       "      <td>0.741532</td>\n",
       "      <td>0.974716</td>\n",
       "      <td>0.754271</td>\n",
       "      <td>0.973395</td>\n",
       "      <td>0.756775</td>\n",
       "      <td>0.974406</td>\n",
       "      <td>0.614973</td>\n",
       "      <td>0.048491</td>\n",
       "      <td>0.008980</td>\n",
       "      <td>0.000505</td>\n",
       "    </tr>\n",
       "    <tr>\n",
       "      <th>9</th>\n",
       "      <td>9.524363</td>\n",
       "      <td>0.748499</td>\n",
       "      <td>0.717265</td>\n",
       "      <td>0.975959</td>\n",
       "      <td>4</td>\n",
       "      <td>balanced</td>\n",
       "      <td>max</td>\n",
       "      <td>{'tfidftransformer__norm': 'max', 'linearsvc__...</td>\n",
       "      <td>7</td>\n",
       "      <td>0.705639</td>\n",
       "      <td>...</td>\n",
       "      <td>0.722015</td>\n",
       "      <td>0.975816</td>\n",
       "      <td>0.722834</td>\n",
       "      <td>0.975454</td>\n",
       "      <td>0.722831</td>\n",
       "      <td>0.976214</td>\n",
       "      <td>0.608623</td>\n",
       "      <td>0.091338</td>\n",
       "      <td>0.006894</td>\n",
       "      <td>0.000290</td>\n",
       "    </tr>\n",
       "  </tbody>\n",
       "</table>\n",
       "<p>10 rows × 23 columns</p>\n",
       "</div>"
      ],
      "text/plain": [
       "   mean_fit_time  mean_score_time  mean_test_score  mean_train_score  \\\n",
       "0       5.866017         0.857290         0.752505          0.974447   \n",
       "1       5.130215         0.888266         0.754425          0.958249   \n",
       "2      10.872061         0.901811         0.713643          0.886801   \n",
       "3       9.327862         0.766807         0.743198          0.975843   \n",
       "4       5.659874         0.613149         0.739246          0.975443   \n",
       "5       4.262201         0.676865         0.754979          0.969422   \n",
       "6       4.514845         0.669099         0.705677          0.862504   \n",
       "7      13.008737         0.616773         0.589249          0.975973   \n",
       "8       4.640763         0.552526         0.744984          0.974378   \n",
       "9       9.524363         0.748499         0.717265          0.975959   \n",
       "\n",
       "  param_linearsvc__C param_linearsvc__class_weight  \\\n",
       "0                  1                      balanced   \n",
       "1               0.25                      balanced   \n",
       "2                  1                          None   \n",
       "3                  4                      balanced   \n",
       "4                0.5                          None   \n",
       "5                0.5                          None   \n",
       "6               0.25                      balanced   \n",
       "7                  1                          None   \n",
       "8               0.25                          None   \n",
       "9                  4                      balanced   \n",
       "\n",
       "  param_tfidftransformer__norm  \\\n",
       "0                           l2   \n",
       "1                           l2   \n",
       "2                           l1   \n",
       "3                           l2   \n",
       "4                          max   \n",
       "5                           l2   \n",
       "6                           l1   \n",
       "7                         None   \n",
       "8                          max   \n",
       "9                          max   \n",
       "\n",
       "                                              params  rank_test_score  \\\n",
       "0  {'tfidftransformer__norm': 'l2', 'linearsvc__c...                3   \n",
       "1  {'tfidftransformer__norm': 'l2', 'linearsvc__c...                2   \n",
       "2  {'tfidftransformer__norm': 'l1', 'linearsvc__c...                8   \n",
       "3  {'tfidftransformer__norm': 'l2', 'linearsvc__c...                5   \n",
       "4  {'tfidftransformer__norm': 'max', 'linearsvc__...                6   \n",
       "5  {'tfidftransformer__norm': 'l2', 'linearsvc__c...                1   \n",
       "6  {'tfidftransformer__norm': 'l1', 'linearsvc__c...                9   \n",
       "7  {'tfidftransformer__norm': None, 'linearsvc__c...               10   \n",
       "8  {'tfidftransformer__norm': 'max', 'linearsvc__...                4   \n",
       "9  {'tfidftransformer__norm': 'max', 'linearsvc__...                7   \n",
       "\n",
       "   split0_test_score       ...         split2_test_score  split2_train_score  \\\n",
       "0           0.741873       ...                  0.754169            0.974717   \n",
       "1           0.744454       ...                  0.757404            0.959228   \n",
       "2           0.714953       ...                  0.712051            0.889295   \n",
       "3           0.724732       ...                  0.745338            0.975816   \n",
       "4           0.728667       ...                  0.737978            0.975267   \n",
       "5           0.741022       ...                  0.759086            0.969779   \n",
       "6           0.703400       ...                  0.701546            0.864279   \n",
       "7           0.587464       ...                  0.601847            0.975852   \n",
       "8           0.733719       ...                  0.741532            0.974716   \n",
       "9           0.705639       ...                  0.722015            0.975816   \n",
       "\n",
       "   split3_test_score  split3_train_score  split4_test_score  \\\n",
       "0           0.759400            0.973376           0.762455   \n",
       "1           0.760001            0.957844           0.764275   \n",
       "2           0.719177            0.884624           0.723432   \n",
       "3           0.752723            0.975237           0.756233   \n",
       "4           0.749068            0.975181           0.747622   \n",
       "5           0.757185            0.968481           0.767806   \n",
       "6           0.714464            0.861373           0.712267   \n",
       "7           0.604417            0.975488           0.569717   \n",
       "8           0.754271            0.973395           0.756775   \n",
       "9           0.722834            0.975454           0.722831   \n",
       "\n",
       "   split4_train_score  std_fit_time  std_score_time  std_test_score  \\\n",
       "0            0.974282      0.430851        0.131291        0.008038   \n",
       "1            0.958009      0.407342        0.135726        0.007827   \n",
       "2            0.886264      0.460828        0.120610        0.008427   \n",
       "3            0.976106      1.158952        0.100708        0.011348   \n",
       "4            0.975570      0.545628        0.096868        0.007994   \n",
       "5            0.969646      0.421053        0.112308        0.009022   \n",
       "6            0.858617      0.337784        0.106420        0.006666   \n",
       "7            0.976215      0.720155        0.093265        0.012760   \n",
       "8            0.974406      0.614973        0.048491        0.008980   \n",
       "9            0.976214      0.608623        0.091338        0.006894   \n",
       "\n",
       "   std_train_score  \n",
       "0         0.000587  \n",
       "1         0.000565  \n",
       "2         0.001529  \n",
       "3         0.000322  \n",
       "4         0.000188  \n",
       "5         0.000479  \n",
       "6         0.002249  \n",
       "7         0.000275  \n",
       "8         0.000505  \n",
       "9         0.000290  \n",
       "\n",
       "[10 rows x 23 columns]"
      ]
     },
     "execution_count": 30,
     "metadata": {},
     "output_type": "execute_result"
    }
   ],
   "source": [
    "import pandas as pd\n",
    "pd.DataFrame(rand.cv_results_)"
   ]
  },
  {
   "cell_type": "markdown",
   "metadata": {},
   "source": [
    "## Tentando novos atributos\n",
    "\n",
    "Nós iremos utilizar algumas meta atributos propostos [Yang, Y. and Gopal, S. 2012], que é a distância do exemplo ao exemplo médio de cada classe. Vamos utilizar o pipeline e RandomizedSearchCV para encontrar os melhoresvalores de hiperparâmetro e qual é a melhor representação para os conjuntos de dados."
   ]
  },
  {
   "cell_type": "code",
   "execution_count": 31,
   "metadata": {
    "collapsed": false
   },
   "outputs": [],
   "source": [
    "from sklearn.base import TransformerMixin,BaseEstimator\n",
    "\n",
    "from sklearn.neighbors import NearestCentroid\n",
    "from sklearn.metrics.pairwise import cosine_similarity, euclidean_distances, manhattan_distances\n",
    "\n",
    "\"\"\"\n",
    "Yang, Y. and Gopal, S.\n",
    "Multilabel classification with meta-level features in a learning-to-rank framework.\n",
    "Machine Learning, vol. 88, pp. 47–68, 2012\n",
    "\"\"\"\n",
    "class CentroidTransformer(BaseEstimator, TransformerMixin):    \n",
    "    def fit(self, X, y):\n",
    "        self.centroids_ = NearestCentroid().fit(X, y).centroids_\n",
    "        return self\n",
    "    \n",
    "    def transform(self, X):\n",
    "        cos = cosine_similarity(X, self.centroids_)\n",
    "        euc = 1. / (1. + euclidean_distances(X, self.centroids_))\n",
    "        return np.hstack((cos, euc))"
   ]
  },
  {
   "cell_type": "code",
   "execution_count": 32,
   "metadata": {
    "collapsed": false
   },
   "outputs": [
    {
     "name": "stdout",
     "output_type": "stream",
     "text": [
      "Fitting 5 folds for each of 20 candidates, totalling 100 fits\n"
     ]
    },
    {
     "name": "stderr",
     "output_type": "stream",
     "text": [
      "[Parallel(n_jobs=-1)]: Done  34 tasks      | elapsed:  1.5min\n",
      "[Parallel(n_jobs=-1)]: Done 100 out of 100 | elapsed:  3.9min finished\n"
     ]
    },
    {
     "data": {
      "text/plain": [
       "RandomizedSearchCV(cv=StratifiedKFold(n_splits=5, random_state=0, shuffle=False),\n",
       "          error_score='raise',\n",
       "          estimator=Pipeline(steps=[('countvectorizer', CountVectorizer(analyzer='word', binary=False, decode_error='strict',\n",
       "        dtype=<class 'numpy.int64'>, encoding='utf-8', input='content',\n",
       "        lowercase=True, max_df=1.0, max_features=None, min_df=2,\n",
       "        ngram_range=(1, 1), preprocessor=None, stop_words='english..., max_iter=1000,\n",
       "     multi_class='ovr', penalty='l2', random_state=0, tol=0.0001,\n",
       "     verbose=0))]),\n",
       "          fit_params={}, iid=True, n_iter=20, n_jobs=-1,\n",
       "          param_distributions={'tfidftransformer__norm': [None, 'l2', 'max', 'l1'], 'linearsvc__class_weight': [None, 'balanced'], 'featureunion__transformer_list': [[('centroid', CentroidTransformer()), ('tfidf', TfidfTransformer(norm=None, smooth_idf=False, sublinear_tf=False,\n",
       "         use_idf=False))], [('..._C': array([ 0.03125,  0.0625 ,  0.125  ,  0.25   ,  0.5    ,  1.     ,\n",
       "        2.     ,  4.     ])},\n",
       "          pre_dispatch='2*n_jobs', random_state=0, refit=True,\n",
       "          return_train_score=True, scoring='f1_macro', verbose=1)"
      ]
     },
     "execution_count": 32,
     "metadata": {},
     "output_type": "execute_result"
    }
   ],
   "source": [
    "from sklearn.pipeline import FeatureUnion\n",
    "\n",
    "list_features = [('centroid', CentroidTransformer()),\n",
    "                 ('tfidf', TfidfTransformer(norm=None, use_idf=False, smooth_idf=False, sublinear_tf=False))]\n",
    "\n",
    "pipe = make_pipeline(\n",
    "    CountVectorizer(stop_words='english', min_df=2),\n",
    "    TfidfTransformer(norm='l2', use_idf=True, smooth_idf=True, sublinear_tf=False),\n",
    "    FeatureUnion(list_features),\n",
    "    LinearSVC(dual=True, random_state = 0)\n",
    ")\n",
    "\n",
    "param_grid = {\n",
    "    'tfidftransformer__norm': [None, 'l2', 'max', 'l1'],\n",
    "    'linearsvc__C': 2. ** np.arange(-5, 3, 1),\n",
    "    'linearsvc__class_weight': [None, 'balanced'],\n",
    "    'featureunion__transformer_list': [list_features, [list_features[0]], [list_features[1]]]\n",
    "     }\n",
    "\n",
    "rand = RandomizedSearchCV(pipe, param_grid, scoring='f1_macro',\n",
    "                          cv=StratifiedKFold(n_splits=5, shuffle=False, random_state=0),\n",
    "                          n_jobs=-1, verbose=1, random_state=0, n_iter=20)\n",
    "\n",
    "rand.fit(train_20ng.data, train_20ng.target)"
   ]
  },
  {
   "cell_type": "code",
   "execution_count": 33,
   "metadata": {
    "collapsed": false
   },
   "outputs": [
    {
     "name": "stdout",
     "output_type": "stream",
     "text": [
      "{'tfidftransformer__norm': 'l2', 'linearsvc__class_weight': 'balanced', 'featureunion__transformer_list': [('centroid', CentroidTransformer()), ('tfidf', TfidfTransformer(norm=None, smooth_idf=False, sublinear_tf=False,\n",
      "         use_idf=False))], 'linearsvc__C': 0.5}\n",
      "0.756807500774\n"
     ]
    },
    {
     "data": {
      "text/plain": [
       "0.68507292762002936"
      ]
     },
     "execution_count": 33,
     "metadata": {},
     "output_type": "execute_result"
    }
   ],
   "source": [
    "print(rand.best_params_)\n",
    "print(rand.best_score_)\n",
    "\n",
    "y_pred = rand.predict(test_20ng.data)\n",
    "f1_score(test_20ng.target, y_pred, average=\"macro\")"
   ]
  },
  {
   "cell_type": "code",
   "execution_count": 34,
   "metadata": {
    "collapsed": false
   },
   "outputs": [
    {
     "data": {
      "text/html": [
       "<div>\n",
       "<table border=\"1\" class=\"dataframe\">\n",
       "  <thead>\n",
       "    <tr style=\"text-align: right;\">\n",
       "      <th></th>\n",
       "      <th>mean_fit_time</th>\n",
       "      <th>mean_score_time</th>\n",
       "      <th>mean_test_score</th>\n",
       "      <th>mean_train_score</th>\n",
       "      <th>param_featureunion__transformer_list</th>\n",
       "      <th>param_linearsvc__C</th>\n",
       "      <th>param_linearsvc__class_weight</th>\n",
       "      <th>param_tfidftransformer__norm</th>\n",
       "      <th>params</th>\n",
       "      <th>rank_test_score</th>\n",
       "      <th>...</th>\n",
       "      <th>split2_test_score</th>\n",
       "      <th>split2_train_score</th>\n",
       "      <th>split3_test_score</th>\n",
       "      <th>split3_train_score</th>\n",
       "      <th>split4_test_score</th>\n",
       "      <th>split4_train_score</th>\n",
       "      <th>std_fit_time</th>\n",
       "      <th>std_score_time</th>\n",
       "      <th>std_test_score</th>\n",
       "      <th>std_train_score</th>\n",
       "    </tr>\n",
       "  </thead>\n",
       "  <tbody>\n",
       "    <tr>\n",
       "      <th>0</th>\n",
       "      <td>20.798585</td>\n",
       "      <td>0.827823</td>\n",
       "      <td>0.707416</td>\n",
       "      <td>0.832940</td>\n",
       "      <td>[(centroid, CentroidTransformer())]</td>\n",
       "      <td>1</td>\n",
       "      <td>balanced</td>\n",
       "      <td>max</td>\n",
       "      <td>{'tfidftransformer__norm': 'max', 'linearsvc__...</td>\n",
       "      <td>12</td>\n",
       "      <td>...</td>\n",
       "      <td>0.711754</td>\n",
       "      <td>0.836603</td>\n",
       "      <td>0.708723</td>\n",
       "      <td>0.834168</td>\n",
       "      <td>0.710510</td>\n",
       "      <td>0.829408</td>\n",
       "      <td>0.352524</td>\n",
       "      <td>0.159918</td>\n",
       "      <td>0.003710</td>\n",
       "      <td>0.002391</td>\n",
       "    </tr>\n",
       "    <tr>\n",
       "      <th>1</th>\n",
       "      <td>7.699464</td>\n",
       "      <td>1.060575</td>\n",
       "      <td>0.668860</td>\n",
       "      <td>0.773261</td>\n",
       "      <td>[(centroid, CentroidTransformer())]</td>\n",
       "      <td>0.0625</td>\n",
       "      <td>None</td>\n",
       "      <td>max</td>\n",
       "      <td>{'tfidftransformer__norm': 'max', 'linearsvc__...</td>\n",
       "      <td>17</td>\n",
       "      <td>...</td>\n",
       "      <td>0.675430</td>\n",
       "      <td>0.772431</td>\n",
       "      <td>0.674563</td>\n",
       "      <td>0.771871</td>\n",
       "      <td>0.668548</td>\n",
       "      <td>0.772169</td>\n",
       "      <td>1.081092</td>\n",
       "      <td>0.268143</td>\n",
       "      <td>0.005736</td>\n",
       "      <td>0.001625</td>\n",
       "    </tr>\n",
       "    <tr>\n",
       "      <th>2</th>\n",
       "      <td>8.982472</td>\n",
       "      <td>0.973631</td>\n",
       "      <td>0.696741</td>\n",
       "      <td>0.861321</td>\n",
       "      <td>[(tfidf, TfidfTransformer(norm=None, smooth_id...</td>\n",
       "      <td>0.5</td>\n",
       "      <td>None</td>\n",
       "      <td>l1</td>\n",
       "      <td>{'tfidftransformer__norm': 'l1', 'linearsvc__c...</td>\n",
       "      <td>14</td>\n",
       "      <td>...</td>\n",
       "      <td>0.700094</td>\n",
       "      <td>0.864890</td>\n",
       "      <td>0.704570</td>\n",
       "      <td>0.861340</td>\n",
       "      <td>0.696081</td>\n",
       "      <td>0.856940</td>\n",
       "      <td>1.410030</td>\n",
       "      <td>0.191485</td>\n",
       "      <td>0.005488</td>\n",
       "      <td>0.002549</td>\n",
       "    </tr>\n",
       "    <tr>\n",
       "      <th>3</th>\n",
       "      <td>17.910460</td>\n",
       "      <td>1.182110</td>\n",
       "      <td>0.706176</td>\n",
       "      <td>0.834804</td>\n",
       "      <td>[(centroid, CentroidTransformer())]</td>\n",
       "      <td>0.5</td>\n",
       "      <td>None</td>\n",
       "      <td>l2</td>\n",
       "      <td>{'tfidftransformer__norm': 'l2', 'linearsvc__c...</td>\n",
       "      <td>13</td>\n",
       "      <td>...</td>\n",
       "      <td>0.709303</td>\n",
       "      <td>0.836759</td>\n",
       "      <td>0.708442</td>\n",
       "      <td>0.834018</td>\n",
       "      <td>0.709814</td>\n",
       "      <td>0.831816</td>\n",
       "      <td>1.082676</td>\n",
       "      <td>0.140342</td>\n",
       "      <td>0.003712</td>\n",
       "      <td>0.001926</td>\n",
       "    </tr>\n",
       "    <tr>\n",
       "      <th>4</th>\n",
       "      <td>37.893682</td>\n",
       "      <td>0.601063</td>\n",
       "      <td>0.708502</td>\n",
       "      <td>0.836549</td>\n",
       "      <td>[(centroid, CentroidTransformer())]</td>\n",
       "      <td>4</td>\n",
       "      <td>balanced</td>\n",
       "      <td>max</td>\n",
       "      <td>{'tfidftransformer__norm': 'max', 'linearsvc__...</td>\n",
       "      <td>10</td>\n",
       "      <td>...</td>\n",
       "      <td>0.710825</td>\n",
       "      <td>0.839688</td>\n",
       "      <td>0.709586</td>\n",
       "      <td>0.836177</td>\n",
       "      <td>0.715295</td>\n",
       "      <td>0.833341</td>\n",
       "      <td>1.909324</td>\n",
       "      <td>0.075549</td>\n",
       "      <td>0.004588</td>\n",
       "      <td>0.002181</td>\n",
       "    </tr>\n",
       "    <tr>\n",
       "      <th>5</th>\n",
       "      <td>7.369190</td>\n",
       "      <td>1.065143</td>\n",
       "      <td>0.671885</td>\n",
       "      <td>0.814850</td>\n",
       "      <td>[(centroid, CentroidTransformer())]</td>\n",
       "      <td>0.03125</td>\n",
       "      <td>balanced</td>\n",
       "      <td>l1</td>\n",
       "      <td>{'tfidftransformer__norm': 'l1', 'linearsvc__c...</td>\n",
       "      <td>16</td>\n",
       "      <td>...</td>\n",
       "      <td>0.684990</td>\n",
       "      <td>0.818297</td>\n",
       "      <td>0.670644</td>\n",
       "      <td>0.815814</td>\n",
       "      <td>0.673181</td>\n",
       "      <td>0.810219</td>\n",
       "      <td>1.054899</td>\n",
       "      <td>0.262834</td>\n",
       "      <td>0.007253</td>\n",
       "      <td>0.002761</td>\n",
       "    </tr>\n",
       "    <tr>\n",
       "      <th>6</th>\n",
       "      <td>6.712887</td>\n",
       "      <td>0.635995</td>\n",
       "      <td>0.751786</td>\n",
       "      <td>0.971542</td>\n",
       "      <td>[(centroid, CentroidTransformer()), (tfidf, Tf...</td>\n",
       "      <td>0.125</td>\n",
       "      <td>None</td>\n",
       "      <td>max</td>\n",
       "      <td>{'tfidftransformer__norm': 'max', 'linearsvc__...</td>\n",
       "      <td>3</td>\n",
       "      <td>...</td>\n",
       "      <td>0.753456</td>\n",
       "      <td>0.971964</td>\n",
       "      <td>0.755936</td>\n",
       "      <td>0.970867</td>\n",
       "      <td>0.764869</td>\n",
       "      <td>0.971079</td>\n",
       "      <td>1.176714</td>\n",
       "      <td>0.045773</td>\n",
       "      <td>0.009012</td>\n",
       "      <td>0.000476</td>\n",
       "    </tr>\n",
       "    <tr>\n",
       "      <th>7</th>\n",
       "      <td>3.652639</td>\n",
       "      <td>0.546413</td>\n",
       "      <td>0.754425</td>\n",
       "      <td>0.958249</td>\n",
       "      <td>[(tfidf, TfidfTransformer(norm=None, smooth_id...</td>\n",
       "      <td>0.25</td>\n",
       "      <td>balanced</td>\n",
       "      <td>l2</td>\n",
       "      <td>{'tfidftransformer__norm': 'l2', 'linearsvc__c...</td>\n",
       "      <td>2</td>\n",
       "      <td>...</td>\n",
       "      <td>0.757404</td>\n",
       "      <td>0.959228</td>\n",
       "      <td>0.760001</td>\n",
       "      <td>0.957844</td>\n",
       "      <td>0.764275</td>\n",
       "      <td>0.958009</td>\n",
       "      <td>0.227699</td>\n",
       "      <td>0.052576</td>\n",
       "      <td>0.007827</td>\n",
       "      <td>0.000565</td>\n",
       "    </tr>\n",
       "    <tr>\n",
       "      <th>8</th>\n",
       "      <td>3.413821</td>\n",
       "      <td>0.535115</td>\n",
       "      <td>0.743962</td>\n",
       "      <td>0.934356</td>\n",
       "      <td>[(tfidf, TfidfTransformer(norm=None, smooth_id...</td>\n",
       "      <td>0.125</td>\n",
       "      <td>None</td>\n",
       "      <td>l2</td>\n",
       "      <td>{'tfidftransformer__norm': 'l2', 'linearsvc__c...</td>\n",
       "      <td>6</td>\n",
       "      <td>...</td>\n",
       "      <td>0.742358</td>\n",
       "      <td>0.936867</td>\n",
       "      <td>0.750601</td>\n",
       "      <td>0.934094</td>\n",
       "      <td>0.754744</td>\n",
       "      <td>0.933916</td>\n",
       "      <td>0.202895</td>\n",
       "      <td>0.026588</td>\n",
       "      <td>0.007609</td>\n",
       "      <td>0.001299</td>\n",
       "    </tr>\n",
       "    <tr>\n",
       "      <th>9</th>\n",
       "      <td>6.703574</td>\n",
       "      <td>0.957464</td>\n",
       "      <td>0.676109</td>\n",
       "      <td>0.823126</td>\n",
       "      <td>[(centroid, CentroidTransformer()), (tfidf, Tf...</td>\n",
       "      <td>0.03125</td>\n",
       "      <td>balanced</td>\n",
       "      <td>l1</td>\n",
       "      <td>{'tfidftransformer__norm': 'l1', 'linearsvc__c...</td>\n",
       "      <td>15</td>\n",
       "      <td>...</td>\n",
       "      <td>0.686719</td>\n",
       "      <td>0.826408</td>\n",
       "      <td>0.675556</td>\n",
       "      <td>0.822813</td>\n",
       "      <td>0.678497</td>\n",
       "      <td>0.820217</td>\n",
       "      <td>0.715842</td>\n",
       "      <td>0.224023</td>\n",
       "      <td>0.006270</td>\n",
       "      <td>0.002324</td>\n",
       "    </tr>\n",
       "    <tr>\n",
       "      <th>10</th>\n",
       "      <td>14.707905</td>\n",
       "      <td>3.011041</td>\n",
       "      <td>0.727242</td>\n",
       "      <td>0.883887</td>\n",
       "      <td>[(centroid, CentroidTransformer()), (tfidf, Tf...</td>\n",
       "      <td>0.03125</td>\n",
       "      <td>balanced</td>\n",
       "      <td>l2</td>\n",
       "      <td>{'tfidftransformer__norm': 'l2', 'linearsvc__c...</td>\n",
       "      <td>8</td>\n",
       "      <td>...</td>\n",
       "      <td>0.731574</td>\n",
       "      <td>0.884323</td>\n",
       "      <td>0.733342</td>\n",
       "      <td>0.884921</td>\n",
       "      <td>0.731668</td>\n",
       "      <td>0.881635</td>\n",
       "      <td>9.548760</td>\n",
       "      <td>1.034152</td>\n",
       "      <td>0.006089</td>\n",
       "      <td>0.001203</td>\n",
       "    </tr>\n",
       "    <tr>\n",
       "      <th>11</th>\n",
       "      <td>21.193708</td>\n",
       "      <td>3.203558</td>\n",
       "      <td>0.617967</td>\n",
       "      <td>0.755671</td>\n",
       "      <td>[(tfidf, TfidfTransformer(norm=None, smooth_id...</td>\n",
       "      <td>0.0625</td>\n",
       "      <td>None</td>\n",
       "      <td>l1</td>\n",
       "      <td>{'tfidftransformer__norm': 'l1', 'linearsvc__c...</td>\n",
       "      <td>19</td>\n",
       "      <td>...</td>\n",
       "      <td>0.609506</td>\n",
       "      <td>0.756552</td>\n",
       "      <td>0.621981</td>\n",
       "      <td>0.754671</td>\n",
       "      <td>0.616304</td>\n",
       "      <td>0.752309</td>\n",
       "      <td>0.731158</td>\n",
       "      <td>0.241787</td>\n",
       "      <td>0.004733</td>\n",
       "      <td>0.001991</td>\n",
       "    </tr>\n",
       "    <tr>\n",
       "      <th>12</th>\n",
       "      <td>17.068481</td>\n",
       "      <td>1.246812</td>\n",
       "      <td>0.745837</td>\n",
       "      <td>0.974301</td>\n",
       "      <td>[(tfidf, TfidfTransformer(norm=None, smooth_id...</td>\n",
       "      <td>0.25</td>\n",
       "      <td>balanced</td>\n",
       "      <td>max</td>\n",
       "      <td>{'tfidftransformer__norm': 'max', 'linearsvc__...</td>\n",
       "      <td>5</td>\n",
       "      <td>...</td>\n",
       "      <td>0.744184</td>\n",
       "      <td>0.974610</td>\n",
       "      <td>0.755748</td>\n",
       "      <td>0.973534</td>\n",
       "      <td>0.757656</td>\n",
       "      <td>0.974047</td>\n",
       "      <td>4.271929</td>\n",
       "      <td>1.052715</td>\n",
       "      <td>0.009606</td>\n",
       "      <td>0.000447</td>\n",
       "    </tr>\n",
       "    <tr>\n",
       "      <th>13</th>\n",
       "      <td>8.692194</td>\n",
       "      <td>0.974834</td>\n",
       "      <td>0.731267</td>\n",
       "      <td>0.975814</td>\n",
       "      <td>[(tfidf, TfidfTransformer(norm=None, smooth_id...</td>\n",
       "      <td>1</td>\n",
       "      <td>None</td>\n",
       "      <td>max</td>\n",
       "      <td>{'tfidftransformer__norm': 'max', 'linearsvc__...</td>\n",
       "      <td>7</td>\n",
       "      <td>...</td>\n",
       "      <td>0.732345</td>\n",
       "      <td>0.975745</td>\n",
       "      <td>0.739166</td>\n",
       "      <td>0.975272</td>\n",
       "      <td>0.739479</td>\n",
       "      <td>0.976106</td>\n",
       "      <td>1.996895</td>\n",
       "      <td>0.246835</td>\n",
       "      <td>0.008115</td>\n",
       "      <td>0.000307</td>\n",
       "    </tr>\n",
       "    <tr>\n",
       "      <th>14</th>\n",
       "      <td>20.806580</td>\n",
       "      <td>0.854519</td>\n",
       "      <td>0.599297</td>\n",
       "      <td>0.975958</td>\n",
       "      <td>[(tfidf, TfidfTransformer(norm=None, smooth_id...</td>\n",
       "      <td>0.5</td>\n",
       "      <td>None</td>\n",
       "      <td>None</td>\n",
       "      <td>{'tfidftransformer__norm': None, 'linearsvc__c...</td>\n",
       "      <td>20</td>\n",
       "      <td>...</td>\n",
       "      <td>0.608151</td>\n",
       "      <td>0.975853</td>\n",
       "      <td>0.613915</td>\n",
       "      <td>0.975487</td>\n",
       "      <td>0.588412</td>\n",
       "      <td>0.976215</td>\n",
       "      <td>0.991607</td>\n",
       "      <td>0.221631</td>\n",
       "      <td>0.010212</td>\n",
       "      <td>0.000265</td>\n",
       "    </tr>\n",
       "    <tr>\n",
       "      <th>15</th>\n",
       "      <td>8.846117</td>\n",
       "      <td>0.965467</td>\n",
       "      <td>0.715223</td>\n",
       "      <td>0.878819</td>\n",
       "      <td>[(tfidf, TfidfTransformer(norm=None, smooth_id...</td>\n",
       "      <td>0.5</td>\n",
       "      <td>balanced</td>\n",
       "      <td>l1</td>\n",
       "      <td>{'tfidftransformer__norm': 'l1', 'linearsvc__c...</td>\n",
       "      <td>9</td>\n",
       "      <td>...</td>\n",
       "      <td>0.710932</td>\n",
       "      <td>0.882601</td>\n",
       "      <td>0.725969</td>\n",
       "      <td>0.877502</td>\n",
       "      <td>0.719118</td>\n",
       "      <td>0.875508</td>\n",
       "      <td>1.829702</td>\n",
       "      <td>0.335858</td>\n",
       "      <td>0.007282</td>\n",
       "      <td>0.002411</td>\n",
       "    </tr>\n",
       "    <tr>\n",
       "      <th>16</th>\n",
       "      <td>15.381491</td>\n",
       "      <td>0.694805</td>\n",
       "      <td>0.756808</td>\n",
       "      <td>0.970535</td>\n",
       "      <td>[(centroid, CentroidTransformer()), (tfidf, Tf...</td>\n",
       "      <td>0.5</td>\n",
       "      <td>balanced</td>\n",
       "      <td>l2</td>\n",
       "      <td>{'tfidftransformer__norm': 'l2', 'linearsvc__c...</td>\n",
       "      <td>1</td>\n",
       "      <td>...</td>\n",
       "      <td>0.762465</td>\n",
       "      <td>0.971017</td>\n",
       "      <td>0.758600</td>\n",
       "      <td>0.969863</td>\n",
       "      <td>0.766088</td>\n",
       "      <td>0.971340</td>\n",
       "      <td>0.456624</td>\n",
       "      <td>0.101214</td>\n",
       "      <td>0.007319</td>\n",
       "      <td>0.000552</td>\n",
       "    </tr>\n",
       "    <tr>\n",
       "      <th>17</th>\n",
       "      <td>4.254899</td>\n",
       "      <td>0.601412</td>\n",
       "      <td>0.645660</td>\n",
       "      <td>0.744208</td>\n",
       "      <td>[(centroid, CentroidTransformer())]</td>\n",
       "      <td>0.03125</td>\n",
       "      <td>None</td>\n",
       "      <td>max</td>\n",
       "      <td>{'tfidftransformer__norm': 'max', 'linearsvc__...</td>\n",
       "      <td>18</td>\n",
       "      <td>...</td>\n",
       "      <td>0.651097</td>\n",
       "      <td>0.739946</td>\n",
       "      <td>0.651514</td>\n",
       "      <td>0.742301</td>\n",
       "      <td>0.649305</td>\n",
       "      <td>0.743392</td>\n",
       "      <td>0.242198</td>\n",
       "      <td>0.056981</td>\n",
       "      <td>0.006528</td>\n",
       "      <td>0.003441</td>\n",
       "    </tr>\n",
       "    <tr>\n",
       "      <th>18</th>\n",
       "      <td>3.664196</td>\n",
       "      <td>0.538026</td>\n",
       "      <td>0.751712</td>\n",
       "      <td>0.961199</td>\n",
       "      <td>[(tfidf, TfidfTransformer(norm=None, smooth_id...</td>\n",
       "      <td>0.0625</td>\n",
       "      <td>None</td>\n",
       "      <td>max</td>\n",
       "      <td>{'tfidftransformer__norm': 'max', 'linearsvc__...</td>\n",
       "      <td>4</td>\n",
       "      <td>...</td>\n",
       "      <td>0.753740</td>\n",
       "      <td>0.961766</td>\n",
       "      <td>0.757400</td>\n",
       "      <td>0.960062</td>\n",
       "      <td>0.763293</td>\n",
       "      <td>0.961718</td>\n",
       "      <td>0.112928</td>\n",
       "      <td>0.038209</td>\n",
       "      <td>0.008805</td>\n",
       "      <td>0.000616</td>\n",
       "    </tr>\n",
       "    <tr>\n",
       "      <th>19</th>\n",
       "      <td>17.716426</td>\n",
       "      <td>0.304257</td>\n",
       "      <td>0.707984</td>\n",
       "      <td>0.836103</td>\n",
       "      <td>[(centroid, CentroidTransformer())]</td>\n",
       "      <td>4</td>\n",
       "      <td>None</td>\n",
       "      <td>max</td>\n",
       "      <td>{'tfidftransformer__norm': 'max', 'linearsvc__...</td>\n",
       "      <td>11</td>\n",
       "      <td>...</td>\n",
       "      <td>0.713643</td>\n",
       "      <td>0.837987</td>\n",
       "      <td>0.703397</td>\n",
       "      <td>0.835551</td>\n",
       "      <td>0.713535</td>\n",
       "      <td>0.834466</td>\n",
       "      <td>1.449551</td>\n",
       "      <td>0.028410</td>\n",
       "      <td>0.004596</td>\n",
       "      <td>0.001175</td>\n",
       "    </tr>\n",
       "  </tbody>\n",
       "</table>\n",
       "<p>20 rows × 24 columns</p>\n",
       "</div>"
      ],
      "text/plain": [
       "    mean_fit_time  mean_score_time  mean_test_score  mean_train_score  \\\n",
       "0       20.798585         0.827823         0.707416          0.832940   \n",
       "1        7.699464         1.060575         0.668860          0.773261   \n",
       "2        8.982472         0.973631         0.696741          0.861321   \n",
       "3       17.910460         1.182110         0.706176          0.834804   \n",
       "4       37.893682         0.601063         0.708502          0.836549   \n",
       "5        7.369190         1.065143         0.671885          0.814850   \n",
       "6        6.712887         0.635995         0.751786          0.971542   \n",
       "7        3.652639         0.546413         0.754425          0.958249   \n",
       "8        3.413821         0.535115         0.743962          0.934356   \n",
       "9        6.703574         0.957464         0.676109          0.823126   \n",
       "10      14.707905         3.011041         0.727242          0.883887   \n",
       "11      21.193708         3.203558         0.617967          0.755671   \n",
       "12      17.068481         1.246812         0.745837          0.974301   \n",
       "13       8.692194         0.974834         0.731267          0.975814   \n",
       "14      20.806580         0.854519         0.599297          0.975958   \n",
       "15       8.846117         0.965467         0.715223          0.878819   \n",
       "16      15.381491         0.694805         0.756808          0.970535   \n",
       "17       4.254899         0.601412         0.645660          0.744208   \n",
       "18       3.664196         0.538026         0.751712          0.961199   \n",
       "19      17.716426         0.304257         0.707984          0.836103   \n",
       "\n",
       "                 param_featureunion__transformer_list param_linearsvc__C  \\\n",
       "0                 [(centroid, CentroidTransformer())]                  1   \n",
       "1                 [(centroid, CentroidTransformer())]             0.0625   \n",
       "2   [(tfidf, TfidfTransformer(norm=None, smooth_id...                0.5   \n",
       "3                 [(centroid, CentroidTransformer())]                0.5   \n",
       "4                 [(centroid, CentroidTransformer())]                  4   \n",
       "5                 [(centroid, CentroidTransformer())]            0.03125   \n",
       "6   [(centroid, CentroidTransformer()), (tfidf, Tf...              0.125   \n",
       "7   [(tfidf, TfidfTransformer(norm=None, smooth_id...               0.25   \n",
       "8   [(tfidf, TfidfTransformer(norm=None, smooth_id...              0.125   \n",
       "9   [(centroid, CentroidTransformer()), (tfidf, Tf...            0.03125   \n",
       "10  [(centroid, CentroidTransformer()), (tfidf, Tf...            0.03125   \n",
       "11  [(tfidf, TfidfTransformer(norm=None, smooth_id...             0.0625   \n",
       "12  [(tfidf, TfidfTransformer(norm=None, smooth_id...               0.25   \n",
       "13  [(tfidf, TfidfTransformer(norm=None, smooth_id...                  1   \n",
       "14  [(tfidf, TfidfTransformer(norm=None, smooth_id...                0.5   \n",
       "15  [(tfidf, TfidfTransformer(norm=None, smooth_id...                0.5   \n",
       "16  [(centroid, CentroidTransformer()), (tfidf, Tf...                0.5   \n",
       "17                [(centroid, CentroidTransformer())]            0.03125   \n",
       "18  [(tfidf, TfidfTransformer(norm=None, smooth_id...             0.0625   \n",
       "19                [(centroid, CentroidTransformer())]                  4   \n",
       "\n",
       "   param_linearsvc__class_weight param_tfidftransformer__norm  \\\n",
       "0                       balanced                          max   \n",
       "1                           None                          max   \n",
       "2                           None                           l1   \n",
       "3                           None                           l2   \n",
       "4                       balanced                          max   \n",
       "5                       balanced                           l1   \n",
       "6                           None                          max   \n",
       "7                       balanced                           l2   \n",
       "8                           None                           l2   \n",
       "9                       balanced                           l1   \n",
       "10                      balanced                           l2   \n",
       "11                          None                           l1   \n",
       "12                      balanced                          max   \n",
       "13                          None                          max   \n",
       "14                          None                         None   \n",
       "15                      balanced                           l1   \n",
       "16                      balanced                           l2   \n",
       "17                          None                          max   \n",
       "18                          None                          max   \n",
       "19                          None                          max   \n",
       "\n",
       "                                               params  rank_test_score  \\\n",
       "0   {'tfidftransformer__norm': 'max', 'linearsvc__...               12   \n",
       "1   {'tfidftransformer__norm': 'max', 'linearsvc__...               17   \n",
       "2   {'tfidftransformer__norm': 'l1', 'linearsvc__c...               14   \n",
       "3   {'tfidftransformer__norm': 'l2', 'linearsvc__c...               13   \n",
       "4   {'tfidftransformer__norm': 'max', 'linearsvc__...               10   \n",
       "5   {'tfidftransformer__norm': 'l1', 'linearsvc__c...               16   \n",
       "6   {'tfidftransformer__norm': 'max', 'linearsvc__...                3   \n",
       "7   {'tfidftransformer__norm': 'l2', 'linearsvc__c...                2   \n",
       "8   {'tfidftransformer__norm': 'l2', 'linearsvc__c...                6   \n",
       "9   {'tfidftransformer__norm': 'l1', 'linearsvc__c...               15   \n",
       "10  {'tfidftransformer__norm': 'l2', 'linearsvc__c...                8   \n",
       "11  {'tfidftransformer__norm': 'l1', 'linearsvc__c...               19   \n",
       "12  {'tfidftransformer__norm': 'max', 'linearsvc__...                5   \n",
       "13  {'tfidftransformer__norm': 'max', 'linearsvc__...                7   \n",
       "14  {'tfidftransformer__norm': None, 'linearsvc__c...               20   \n",
       "15  {'tfidftransformer__norm': 'l1', 'linearsvc__c...                9   \n",
       "16  {'tfidftransformer__norm': 'l2', 'linearsvc__c...                1   \n",
       "17  {'tfidftransformer__norm': 'max', 'linearsvc__...               18   \n",
       "18  {'tfidftransformer__norm': 'max', 'linearsvc__...                4   \n",
       "19  {'tfidftransformer__norm': 'max', 'linearsvc__...               11   \n",
       "\n",
       "         ...         split2_test_score  split2_train_score  split3_test_score  \\\n",
       "0        ...                  0.711754            0.836603           0.708723   \n",
       "1        ...                  0.675430            0.772431           0.674563   \n",
       "2        ...                  0.700094            0.864890           0.704570   \n",
       "3        ...                  0.709303            0.836759           0.708442   \n",
       "4        ...                  0.710825            0.839688           0.709586   \n",
       "5        ...                  0.684990            0.818297           0.670644   \n",
       "6        ...                  0.753456            0.971964           0.755936   \n",
       "7        ...                  0.757404            0.959228           0.760001   \n",
       "8        ...                  0.742358            0.936867           0.750601   \n",
       "9        ...                  0.686719            0.826408           0.675556   \n",
       "10       ...                  0.731574            0.884323           0.733342   \n",
       "11       ...                  0.609506            0.756552           0.621981   \n",
       "12       ...                  0.744184            0.974610           0.755748   \n",
       "13       ...                  0.732345            0.975745           0.739166   \n",
       "14       ...                  0.608151            0.975853           0.613915   \n",
       "15       ...                  0.710932            0.882601           0.725969   \n",
       "16       ...                  0.762465            0.971017           0.758600   \n",
       "17       ...                  0.651097            0.739946           0.651514   \n",
       "18       ...                  0.753740            0.961766           0.757400   \n",
       "19       ...                  0.713643            0.837987           0.703397   \n",
       "\n",
       "    split3_train_score  split4_test_score  split4_train_score  std_fit_time  \\\n",
       "0             0.834168           0.710510            0.829408      0.352524   \n",
       "1             0.771871           0.668548            0.772169      1.081092   \n",
       "2             0.861340           0.696081            0.856940      1.410030   \n",
       "3             0.834018           0.709814            0.831816      1.082676   \n",
       "4             0.836177           0.715295            0.833341      1.909324   \n",
       "5             0.815814           0.673181            0.810219      1.054899   \n",
       "6             0.970867           0.764869            0.971079      1.176714   \n",
       "7             0.957844           0.764275            0.958009      0.227699   \n",
       "8             0.934094           0.754744            0.933916      0.202895   \n",
       "9             0.822813           0.678497            0.820217      0.715842   \n",
       "10            0.884921           0.731668            0.881635      9.548760   \n",
       "11            0.754671           0.616304            0.752309      0.731158   \n",
       "12            0.973534           0.757656            0.974047      4.271929   \n",
       "13            0.975272           0.739479            0.976106      1.996895   \n",
       "14            0.975487           0.588412            0.976215      0.991607   \n",
       "15            0.877502           0.719118            0.875508      1.829702   \n",
       "16            0.969863           0.766088            0.971340      0.456624   \n",
       "17            0.742301           0.649305            0.743392      0.242198   \n",
       "18            0.960062           0.763293            0.961718      0.112928   \n",
       "19            0.835551           0.713535            0.834466      1.449551   \n",
       "\n",
       "    std_score_time  std_test_score  std_train_score  \n",
       "0         0.159918        0.003710         0.002391  \n",
       "1         0.268143        0.005736         0.001625  \n",
       "2         0.191485        0.005488         0.002549  \n",
       "3         0.140342        0.003712         0.001926  \n",
       "4         0.075549        0.004588         0.002181  \n",
       "5         0.262834        0.007253         0.002761  \n",
       "6         0.045773        0.009012         0.000476  \n",
       "7         0.052576        0.007827         0.000565  \n",
       "8         0.026588        0.007609         0.001299  \n",
       "9         0.224023        0.006270         0.002324  \n",
       "10        1.034152        0.006089         0.001203  \n",
       "11        0.241787        0.004733         0.001991  \n",
       "12        1.052715        0.009606         0.000447  \n",
       "13        0.246835        0.008115         0.000307  \n",
       "14        0.221631        0.010212         0.000265  \n",
       "15        0.335858        0.007282         0.002411  \n",
       "16        0.101214        0.007319         0.000552  \n",
       "17        0.056981        0.006528         0.003441  \n",
       "18        0.038209        0.008805         0.000616  \n",
       "19        0.028410        0.004596         0.001175  \n",
       "\n",
       "[20 rows x 24 columns]"
      ]
     },
     "execution_count": 34,
     "metadata": {},
     "output_type": "execute_result"
    }
   ],
   "source": [
    "pd.DataFrame(rand.cv_results_)"
   ]
  }
 ],
 "metadata": {
  "kernelspec": {
   "display_name": "Python 3",
   "language": "python",
   "name": "python3"
  },
  "language_info": {
   "codemirror_mode": {
    "name": "ipython",
    "version": 3
   },
   "file_extension": ".py",
   "mimetype": "text/x-python",
   "name": "python",
   "nbconvert_exporter": "python",
   "pygments_lexer": "ipython3",
   "version": "3.5.2"
  }
 },
 "nbformat": 4,
 "nbformat_minor": 2
}
