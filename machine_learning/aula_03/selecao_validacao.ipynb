{
 "cells": [
  {
   "cell_type": "code",
   "execution_count": 64,
   "metadata": {
    "collapsed": true
   },
   "outputs": [],
   "source": [
    "# macro do ipython para rederizar o matplotlib inline\n",
    "%matplotlib inline\n",
    "\n",
    "# numpy é uma biblioteca de python que \n",
    "# nos permite fazer operações matriciais e vetoriais\n",
    "# facilmente, e eficientemente (até um certo tamanho)\n",
    "import numpy as np\n",
    "\n",
    "import matplotlib.pyplot as plt\n",
    "\n",
    "from pylab import rcParams\n",
    "rcParams['figure.figsize'] = 15, 10\n",
    "\n",
    "import time"
   ]
  },
  {
   "cell_type": "markdown",
   "metadata": {},
   "source": [
    "### Carregando conjunto de dados\n",
    "\n",
    "Vamos utilizar o mesmo conjunto de dados do notebook do SVM (aula_01). O conjunto de dados 20 newsgroups disponível no scikit-learn. Esse conjunto de dados possui aproximadamente 18000 newsgroups posts categorizados em 20 tópicos dividos em dois conjuntos: um para treino e outro para teste (em outras palavras, para avaliação de desempenho do modelo). A divisão entre conjunto de treino e teste basedo em mensagens postadas antes e depois uma data específica.\n",
    "\n",
    "\n",
    "Vamos então carregá-lo e fazer a transformação para espaço vetorial como **bag-of-words** usando o scikit-learn."
   ]
  },
  {
   "cell_type": "code",
   "execution_count": 97,
   "metadata": {
    "collapsed": false
   },
   "outputs": [
    {
     "name": "stdout",
     "output_type": "stream",
     "text": [
      "N. de Exmplos de Treino: 11314; N. de Atributos: 39115\n",
      "N. de Exmplos de Teste: 7532; N. de Atributos: 39115\n"
     ]
    }
   ],
   "source": [
    "from sklearn.datasets import fetch_20newsgroups\n",
    "from sklearn.feature_extraction.text import CountVectorizer\n",
    "\n",
    "train_20ng = fetch_20newsgroups(subset='train', shuffle=False, remove=('headers', 'quotes', 'footers'))\n",
    "test_20ng = fetch_20newsgroups(subset='test', shuffle=False, remove=('headers', 'quotes', 'footers'))\n",
    "\n",
    "# transforma dados textuais em uma representação vetorial usando\n",
    "# bag-of-words\n",
    "vec = CountVectorizer(stop_words='english', min_df=2)\n",
    "\n",
    "X_train = vec.fit_transform(train_20ng.data)\n",
    "y_train = train_20ng.target\n",
    "\n",
    "X_test = vec.transform(test_20ng.data)\n",
    "y_test = test_20ng.target\n",
    "\n",
    "print(\"N. de Exmplos de Treino: %d; N. de Atributos: %d\" % X_train.shape)\n",
    "print(\"N. de Exmplos de Teste: %d; N. de Atributos: %d\" % X_test.shape)"
   ]
  },
  {
   "cell_type": "markdown",
   "metadata": {},
   "source": [
    "## Holdout\n",
    "\n",
    "Vamos utilizar a técnica holdout para selecionar o parâmetro C do svm, profundidae máxima de um àrvore de Decisão, e o hiperparâmetro da regressão logística. Lembre-se que no holdout nós dividimos o conjunto de dados em 3 conjuntos distintos, um para treino (avaliação de performance), validação (seleção do modelo/parâmetros) e treino.\n",
    "\n",
    "O scikit já divide o conjunto de dados em treino e teste, como pode ser notado acima. Desse modo vamos apenas dividir o conjunto de treino em dois (validação e treino)."
   ]
  },
  {
   "cell_type": "code",
   "execution_count": 98,
   "metadata": {
    "collapsed": false
   },
   "outputs": [],
   "source": [
    "from sklearn.model_selection import train_test_split\n",
    "X_train_aux, X_valid, y_train_aux, y_valid = train_test_split(X_train, y_train, test_size=0.4, random_state=0)"
   ]
  },
  {
   "cell_type": "markdown",
   "metadata": {},
   "source": [
    "Quais valores de C escolher? Então, testar todos os valores de C pode ser inviável. Desse modo nós podemos chutar alguns valores que façam sentidos. Por exemplos, valores pequenos, médio e grandes, e assim testá-los."
   ]
  },
  {
   "cell_type": "code",
   "execution_count": 99,
   "metadata": {
    "collapsed": false
   },
   "outputs": [
    {
     "data": {
      "text/plain": [
       "array([ 0.00024414,  0.00029033,  0.00034527,  0.00041059,  0.00048828,\n",
       "        0.00058067,  0.00069053,  0.00082119,  0.00097656,  0.00116134,\n",
       "        0.00138107,  0.00164238,  0.00195312,  0.00232267,  0.00276214,\n",
       "        0.00328475,  0.00390625,  0.00464534,  0.00552427,  0.0065695 ,\n",
       "        0.0078125 ,  0.00929068,  0.01104854,  0.01313901,  0.015625  ,\n",
       "        0.01858136,  0.02209709,  0.02627801,  0.03125   ,  0.03716272,\n",
       "        0.04419417,  0.05255603,  0.0625    ,  0.07432544,  0.08838835,\n",
       "        0.10511205,  0.125     ,  0.14865089,  0.1767767 ,  0.2102241 ])"
      ]
     },
     "execution_count": 99,
     "metadata": {},
     "output_type": "execute_result"
    }
   ],
   "source": [
    "Cs = 2. ** np.arange(-12, -2, 0.25)\n",
    "Cs"
   ]
  },
  {
   "cell_type": "markdown",
   "metadata": {},
   "source": [
    "Desse modo, para cada valor de C vamos aprender um modelo usando nosso ```X_train_aux``` e então avaliá-lo usando alguma métrica e o valores preditos no conjunto de ```X_valid```."
   ]
  },
  {
   "cell_type": "code",
   "execution_count": 100,
   "metadata": {
    "collapsed": false
   },
   "outputs": [
    {
     "name": "stdout",
     "output_type": "stream",
     "text": [
      "Melhor F1 : 0.707446; Melhor C : 0.011049\n"
     ]
    }
   ],
   "source": [
    "from sklearn.svm import LinearSVC\n",
    "from sklearn.metrics import f1_score\n",
    "from sklearn.base import clone\n",
    "\n",
    "svm = LinearSVC(random_state=0)\n",
    "\n",
    "def holdout(clf, param_valores):\n",
    "    best_score = 0\n",
    "    best_param = 0\n",
    "    for param, valores in param_valores.items():\n",
    "        resultados = np.zeros((valores.shape[0], 4))\n",
    "        \n",
    "        # Para cada valor dos hiperparâmetro\n",
    "        # nós criamos um modelo diferente com \n",
    "        # conjunto de treino auxiliar. \n",
    "        # Após termos o modelo com tal parâmetro,\n",
    "        # fazemos a predição no conjunto de validação\n",
    "        # e utilizamos alguma métrica para\n",
    "        # obtermos um score para aquele método, e então,\n",
    "        # escolher o paramêtro (ou conjunto de parâmetros)\n",
    "        # gerou o modelo com maior score.\n",
    "        for i, val in enumerate(valores):\n",
    "            # clonando classificador e atribuindo o parametro\n",
    "            classificador = clone(clf)\n",
    "            classificador.set_params(**{param: val})\n",
    "            \n",
    "            # aprendendo um modelo baseado no conjunto de treino auxiliar\n",
    "            classificador.fit(X_train_aux, y_train_aux)\n",
    "            \n",
    "            # predição baseada no conjunto de validação\n",
    "            y_pred = classificador.predict(X_valid)\n",
    "\n",
    "            # score para avaliação do modelo.\n",
    "            score = f1_score(y_valid, y_pred, average=\"macro\")\n",
    "\n",
    "            # melhor parâmetro de acordo com score\n",
    "            if best_score < score:\n",
    "                best_score = score\n",
    "                best_param = val\n",
    "\n",
    "            # score no conjunto de validação, treino e teste para cada um dos valores do parâmetro\n",
    "            # vamos utilizar isso para traçar a curva do compromisso viés e variância\n",
    "            resultados[i, 0] = val\n",
    "            resultados[i, 1] = 1 - score\n",
    "            resultados[i, 2] = 1 - f1_score(y_train_aux, classificador.predict(X_train_aux), average=\"macro\")\n",
    "            resultados[i, 3] = 1 - f1_score(y_test, classificador.predict(X_test), average=\"macro\")\n",
    "        \n",
    "    \n",
    "    print(\"Melhor F1 : %f; Melhor %s : %f\" % (best_score, param, best_param))\n",
    "    return resultados, best_score, best_param\n",
    "\n",
    "resultados, best_score, best_param = holdout(svm, {'C': Cs})           "
   ]
  },
  {
   "cell_type": "code",
   "execution_count": 102,
   "metadata": {
    "collapsed": false
   },
   "outputs": [
    {
     "name": "stdout",
     "output_type": "stream",
     "text": [
      "F1 no Teste: 0.656798\n"
     ]
    }
   ],
   "source": [
    "svm.set_params(**{'C': best_param})\n",
    "svm.fit(X_train, y_train)\n",
    "y_pred = svm.predict(X_test)\n",
    "\n",
    "score = f1_score(y_test, y_pred, average=\"micro\")\n",
    "print(\"F1 no Teste: %f\" % (score))"
   ]
  },
  {
   "cell_type": "code",
   "execution_count": 103,
   "metadata": {
    "collapsed": false
   },
   "outputs": [
    {
     "name": "stdout",
     "output_type": "stream",
     "text": [
      "F1 no Teste: 0.714980\n"
     ]
    }
   ],
   "source": [
    "svm.set_params(**{'C': best_param})\n",
    "svm.fit(X_train_aux, y_train_aux)\n",
    "y_pred = svm.predict(X_valid)\n",
    "\n",
    "score = f1_score(y_valid, y_pred, average=\"micro\")\n",
    "print(\"F1 no Teste: %f\" % (score))"
   ]
  },
  {
   "cell_type": "code",
   "execution_count": 101,
   "metadata": {
    "collapsed": false
   },
   "outputs": [
    {
     "data": {
      "image/png": "[encoded data removed]",
      "text/plain": [
       "<matplotlib.figure.Figure at 0x7fae55ce64a8>"
      ]
     },
     "metadata": {},
     "output_type": "display_data"
    }
   ],
   "source": [
    "def plot_bias_variance_tradeoff(resultados, best_param = None):\n",
    "    for j in range(resultados.shape[1] - 1):\n",
    "        plt.plot(resultados[:, 0], resultados[:, j + 1],\n",
    "                 linewidth=3)\n",
    "    if best_param:\n",
    "        plt.plot([best_param, best_param], [resultados[:,1:].min(), resultados[:,1:].max()],\n",
    "                 linewidth=1)\n",
    "\n",
    "plot_bias_variance_tradeoff(resultados, best_param)"
   ]
  },
  {
   "cell_type": "code",
   "execution_count": 9,
   "metadata": {
    "collapsed": false
   },
   "outputs": [
    {
     "name": "stderr",
     "output_type": "stream",
     "text": [
      "/home/rcampos/projects/amb009/venv/lib/python3.5/site-packages/sklearn/metrics/classification.py:1113: UndefinedMetricWarning: F-score is ill-defined and being set to 0.0 in labels with no predicted samples.\n",
      "  'precision', 'predicted', average, warn_for)\n",
      "/home/rcampos/projects/amb009/venv/lib/python3.5/site-packages/sklearn/metrics/classification.py:1113: UndefinedMetricWarning: F-score is ill-defined and being set to 0.0 in labels with no predicted samples.\n",
      "  'precision', 'predicted', average, warn_for)\n",
      "/home/rcampos/projects/amb009/venv/lib/python3.5/site-packages/sklearn/metrics/classification.py:1113: UndefinedMetricWarning: F-score is ill-defined and being set to 0.0 in labels with no predicted samples.\n",
      "  'precision', 'predicted', average, warn_for)\n"
     ]
    },
    {
     "name": "stdout",
     "output_type": "stream",
     "text": [
      "Melhor F1 : 0.471080; Melhor max_depth : 200.000000\n"
     ]
    }
   ],
   "source": [
    "from sklearn.tree import DecisionTreeClassifier\n",
    "dt = DecisionTreeClassifier(random_state=0, max_features=1.0)\n",
    "\n",
    "profundidades = np.array([1, 5, 8, 25] + list(range(50, 130, 10)) + [200, 250, 300, 350, 500, 800, 1000])\n",
    "\n",
    "resultados, best_score, best_param = holdout(dt, {'max_depth': profundidades})"
   ]
  },
  {
   "cell_type": "code",
   "execution_count": 10,
   "metadata": {
    "collapsed": false
   },
   "outputs": [
    {
     "data": {
      "image/png": "[encoded data removed]",
      "text/plain": [
       "<matplotlib.figure.Figure at 0x7fae5551e080>"
      ]
     },
     "metadata": {},
     "output_type": "display_data"
    }
   ],
   "source": [
    "plot_bias_variance_tradeoff(resultados, best_param)"
   ]
  },
  {
   "cell_type": "code",
   "execution_count": 11,
   "metadata": {
    "collapsed": false
   },
   "outputs": [
    {
     "name": "stdout",
     "output_type": "stream",
     "text": [
      "Melhor F1 : 0.701559; Melhor C : 0.297302\n"
     ]
    },
    {
     "data": {
      "image/png": "[encoded data removed]",
      "text/plain": [
       "<matplotlib.figure.Figure at 0x7fae5f8fe710>"
      ]
     },
     "metadata": {},
     "output_type": "display_data"
    }
   ],
   "source": [
    "from sklearn.linear_model import LogisticRegression\n",
    "lreg = LogisticRegression(random_state=0, dual=True, n_jobs=-1)\n",
    "\n",
    "Cs = 2. ** np.arange(-8, 2, 0.25)\n",
    "\n",
    "resultados, best_score, best_param = holdout(lreg, {'C': Cs})\n",
    "plot_bias_variance_tradeoff(resultados, best_param)"
   ]
  },
  {
   "cell_type": "code",
   "execution_count": 32,
   "metadata": {
    "collapsed": false
   },
   "outputs": [
    {
     "name": "stdout",
     "output_type": "stream",
     "text": [
      "Melhor F1 : 0.680452; Melhor alpha : 0.300000\n"
     ]
    },
    {
     "name": "stderr",
     "output_type": "stream",
     "text": [
      "/home/rcampos/projects/amb009/venv/lib/python3.5/site-packages/sklearn/naive_bayes.py:699: RuntimeWarning: divide by zero encountered in log\n",
      "  self.feature_log_prob_ = (np.log(smoothed_fc) -\n"
     ]
    }
   ],
   "source": [
    "from sklearn.naive_bayes import MultinomialNB\n",
    "nb = MultinomialNB()\n",
    "\n",
    "alphas = np.arange(0, 1, 0.1)\n",
    "\n",
    "resultados, best_score, best_param = holdout(nb, {'alpha': alphas[::-1]})"
   ]
  },
  {
   "cell_type": "markdown",
   "metadata": {},
   "source": [
    "## Leave-one-out e Validação Cruzada"
   ]
  },
  {
   "cell_type": "code",
   "execution_count": 60,
   "metadata": {
    "collapsed": false
   },
   "outputs": [
    {
     "name": "stdout",
     "output_type": "stream",
     "text": [
      "Melhor F1 : 0.682743; Tempo : 446.94\n"
     ]
    }
   ],
   "source": [
    "from sklearn.model_selection import LeaveOneOut\n",
    "\n",
    "inicio = time.time()\n",
    "\n",
    "loo = LeaveOneOut()\n",
    "y_pred = np.zeros((X_train.shape[0]))\n",
    "for index_train, index_valid in loo.split(X_train):\n",
    "    X_train_aux, X_valid = X_train[index_train], X_train[index_valid]\n",
    "    y_train_aux, y_valid = y_train[index_train], y_train[index_valid]\n",
    "    \n",
    "    nb.fit(X_train_aux, y_train_aux)\n",
    "    y_pred[index_valid] = nb.predict(X_valid)\n",
    "    \n",
    "fim = time.time()\n",
    "print(\"Melhor F1 : %f; Tempo : %.2f\" % (f1_score(y_train, y_pred, average = \"macro\"), fim - inicio))"
   ]
  },
  {
   "cell_type": "code",
   "execution_count": 63,
   "metadata": {
    "collapsed": false
   },
   "outputs": [
    {
     "name": "stdout",
     "output_type": "stream",
     "text": [
      "Melhor F1 : 0.617725;\n"
     ]
    }
   ],
   "source": [
    "print(\"Melhor F1 : %f;\" % (f1_score(y_test, nb.predict(X_test), average = \"macro\")))"
   ]
  },
  {
   "cell_type": "markdown",
   "metadata": {},
   "source": [
    "Leave-one-out é inviável quando temos muitos dados. Eu só estou utilizando para estimar o erro em teste, mesmo assim demora um tempão. Note que eu estou usando o naïve bayes para isso e ele é um dos métodos com processo de aprendizado mais rápido, portanto, é possível enxergar que esse método fosse utilizado para escolher o valor do hiperparâmetro serio praticamente impossível obtê-lo em um tempo aceitável.\n",
    "\n",
    "O leave-one-out é um caso especial da validação cruzada (cross-validation), quando temos N conjuntos disjuntos. Na estratégia da validação cruzada, nós divitimos o conjunto de treino em K conjuntos de tamanho similar e disjuntos, chamados de ***Folds*** (**K-Fold Cross-Validation**). Modelo é aprendido utilizando K - 1 *folds*, o *fold* deixado de fora do treino é utilizado para predição e avaliação do modelo. Esse processo é repetido K vezes para que cada *fold* seja usado para predição ao menos uma vez. Avaliação final do modelo é dado pela média das avaliações em cada *fold*. \n",
    "\n",
    "No leave-one-out, nós temos que K = N (quantidade de exemplos no conjunto de treino). \n",
    "\n",
    "T. Hastie, R. Tibshirani, J. Friedman, The Elements of Statistical Learning, Springer 2009"
   ]
  },
  {
   "cell_type": "code",
   "execution_count": 107,
   "metadata": {
    "collapsed": false,
    "scrolled": true
   },
   "outputs": [
    {
     "name": "stderr",
     "output_type": "stream",
     "text": [
      "/home/rcampos/projects/amb009/venv/lib/python3.5/site-packages/sklearn/metrics/classification.py:1113: UndefinedMetricWarning: F-score is ill-defined and being set to 0.0 in labels with no predicted samples.\n",
      "  'precision', 'predicted', average, warn_for)\n",
      "/home/rcampos/projects/amb009/venv/lib/python3.5/site-packages/sklearn/metrics/classification.py:1115: UndefinedMetricWarning: F-score is ill-defined and being set to 0.0 in labels with no true samples.\n",
      "  'recall', 'true', average, warn_for)\n",
      "/home/rcampos/projects/amb009/venv/lib/python3.5/site-packages/sklearn/metrics/classification.py:1113: UndefinedMetricWarning: F-score is ill-defined and being set to 0.0 in labels with no predicted samples.\n",
      "  'precision', 'predicted', average, warn_for)\n",
      "/home/rcampos/projects/amb009/venv/lib/python3.5/site-packages/sklearn/metrics/classification.py:1115: UndefinedMetricWarning: F-score is ill-defined and being set to 0.0 in labels with no true samples.\n",
      "  'recall', 'true', average, warn_for)\n",
      "/home/rcampos/projects/amb009/venv/lib/python3.5/site-packages/sklearn/metrics/classification.py:1113: UndefinedMetricWarning: F-score is ill-defined and being set to 0.0 in labels with no predicted samples.\n",
      "  'precision', 'predicted', average, warn_for)\n",
      "/home/rcampos/projects/amb009/venv/lib/python3.5/site-packages/sklearn/metrics/classification.py:1115: UndefinedMetricWarning: F-score is ill-defined and being set to 0.0 in labels with no true samples.\n",
      "  'recall', 'true', average, warn_for)\n",
      "/home/rcampos/projects/amb009/venv/lib/python3.5/site-packages/sklearn/metrics/classification.py:1113: UndefinedMetricWarning: F-score is ill-defined and being set to 0.0 in labels with no predicted samples.\n",
      "  'precision', 'predicted', average, warn_for)\n",
      "/home/rcampos/projects/amb009/venv/lib/python3.5/site-packages/sklearn/metrics/classification.py:1115: UndefinedMetricWarning: F-score is ill-defined and being set to 0.0 in labels with no true samples.\n",
      "  'recall', 'true', average, warn_for)\n",
      "/home/rcampos/projects/amb009/venv/lib/python3.5/site-packages/sklearn/metrics/classification.py:1113: UndefinedMetricWarning: F-score is ill-defined and being set to 0.0 in labels with no predicted samples.\n",
      "  'precision', 'predicted', average, warn_for)\n",
      "/home/rcampos/projects/amb009/venv/lib/python3.5/site-packages/sklearn/metrics/classification.py:1115: UndefinedMetricWarning: F-score is ill-defined and being set to 0.0 in labels with no true samples.\n",
      "  'recall', 'true', average, warn_for)\n",
      "/home/rcampos/projects/amb009/venv/lib/python3.5/site-packages/sklearn/metrics/classification.py:1113: UndefinedMetricWarning: F-score is ill-defined and being set to 0.0 in labels with no predicted samples.\n",
      "  'precision', 'predicted', average, warn_for)\n",
      "/home/rcampos/projects/amb009/venv/lib/python3.5/site-packages/sklearn/metrics/classification.py:1115: UndefinedMetricWarning: F-score is ill-defined and being set to 0.0 in labels with no true samples.\n",
      "  'recall', 'true', average, warn_for)\n",
      "/home/rcampos/projects/amb009/venv/lib/python3.5/site-packages/sklearn/metrics/classification.py:1113: UndefinedMetricWarning: F-score is ill-defined and being set to 0.0 in labels with no predicted samples.\n",
      "  'precision', 'predicted', average, warn_for)\n",
      "/home/rcampos/projects/amb009/venv/lib/python3.5/site-packages/sklearn/metrics/classification.py:1115: UndefinedMetricWarning: F-score is ill-defined and being set to 0.0 in labels with no true samples.\n",
      "  'recall', 'true', average, warn_for)\n",
      "/home/rcampos/projects/amb009/venv/lib/python3.5/site-packages/sklearn/metrics/classification.py:1113: UndefinedMetricWarning: F-score is ill-defined and being set to 0.0 in labels with no predicted samples.\n",
      "  'precision', 'predicted', average, warn_for)\n",
      "/home/rcampos/projects/amb009/venv/lib/python3.5/site-packages/sklearn/metrics/classification.py:1115: UndefinedMetricWarning: F-score is ill-defined and being set to 0.0 in labels with no true samples.\n",
      "  'recall', 'true', average, warn_for)\n",
      "/home/rcampos/projects/amb009/venv/lib/python3.5/site-packages/sklearn/metrics/classification.py:1113: UndefinedMetricWarning: F-score is ill-defined and being set to 0.0 in labels with no predicted samples.\n",
      "  'precision', 'predicted', average, warn_for)\n",
      "/home/rcampos/projects/amb009/venv/lib/python3.5/site-packages/sklearn/metrics/classification.py:1115: UndefinedMetricWarning: F-score is ill-defined and being set to 0.0 in labels with no true samples.\n",
      "  'recall', 'true', average, warn_for)\n",
      "/home/rcampos/projects/amb009/venv/lib/python3.5/site-packages/sklearn/metrics/classification.py:1113: UndefinedMetricWarning: F-score is ill-defined and being set to 0.0 in labels with no predicted samples.\n",
      "  'precision', 'predicted', average, warn_for)\n",
      "/home/rcampos/projects/amb009/venv/lib/python3.5/site-packages/sklearn/metrics/classification.py:1115: UndefinedMetricWarning: F-score is ill-defined and being set to 0.0 in labels with no true samples.\n",
      "  'recall', 'true', average, warn_for)\n",
      "/home/rcampos/projects/amb009/venv/lib/python3.5/site-packages/sklearn/metrics/classification.py:1113: UndefinedMetricWarning: F-score is ill-defined and being set to 0.0 in labels with no predicted samples.\n",
      "  'precision', 'predicted', average, warn_for)\n",
      "/home/rcampos/projects/amb009/venv/lib/python3.5/site-packages/sklearn/metrics/classification.py:1115: UndefinedMetricWarning: F-score is ill-defined and being set to 0.0 in labels with no true samples.\n",
      "  'recall', 'true', average, warn_for)\n",
      "/home/rcampos/projects/amb009/venv/lib/python3.5/site-packages/sklearn/metrics/classification.py:1113: UndefinedMetricWarning: F-score is ill-defined and being set to 0.0 in labels with no predicted samples.\n",
      "  'precision', 'predicted', average, warn_for)\n",
      "/home/rcampos/projects/amb009/venv/lib/python3.5/site-packages/sklearn/metrics/classification.py:1115: UndefinedMetricWarning: F-score is ill-defined and being set to 0.0 in labels with no true samples.\n",
      "  'recall', 'true', average, warn_for)\n",
      "/home/rcampos/projects/amb009/venv/lib/python3.5/site-packages/sklearn/metrics/classification.py:1113: UndefinedMetricWarning: F-score is ill-defined and being set to 0.0 in labels with no predicted samples.\n",
      "  'precision', 'predicted', average, warn_for)\n",
      "/home/rcampos/projects/amb009/venv/lib/python3.5/site-packages/sklearn/metrics/classification.py:1115: UndefinedMetricWarning: F-score is ill-defined and being set to 0.0 in labels with no true samples.\n",
      "  'recall', 'true', average, warn_for)\n",
      "/home/rcampos/projects/amb009/venv/lib/python3.5/site-packages/sklearn/metrics/classification.py:1113: UndefinedMetricWarning: F-score is ill-defined and being set to 0.0 in labels with no predicted samples.\n",
      "  'precision', 'predicted', average, warn_for)\n",
      "/home/rcampos/projects/amb009/venv/lib/python3.5/site-packages/sklearn/metrics/classification.py:1115: UndefinedMetricWarning: F-score is ill-defined and being set to 0.0 in labels with no true samples.\n",
      "  'recall', 'true', average, warn_for)\n",
      "/home/rcampos/projects/amb009/venv/lib/python3.5/site-packages/sklearn/metrics/classification.py:1113: UndefinedMetricWarning: F-score is ill-defined and being set to 0.0 in labels with no predicted samples.\n",
      "  'precision', 'predicted', average, warn_for)\n",
      "/home/rcampos/projects/amb009/venv/lib/python3.5/site-packages/sklearn/metrics/classification.py:1115: UndefinedMetricWarning: F-score is ill-defined and being set to 0.0 in labels with no true samples.\n",
      "  'recall', 'true', average, warn_for)\n",
      "/home/rcampos/projects/amb009/venv/lib/python3.5/site-packages/sklearn/metrics/classification.py:1113: UndefinedMetricWarning: F-score is ill-defined and being set to 0.0 in labels with no predicted samples.\n",
      "  'precision', 'predicted', average, warn_for)\n",
      "/home/rcampos/projects/amb009/venv/lib/python3.5/site-packages/sklearn/metrics/classification.py:1115: UndefinedMetricWarning: F-score is ill-defined and being set to 0.0 in labels with no true samples.\n",
      "  'recall', 'true', average, warn_for)\n",
      "/home/rcampos/projects/amb009/venv/lib/python3.5/site-packages/sklearn/metrics/classification.py:1113: UndefinedMetricWarning: F-score is ill-defined and being set to 0.0 in labels with no predicted samples.\n",
      "  'precision', 'predicted', average, warn_for)\n",
      "/home/rcampos/projects/amb009/venv/lib/python3.5/site-packages/sklearn/metrics/classification.py:1115: UndefinedMetricWarning: F-score is ill-defined and being set to 0.0 in labels with no true samples.\n",
      "  'recall', 'true', average, warn_for)\n",
      "/home/rcampos/projects/amb009/venv/lib/python3.5/site-packages/sklearn/metrics/classification.py:1113: UndefinedMetricWarning: F-score is ill-defined and being set to 0.0 in labels with no predicted samples.\n",
      "  'precision', 'predicted', average, warn_for)\n",
      "/home/rcampos/projects/amb009/venv/lib/python3.5/site-packages/sklearn/metrics/classification.py:1115: UndefinedMetricWarning: F-score is ill-defined and being set to 0.0 in labels with no true samples.\n",
      "  'recall', 'true', average, warn_for)\n",
      "/home/rcampos/projects/amb009/venv/lib/python3.5/site-packages/sklearn/metrics/classification.py:1113: UndefinedMetricWarning: F-score is ill-defined and being set to 0.0 in labels with no predicted samples.\n",
      "  'precision', 'predicted', average, warn_for)\n",
      "/home/rcampos/projects/amb009/venv/lib/python3.5/site-packages/sklearn/metrics/classification.py:1115: UndefinedMetricWarning: F-score is ill-defined and being set to 0.0 in labels with no true samples.\n",
      "  'recall', 'true', average, warn_for)\n",
      "/home/rcampos/projects/amb009/venv/lib/python3.5/site-packages/sklearn/metrics/classification.py:1113: UndefinedMetricWarning: F-score is ill-defined and being set to 0.0 in labels with no predicted samples.\n",
      "  'precision', 'predicted', average, warn_for)\n",
      "/home/rcampos/projects/amb009/venv/lib/python3.5/site-packages/sklearn/metrics/classification.py:1115: UndefinedMetricWarning: F-score is ill-defined and being set to 0.0 in labels with no true samples.\n",
      "  'recall', 'true', average, warn_for)\n",
      "/home/rcampos/projects/amb009/venv/lib/python3.5/site-packages/sklearn/metrics/classification.py:1113: UndefinedMetricWarning: F-score is ill-defined and being set to 0.0 in labels with no predicted samples.\n",
      "  'precision', 'predicted', average, warn_for)\n",
      "/home/rcampos/projects/amb009/venv/lib/python3.5/site-packages/sklearn/metrics/classification.py:1115: UndefinedMetricWarning: F-score is ill-defined and being set to 0.0 in labels with no true samples.\n",
      "  'recall', 'true', average, warn_for)\n",
      "/home/rcampos/projects/amb009/venv/lib/python3.5/site-packages/sklearn/metrics/classification.py:1113: UndefinedMetricWarning: F-score is ill-defined and being set to 0.0 in labels with no predicted samples.\n",
      "  'precision', 'predicted', average, warn_for)\n",
      "/home/rcampos/projects/amb009/venv/lib/python3.5/site-packages/sklearn/metrics/classification.py:1115: UndefinedMetricWarning: F-score is ill-defined and being set to 0.0 in labels with no true samples.\n",
      "  'recall', 'true', average, warn_for)\n",
      "/home/rcampos/projects/amb009/venv/lib/python3.5/site-packages/sklearn/metrics/classification.py:1113: UndefinedMetricWarning: F-score is ill-defined and being set to 0.0 in labels with no predicted samples.\n",
      "  'precision', 'predicted', average, warn_for)\n",
      "/home/rcampos/projects/amb009/venv/lib/python3.5/site-packages/sklearn/metrics/classification.py:1115: UndefinedMetricWarning: F-score is ill-defined and being set to 0.0 in labels with no true samples.\n",
      "  'recall', 'true', average, warn_for)\n",
      "/home/rcampos/projects/amb009/venv/lib/python3.5/site-packages/sklearn/metrics/classification.py:1113: UndefinedMetricWarning: F-score is ill-defined and being set to 0.0 in labels with no predicted samples.\n",
      "  'precision', 'predicted', average, warn_for)\n",
      "/home/rcampos/projects/amb009/venv/lib/python3.5/site-packages/sklearn/metrics/classification.py:1115: UndefinedMetricWarning: F-score is ill-defined and being set to 0.0 in labels with no true samples.\n",
      "  'recall', 'true', average, warn_for)\n",
      "/home/rcampos/projects/amb009/venv/lib/python3.5/site-packages/sklearn/metrics/classification.py:1113: UndefinedMetricWarning: F-score is ill-defined and being set to 0.0 in labels with no predicted samples.\n",
      "  'precision', 'predicted', average, warn_for)\n",
      "/home/rcampos/projects/amb009/venv/lib/python3.5/site-packages/sklearn/metrics/classification.py:1115: UndefinedMetricWarning: F-score is ill-defined and being set to 0.0 in labels with no true samples.\n",
      "  'recall', 'true', average, warn_for)\n",
      "/home/rcampos/projects/amb009/venv/lib/python3.5/site-packages/sklearn/metrics/classification.py:1113: UndefinedMetricWarning: F-score is ill-defined and being set to 0.0 in labels with no predicted samples.\n",
      "  'precision', 'predicted', average, warn_for)\n",
      "/home/rcampos/projects/amb009/venv/lib/python3.5/site-packages/sklearn/metrics/classification.py:1115: UndefinedMetricWarning: F-score is ill-defined and being set to 0.0 in labels with no true samples.\n",
      "  'recall', 'true', average, warn_for)\n",
      "/home/rcampos/projects/amb009/venv/lib/python3.5/site-packages/sklearn/metrics/classification.py:1113: UndefinedMetricWarning: F-score is ill-defined and being set to 0.0 in labels with no predicted samples.\n",
      "  'precision', 'predicted', average, warn_for)\n",
      "/home/rcampos/projects/amb009/venv/lib/python3.5/site-packages/sklearn/metrics/classification.py:1115: UndefinedMetricWarning: F-score is ill-defined and being set to 0.0 in labels with no true samples.\n",
      "  'recall', 'true', average, warn_for)\n",
      "/home/rcampos/projects/amb009/venv/lib/python3.5/site-packages/sklearn/metrics/classification.py:1113: UndefinedMetricWarning: F-score is ill-defined and being set to 0.0 in labels with no predicted samples.\n",
      "  'precision', 'predicted', average, warn_for)\n",
      "/home/rcampos/projects/amb009/venv/lib/python3.5/site-packages/sklearn/metrics/classification.py:1115: UndefinedMetricWarning: F-score is ill-defined and being set to 0.0 in labels with no true samples.\n",
      "  'recall', 'true', average, warn_for)\n",
      "/home/rcampos/projects/amb009/venv/lib/python3.5/site-packages/sklearn/metrics/classification.py:1113: UndefinedMetricWarning: F-score is ill-defined and being set to 0.0 in labels with no predicted samples.\n",
      "  'precision', 'predicted', average, warn_for)\n",
      "/home/rcampos/projects/amb009/venv/lib/python3.5/site-packages/sklearn/metrics/classification.py:1115: UndefinedMetricWarning: F-score is ill-defined and being set to 0.0 in labels with no true samples.\n",
      "  'recall', 'true', average, warn_for)\n",
      "/home/rcampos/projects/amb009/venv/lib/python3.5/site-packages/sklearn/metrics/classification.py:1113: UndefinedMetricWarning: F-score is ill-defined and being set to 0.0 in labels with no predicted samples.\n",
      "  'precision', 'predicted', average, warn_for)\n",
      "/home/rcampos/projects/amb009/venv/lib/python3.5/site-packages/sklearn/metrics/classification.py:1115: UndefinedMetricWarning: F-score is ill-defined and being set to 0.0 in labels with no true samples.\n",
      "  'recall', 'true', average, warn_for)\n",
      "/home/rcampos/projects/amb009/venv/lib/python3.5/site-packages/sklearn/metrics/classification.py:1113: UndefinedMetricWarning: F-score is ill-defined and being set to 0.0 in labels with no predicted samples.\n",
      "  'precision', 'predicted', average, warn_for)\n",
      "/home/rcampos/projects/amb009/venv/lib/python3.5/site-packages/sklearn/metrics/classification.py:1115: UndefinedMetricWarning: F-score is ill-defined and being set to 0.0 in labels with no true samples.\n",
      "  'recall', 'true', average, warn_for)\n",
      "/home/rcampos/projects/amb009/venv/lib/python3.5/site-packages/sklearn/metrics/classification.py:1113: UndefinedMetricWarning: F-score is ill-defined and being set to 0.0 in labels with no predicted samples.\n",
      "  'precision', 'predicted', average, warn_for)\n",
      "/home/rcampos/projects/amb009/venv/lib/python3.5/site-packages/sklearn/metrics/classification.py:1115: UndefinedMetricWarning: F-score is ill-defined and being set to 0.0 in labels with no true samples.\n",
      "  'recall', 'true', average, warn_for)\n",
      "/home/rcampos/projects/amb009/venv/lib/python3.5/site-packages/sklearn/metrics/classification.py:1113: UndefinedMetricWarning: F-score is ill-defined and being set to 0.0 in labels with no predicted samples.\n",
      "  'precision', 'predicted', average, warn_for)\n",
      "/home/rcampos/projects/amb009/venv/lib/python3.5/site-packages/sklearn/metrics/classification.py:1115: UndefinedMetricWarning: F-score is ill-defined and being set to 0.0 in labels with no true samples.\n",
      "  'recall', 'true', average, warn_for)\n",
      "/home/rcampos/projects/amb009/venv/lib/python3.5/site-packages/sklearn/metrics/classification.py:1113: UndefinedMetricWarning: F-score is ill-defined and being set to 0.0 in labels with no predicted samples.\n",
      "  'precision', 'predicted', average, warn_for)\n",
      "/home/rcampos/projects/amb009/venv/lib/python3.5/site-packages/sklearn/metrics/classification.py:1115: UndefinedMetricWarning: F-score is ill-defined and being set to 0.0 in labels with no true samples.\n",
      "  'recall', 'true', average, warn_for)\n",
      "/home/rcampos/projects/amb009/venv/lib/python3.5/site-packages/sklearn/metrics/classification.py:1113: UndefinedMetricWarning: F-score is ill-defined and being set to 0.0 in labels with no predicted samples.\n",
      "  'precision', 'predicted', average, warn_for)\n",
      "/home/rcampos/projects/amb009/venv/lib/python3.5/site-packages/sklearn/metrics/classification.py:1115: UndefinedMetricWarning: F-score is ill-defined and being set to 0.0 in labels with no true samples.\n",
      "  'recall', 'true', average, warn_for)\n",
      "/home/rcampos/projects/amb009/venv/lib/python3.5/site-packages/sklearn/metrics/classification.py:1113: UndefinedMetricWarning: F-score is ill-defined and being set to 0.0 in labels with no predicted samples.\n",
      "  'precision', 'predicted', average, warn_for)\n",
      "/home/rcampos/projects/amb009/venv/lib/python3.5/site-packages/sklearn/metrics/classification.py:1115: UndefinedMetricWarning: F-score is ill-defined and being set to 0.0 in labels with no true samples.\n",
      "  'recall', 'true', average, warn_for)\n",
      "/home/rcampos/projects/amb009/venv/lib/python3.5/site-packages/sklearn/metrics/classification.py:1113: UndefinedMetricWarning: F-score is ill-defined and being set to 0.0 in labels with no predicted samples.\n",
      "  'precision', 'predicted', average, warn_for)\n",
      "/home/rcampos/projects/amb009/venv/lib/python3.5/site-packages/sklearn/metrics/classification.py:1115: UndefinedMetricWarning: F-score is ill-defined and being set to 0.0 in labels with no true samples.\n",
      "  'recall', 'true', average, warn_for)\n",
      "/home/rcampos/projects/amb009/venv/lib/python3.5/site-packages/sklearn/metrics/classification.py:1113: UndefinedMetricWarning: F-score is ill-defined and being set to 0.0 in labels with no predicted samples.\n",
      "  'precision', 'predicted', average, warn_for)\n",
      "/home/rcampos/projects/amb009/venv/lib/python3.5/site-packages/sklearn/metrics/classification.py:1115: UndefinedMetricWarning: F-score is ill-defined and being set to 0.0 in labels with no true samples.\n",
      "  'recall', 'true', average, warn_for)\n",
      "/home/rcampos/projects/amb009/venv/lib/python3.5/site-packages/sklearn/metrics/classification.py:1113: UndefinedMetricWarning: F-score is ill-defined and being set to 0.0 in labels with no predicted samples.\n",
      "  'precision', 'predicted', average, warn_for)\n",
      "/home/rcampos/projects/amb009/venv/lib/python3.5/site-packages/sklearn/metrics/classification.py:1115: UndefinedMetricWarning: F-score is ill-defined and being set to 0.0 in labels with no true samples.\n",
      "  'recall', 'true', average, warn_for)\n",
      "/home/rcampos/projects/amb009/venv/lib/python3.5/site-packages/sklearn/metrics/classification.py:1113: UndefinedMetricWarning: F-score is ill-defined and being set to 0.0 in labels with no predicted samples.\n",
      "  'precision', 'predicted', average, warn_for)\n",
      "/home/rcampos/projects/amb009/venv/lib/python3.5/site-packages/sklearn/metrics/classification.py:1115: UndefinedMetricWarning: F-score is ill-defined and being set to 0.0 in labels with no true samples.\n",
      "  'recall', 'true', average, warn_for)\n",
      "/home/rcampos/projects/amb009/venv/lib/python3.5/site-packages/sklearn/metrics/classification.py:1113: UndefinedMetricWarning: F-score is ill-defined and being set to 0.0 in labels with no predicted samples.\n",
      "  'precision', 'predicted', average, warn_for)\n",
      "/home/rcampos/projects/amb009/venv/lib/python3.5/site-packages/sklearn/metrics/classification.py:1115: UndefinedMetricWarning: F-score is ill-defined and being set to 0.0 in labels with no true samples.\n",
      "  'recall', 'true', average, warn_for)\n",
      "/home/rcampos/projects/amb009/venv/lib/python3.5/site-packages/sklearn/metrics/classification.py:1113: UndefinedMetricWarning: F-score is ill-defined and being set to 0.0 in labels with no predicted samples.\n",
      "  'precision', 'predicted', average, warn_for)\n",
      "/home/rcampos/projects/amb009/venv/lib/python3.5/site-packages/sklearn/metrics/classification.py:1115: UndefinedMetricWarning: F-score is ill-defined and being set to 0.0 in labels with no true samples.\n",
      "  'recall', 'true', average, warn_for)\n",
      "/home/rcampos/projects/amb009/venv/lib/python3.5/site-packages/sklearn/metrics/classification.py:1113: UndefinedMetricWarning: F-score is ill-defined and being set to 0.0 in labels with no predicted samples.\n",
      "  'precision', 'predicted', average, warn_for)\n",
      "/home/rcampos/projects/amb009/venv/lib/python3.5/site-packages/sklearn/metrics/classification.py:1115: UndefinedMetricWarning: F-score is ill-defined and being set to 0.0 in labels with no true samples.\n",
      "  'recall', 'true', average, warn_for)\n",
      "/home/rcampos/projects/amb009/venv/lib/python3.5/site-packages/sklearn/metrics/classification.py:1113: UndefinedMetricWarning: F-score is ill-defined and being set to 0.0 in labels with no predicted samples.\n",
      "  'precision', 'predicted', average, warn_for)\n",
      "/home/rcampos/projects/amb009/venv/lib/python3.5/site-packages/sklearn/metrics/classification.py:1115: UndefinedMetricWarning: F-score is ill-defined and being set to 0.0 in labels with no true samples.\n",
      "  'recall', 'true', average, warn_for)\n",
      "/home/rcampos/projects/amb009/venv/lib/python3.5/site-packages/sklearn/metrics/classification.py:1113: UndefinedMetricWarning: F-score is ill-defined and being set to 0.0 in labels with no predicted samples.\n",
      "  'precision', 'predicted', average, warn_for)\n",
      "/home/rcampos/projects/amb009/venv/lib/python3.5/site-packages/sklearn/metrics/classification.py:1115: UndefinedMetricWarning: F-score is ill-defined and being set to 0.0 in labels with no true samples.\n",
      "  'recall', 'true', average, warn_for)\n",
      "/home/rcampos/projects/amb009/venv/lib/python3.5/site-packages/sklearn/metrics/classification.py:1113: UndefinedMetricWarning: F-score is ill-defined and being set to 0.0 in labels with no predicted samples.\n",
      "  'precision', 'predicted', average, warn_for)\n",
      "/home/rcampos/projects/amb009/venv/lib/python3.5/site-packages/sklearn/metrics/classification.py:1115: UndefinedMetricWarning: F-score is ill-defined and being set to 0.0 in labels with no true samples.\n",
      "  'recall', 'true', average, warn_for)\n",
      "/home/rcampos/projects/amb009/venv/lib/python3.5/site-packages/sklearn/metrics/classification.py:1113: UndefinedMetricWarning: F-score is ill-defined and being set to 0.0 in labels with no predicted samples.\n",
      "  'precision', 'predicted', average, warn_for)\n",
      "/home/rcampos/projects/amb009/venv/lib/python3.5/site-packages/sklearn/metrics/classification.py:1115: UndefinedMetricWarning: F-score is ill-defined and being set to 0.0 in labels with no true samples.\n",
      "  'recall', 'true', average, warn_for)\n",
      "/home/rcampos/projects/amb009/venv/lib/python3.5/site-packages/sklearn/metrics/classification.py:1113: UndefinedMetricWarning: F-score is ill-defined and being set to 0.0 in labels with no predicted samples.\n",
      "  'precision', 'predicted', average, warn_for)\n",
      "/home/rcampos/projects/amb009/venv/lib/python3.5/site-packages/sklearn/metrics/classification.py:1115: UndefinedMetricWarning: F-score is ill-defined and being set to 0.0 in labels with no true samples.\n",
      "  'recall', 'true', average, warn_for)\n",
      "/home/rcampos/projects/amb009/venv/lib/python3.5/site-packages/sklearn/metrics/classification.py:1113: UndefinedMetricWarning: F-score is ill-defined and being set to 0.0 in labels with no predicted samples.\n",
      "  'precision', 'predicted', average, warn_for)\n",
      "/home/rcampos/projects/amb009/venv/lib/python3.5/site-packages/sklearn/metrics/classification.py:1115: UndefinedMetricWarning: F-score is ill-defined and being set to 0.0 in labels with no true samples.\n",
      "  'recall', 'true', average, warn_for)\n",
      "/home/rcampos/projects/amb009/venv/lib/python3.5/site-packages/sklearn/metrics/classification.py:1113: UndefinedMetricWarning: F-score is ill-defined and being set to 0.0 in labels with no predicted samples.\n",
      "  'precision', 'predicted', average, warn_for)\n",
      "/home/rcampos/projects/amb009/venv/lib/python3.5/site-packages/sklearn/metrics/classification.py:1115: UndefinedMetricWarning: F-score is ill-defined and being set to 0.0 in labels with no true samples.\n",
      "  'recall', 'true', average, warn_for)\n",
      "/home/rcampos/projects/amb009/venv/lib/python3.5/site-packages/sklearn/metrics/classification.py:1113: UndefinedMetricWarning: F-score is ill-defined and being set to 0.0 in labels with no predicted samples.\n",
      "  'precision', 'predicted', average, warn_for)\n",
      "/home/rcampos/projects/amb009/venv/lib/python3.5/site-packages/sklearn/metrics/classification.py:1115: UndefinedMetricWarning: F-score is ill-defined and being set to 0.0 in labels with no true samples.\n",
      "  'recall', 'true', average, warn_for)\n",
      "/home/rcampos/projects/amb009/venv/lib/python3.5/site-packages/sklearn/metrics/classification.py:1113: UndefinedMetricWarning: F-score is ill-defined and being set to 0.0 in labels with no predicted samples.\n",
      "  'precision', 'predicted', average, warn_for)\n",
      "/home/rcampos/projects/amb009/venv/lib/python3.5/site-packages/sklearn/metrics/classification.py:1115: UndefinedMetricWarning: F-score is ill-defined and being set to 0.0 in labels with no true samples.\n",
      "  'recall', 'true', average, warn_for)\n",
      "/home/rcampos/projects/amb009/venv/lib/python3.5/site-packages/sklearn/metrics/classification.py:1113: UndefinedMetricWarning: F-score is ill-defined and being set to 0.0 in labels with no predicted samples.\n",
      "  'precision', 'predicted', average, warn_for)\n",
      "/home/rcampos/projects/amb009/venv/lib/python3.5/site-packages/sklearn/metrics/classification.py:1115: UndefinedMetricWarning: F-score is ill-defined and being set to 0.0 in labels with no true samples.\n",
      "  'recall', 'true', average, warn_for)\n",
      "/home/rcampos/projects/amb009/venv/lib/python3.5/site-packages/sklearn/metrics/classification.py:1113: UndefinedMetricWarning: F-score is ill-defined and being set to 0.0 in labels with no predicted samples.\n",
      "  'precision', 'predicted', average, warn_for)\n",
      "/home/rcampos/projects/amb009/venv/lib/python3.5/site-packages/sklearn/metrics/classification.py:1115: UndefinedMetricWarning: F-score is ill-defined and being set to 0.0 in labels with no true samples.\n",
      "  'recall', 'true', average, warn_for)\n",
      "/home/rcampos/projects/amb009/venv/lib/python3.5/site-packages/sklearn/metrics/classification.py:1113: UndefinedMetricWarning: F-score is ill-defined and being set to 0.0 in labels with no predicted samples.\n",
      "  'precision', 'predicted', average, warn_for)\n",
      "/home/rcampos/projects/amb009/venv/lib/python3.5/site-packages/sklearn/metrics/classification.py:1115: UndefinedMetricWarning: F-score is ill-defined and being set to 0.0 in labels with no true samples.\n",
      "  'recall', 'true', average, warn_for)\n",
      "/home/rcampos/projects/amb009/venv/lib/python3.5/site-packages/sklearn/metrics/classification.py:1113: UndefinedMetricWarning: F-score is ill-defined and being set to 0.0 in labels with no predicted samples.\n",
      "  'precision', 'predicted', average, warn_for)\n",
      "/home/rcampos/projects/amb009/venv/lib/python3.5/site-packages/sklearn/metrics/classification.py:1115: UndefinedMetricWarning: F-score is ill-defined and being set to 0.0 in labels with no true samples.\n",
      "  'recall', 'true', average, warn_for)\n",
      "/home/rcampos/projects/amb009/venv/lib/python3.5/site-packages/sklearn/metrics/classification.py:1113: UndefinedMetricWarning: F-score is ill-defined and being set to 0.0 in labels with no predicted samples.\n",
      "  'precision', 'predicted', average, warn_for)\n",
      "/home/rcampos/projects/amb009/venv/lib/python3.5/site-packages/sklearn/metrics/classification.py:1115: UndefinedMetricWarning: F-score is ill-defined and being set to 0.0 in labels with no true samples.\n",
      "  'recall', 'true', average, warn_for)\n",
      "/home/rcampos/projects/amb009/venv/lib/python3.5/site-packages/sklearn/metrics/classification.py:1113: UndefinedMetricWarning: F-score is ill-defined and being set to 0.0 in labels with no predicted samples.\n",
      "  'precision', 'predicted', average, warn_for)\n",
      "/home/rcampos/projects/amb009/venv/lib/python3.5/site-packages/sklearn/metrics/classification.py:1115: UndefinedMetricWarning: F-score is ill-defined and being set to 0.0 in labels with no true samples.\n",
      "  'recall', 'true', average, warn_for)\n",
      "/home/rcampos/projects/amb009/venv/lib/python3.5/site-packages/sklearn/metrics/classification.py:1113: UndefinedMetricWarning: F-score is ill-defined and being set to 0.0 in labels with no predicted samples.\n",
      "  'precision', 'predicted', average, warn_for)\n",
      "/home/rcampos/projects/amb009/venv/lib/python3.5/site-packages/sklearn/metrics/classification.py:1115: UndefinedMetricWarning: F-score is ill-defined and being set to 0.0 in labels with no true samples.\n",
      "  'recall', 'true', average, warn_for)\n",
      "/home/rcampos/projects/amb009/venv/lib/python3.5/site-packages/sklearn/metrics/classification.py:1113: UndefinedMetricWarning: F-score is ill-defined and being set to 0.0 in labels with no predicted samples.\n",
      "  'precision', 'predicted', average, warn_for)\n",
      "/home/rcampos/projects/amb009/venv/lib/python3.5/site-packages/sklearn/metrics/classification.py:1115: UndefinedMetricWarning: F-score is ill-defined and being set to 0.0 in labels with no true samples.\n",
      "  'recall', 'true', average, warn_for)\n",
      "/home/rcampos/projects/amb009/venv/lib/python3.5/site-packages/sklearn/metrics/classification.py:1113: UndefinedMetricWarning: F-score is ill-defined and being set to 0.0 in labels with no predicted samples.\n",
      "  'precision', 'predicted', average, warn_for)\n",
      "/home/rcampos/projects/amb009/venv/lib/python3.5/site-packages/sklearn/metrics/classification.py:1115: UndefinedMetricWarning: F-score is ill-defined and being set to 0.0 in labels with no true samples.\n",
      "  'recall', 'true', average, warn_for)\n",
      "/home/rcampos/projects/amb009/venv/lib/python3.5/site-packages/sklearn/metrics/classification.py:1113: UndefinedMetricWarning: F-score is ill-defined and being set to 0.0 in labels with no predicted samples.\n",
      "  'precision', 'predicted', average, warn_for)\n",
      "/home/rcampos/projects/amb009/venv/lib/python3.5/site-packages/sklearn/metrics/classification.py:1115: UndefinedMetricWarning: F-score is ill-defined and being set to 0.0 in labels with no true samples.\n",
      "  'recall', 'true', average, warn_for)\n",
      "/home/rcampos/projects/amb009/venv/lib/python3.5/site-packages/sklearn/metrics/classification.py:1113: UndefinedMetricWarning: F-score is ill-defined and being set to 0.0 in labels with no predicted samples.\n",
      "  'precision', 'predicted', average, warn_for)\n",
      "/home/rcampos/projects/amb009/venv/lib/python3.5/site-packages/sklearn/metrics/classification.py:1115: UndefinedMetricWarning: F-score is ill-defined and being set to 0.0 in labels with no true samples.\n",
      "  'recall', 'true', average, warn_for)\n",
      "/home/rcampos/projects/amb009/venv/lib/python3.5/site-packages/sklearn/metrics/classification.py:1113: UndefinedMetricWarning: F-score is ill-defined and being set to 0.0 in labels with no predicted samples.\n",
      "  'precision', 'predicted', average, warn_for)\n",
      "/home/rcampos/projects/amb009/venv/lib/python3.5/site-packages/sklearn/metrics/classification.py:1115: UndefinedMetricWarning: F-score is ill-defined and being set to 0.0 in labels with no true samples.\n",
      "  'recall', 'true', average, warn_for)\n",
      "/home/rcampos/projects/amb009/venv/lib/python3.5/site-packages/sklearn/metrics/classification.py:1113: UndefinedMetricWarning: F-score is ill-defined and being set to 0.0 in labels with no predicted samples.\n",
      "  'precision', 'predicted', average, warn_for)\n",
      "/home/rcampos/projects/amb009/venv/lib/python3.5/site-packages/sklearn/metrics/classification.py:1115: UndefinedMetricWarning: F-score is ill-defined and being set to 0.0 in labels with no true samples.\n",
      "  'recall', 'true', average, warn_for)\n",
      "/home/rcampos/projects/amb009/venv/lib/python3.5/site-packages/sklearn/metrics/classification.py:1113: UndefinedMetricWarning: F-score is ill-defined and being set to 0.0 in labels with no predicted samples.\n",
      "  'precision', 'predicted', average, warn_for)\n",
      "/home/rcampos/projects/amb009/venv/lib/python3.5/site-packages/sklearn/metrics/classification.py:1115: UndefinedMetricWarning: F-score is ill-defined and being set to 0.0 in labels with no true samples.\n",
      "  'recall', 'true', average, warn_for)\n",
      "/home/rcampos/projects/amb009/venv/lib/python3.5/site-packages/sklearn/metrics/classification.py:1113: UndefinedMetricWarning: F-score is ill-defined and being set to 0.0 in labels with no predicted samples.\n",
      "  'precision', 'predicted', average, warn_for)\n",
      "/home/rcampos/projects/amb009/venv/lib/python3.5/site-packages/sklearn/metrics/classification.py:1115: UndefinedMetricWarning: F-score is ill-defined and being set to 0.0 in labels with no true samples.\n",
      "  'recall', 'true', average, warn_for)\n",
      "/home/rcampos/projects/amb009/venv/lib/python3.5/site-packages/sklearn/metrics/classification.py:1113: UndefinedMetricWarning: F-score is ill-defined and being set to 0.0 in labels with no predicted samples.\n",
      "  'precision', 'predicted', average, warn_for)\n",
      "/home/rcampos/projects/amb009/venv/lib/python3.5/site-packages/sklearn/metrics/classification.py:1115: UndefinedMetricWarning: F-score is ill-defined and being set to 0.0 in labels with no true samples.\n",
      "  'recall', 'true', average, warn_for)\n",
      "/home/rcampos/projects/amb009/venv/lib/python3.5/site-packages/sklearn/metrics/classification.py:1113: UndefinedMetricWarning: F-score is ill-defined and being set to 0.0 in labels with no predicted samples.\n",
      "  'precision', 'predicted', average, warn_for)\n",
      "/home/rcampos/projects/amb009/venv/lib/python3.5/site-packages/sklearn/metrics/classification.py:1115: UndefinedMetricWarning: F-score is ill-defined and being set to 0.0 in labels with no true samples.\n",
      "  'recall', 'true', average, warn_for)\n",
      "/home/rcampos/projects/amb009/venv/lib/python3.5/site-packages/sklearn/metrics/classification.py:1113: UndefinedMetricWarning: F-score is ill-defined and being set to 0.0 in labels with no predicted samples.\n",
      "  'precision', 'predicted', average, warn_for)\n",
      "/home/rcampos/projects/amb009/venv/lib/python3.5/site-packages/sklearn/metrics/classification.py:1115: UndefinedMetricWarning: F-score is ill-defined and being set to 0.0 in labels with no true samples.\n",
      "  'recall', 'true', average, warn_for)\n",
      "/home/rcampos/projects/amb009/venv/lib/python3.5/site-packages/sklearn/metrics/classification.py:1113: UndefinedMetricWarning: F-score is ill-defined and being set to 0.0 in labels with no predicted samples.\n",
      "  'precision', 'predicted', average, warn_for)\n",
      "/home/rcampos/projects/amb009/venv/lib/python3.5/site-packages/sklearn/metrics/classification.py:1115: UndefinedMetricWarning: F-score is ill-defined and being set to 0.0 in labels with no true samples.\n",
      "  'recall', 'true', average, warn_for)\n",
      "/home/rcampos/projects/amb009/venv/lib/python3.5/site-packages/sklearn/metrics/classification.py:1113: UndefinedMetricWarning: F-score is ill-defined and being set to 0.0 in labels with no predicted samples.\n",
      "  'precision', 'predicted', average, warn_for)\n",
      "/home/rcampos/projects/amb009/venv/lib/python3.5/site-packages/sklearn/metrics/classification.py:1115: UndefinedMetricWarning: F-score is ill-defined and being set to 0.0 in labels with no true samples.\n",
      "  'recall', 'true', average, warn_for)\n",
      "/home/rcampos/projects/amb009/venv/lib/python3.5/site-packages/sklearn/metrics/classification.py:1113: UndefinedMetricWarning: F-score is ill-defined and being set to 0.0 in labels with no predicted samples.\n",
      "  'precision', 'predicted', average, warn_for)\n",
      "/home/rcampos/projects/amb009/venv/lib/python3.5/site-packages/sklearn/metrics/classification.py:1115: UndefinedMetricWarning: F-score is ill-defined and being set to 0.0 in labels with no true samples.\n",
      "  'recall', 'true', average, warn_for)\n",
      "/home/rcampos/projects/amb009/venv/lib/python3.5/site-packages/sklearn/metrics/classification.py:1113: UndefinedMetricWarning: F-score is ill-defined and being set to 0.0 in labels with no predicted samples.\n",
      "  'precision', 'predicted', average, warn_for)\n",
      "/home/rcampos/projects/amb009/venv/lib/python3.5/site-packages/sklearn/metrics/classification.py:1115: UndefinedMetricWarning: F-score is ill-defined and being set to 0.0 in labels with no true samples.\n",
      "  'recall', 'true', average, warn_for)\n",
      "/home/rcampos/projects/amb009/venv/lib/python3.5/site-packages/sklearn/metrics/classification.py:1113: UndefinedMetricWarning: F-score is ill-defined and being set to 0.0 in labels with no predicted samples.\n",
      "  'precision', 'predicted', average, warn_for)\n",
      "/home/rcampos/projects/amb009/venv/lib/python3.5/site-packages/sklearn/metrics/classification.py:1115: UndefinedMetricWarning: F-score is ill-defined and being set to 0.0 in labels with no true samples.\n",
      "  'recall', 'true', average, warn_for)\n",
      "/home/rcampos/projects/amb009/venv/lib/python3.5/site-packages/sklearn/metrics/classification.py:1113: UndefinedMetricWarning: F-score is ill-defined and being set to 0.0 in labels with no predicted samples.\n",
      "  'precision', 'predicted', average, warn_for)\n",
      "/home/rcampos/projects/amb009/venv/lib/python3.5/site-packages/sklearn/metrics/classification.py:1115: UndefinedMetricWarning: F-score is ill-defined and being set to 0.0 in labels with no true samples.\n",
      "  'recall', 'true', average, warn_for)\n",
      "/home/rcampos/projects/amb009/venv/lib/python3.5/site-packages/sklearn/metrics/classification.py:1113: UndefinedMetricWarning: F-score is ill-defined and being set to 0.0 in labels with no predicted samples.\n",
      "  'precision', 'predicted', average, warn_for)\n",
      "/home/rcampos/projects/amb009/venv/lib/python3.5/site-packages/sklearn/metrics/classification.py:1115: UndefinedMetricWarning: F-score is ill-defined and being set to 0.0 in labels with no true samples.\n",
      "  'recall', 'true', average, warn_for)\n",
      "/home/rcampos/projects/amb009/venv/lib/python3.5/site-packages/sklearn/metrics/classification.py:1113: UndefinedMetricWarning: F-score is ill-defined and being set to 0.0 in labels with no predicted samples.\n",
      "  'precision', 'predicted', average, warn_for)\n",
      "/home/rcampos/projects/amb009/venv/lib/python3.5/site-packages/sklearn/metrics/classification.py:1115: UndefinedMetricWarning: F-score is ill-defined and being set to 0.0 in labels with no true samples.\n",
      "  'recall', 'true', average, warn_for)\n",
      "/home/rcampos/projects/amb009/venv/lib/python3.5/site-packages/sklearn/metrics/classification.py:1113: UndefinedMetricWarning: F-score is ill-defined and being set to 0.0 in labels with no predicted samples.\n",
      "  'precision', 'predicted', average, warn_for)\n",
      "/home/rcampos/projects/amb009/venv/lib/python3.5/site-packages/sklearn/metrics/classification.py:1115: UndefinedMetricWarning: F-score is ill-defined and being set to 0.0 in labels with no true samples.\n",
      "  'recall', 'true', average, warn_for)\n",
      "/home/rcampos/projects/amb009/venv/lib/python3.5/site-packages/sklearn/metrics/classification.py:1113: UndefinedMetricWarning: F-score is ill-defined and being set to 0.0 in labels with no predicted samples.\n",
      "  'precision', 'predicted', average, warn_for)\n",
      "/home/rcampos/projects/amb009/venv/lib/python3.5/site-packages/sklearn/metrics/classification.py:1115: UndefinedMetricWarning: F-score is ill-defined and being set to 0.0 in labels with no true samples.\n",
      "  'recall', 'true', average, warn_for)\n",
      "/home/rcampos/projects/amb009/venv/lib/python3.5/site-packages/sklearn/metrics/classification.py:1113: UndefinedMetricWarning: F-score is ill-defined and being set to 0.0 in labels with no predicted samples.\n",
      "  'precision', 'predicted', average, warn_for)\n",
      "/home/rcampos/projects/amb009/venv/lib/python3.5/site-packages/sklearn/metrics/classification.py:1115: UndefinedMetricWarning: F-score is ill-defined and being set to 0.0 in labels with no true samples.\n",
      "  'recall', 'true', average, warn_for)\n",
      "/home/rcampos/projects/amb009/venv/lib/python3.5/site-packages/sklearn/metrics/classification.py:1113: UndefinedMetricWarning: F-score is ill-defined and being set to 0.0 in labels with no predicted samples.\n",
      "  'precision', 'predicted', average, warn_for)\n",
      "/home/rcampos/projects/amb009/venv/lib/python3.5/site-packages/sklearn/metrics/classification.py:1115: UndefinedMetricWarning: F-score is ill-defined and being set to 0.0 in labels with no true samples.\n",
      "  'recall', 'true', average, warn_for)\n",
      "/home/rcampos/projects/amb009/venv/lib/python3.5/site-packages/sklearn/metrics/classification.py:1113: UndefinedMetricWarning: F-score is ill-defined and being set to 0.0 in labels with no predicted samples.\n",
      "  'precision', 'predicted', average, warn_for)\n",
      "/home/rcampos/projects/amb009/venv/lib/python3.5/site-packages/sklearn/metrics/classification.py:1115: UndefinedMetricWarning: F-score is ill-defined and being set to 0.0 in labels with no true samples.\n",
      "  'recall', 'true', average, warn_for)\n",
      "/home/rcampos/projects/amb009/venv/lib/python3.5/site-packages/sklearn/metrics/classification.py:1113: UndefinedMetricWarning: F-score is ill-defined and being set to 0.0 in labels with no predicted samples.\n",
      "  'precision', 'predicted', average, warn_for)\n",
      "/home/rcampos/projects/amb009/venv/lib/python3.5/site-packages/sklearn/metrics/classification.py:1115: UndefinedMetricWarning: F-score is ill-defined and being set to 0.0 in labels with no true samples.\n",
      "  'recall', 'true', average, warn_for)\n",
      "/home/rcampos/projects/amb009/venv/lib/python3.5/site-packages/sklearn/metrics/classification.py:1113: UndefinedMetricWarning: F-score is ill-defined and being set to 0.0 in labels with no predicted samples.\n",
      "  'precision', 'predicted', average, warn_for)\n",
      "/home/rcampos/projects/amb009/venv/lib/python3.5/site-packages/sklearn/metrics/classification.py:1115: UndefinedMetricWarning: F-score is ill-defined and being set to 0.0 in labels with no true samples.\n",
      "  'recall', 'true', average, warn_for)\n",
      "/home/rcampos/projects/amb009/venv/lib/python3.5/site-packages/sklearn/metrics/classification.py:1113: UndefinedMetricWarning: F-score is ill-defined and being set to 0.0 in labels with no predicted samples.\n",
      "  'precision', 'predicted', average, warn_for)\n",
      "/home/rcampos/projects/amb009/venv/lib/python3.5/site-packages/sklearn/metrics/classification.py:1113: UndefinedMetricWarning: F-score is ill-defined and being set to 0.0 in labels with no predicted samples.\n",
      "  'precision', 'predicted', average, warn_for)\n",
      "/home/rcampos/projects/amb009/venv/lib/python3.5/site-packages/sklearn/metrics/classification.py:1115: UndefinedMetricWarning: F-score is ill-defined and being set to 0.0 in labels with no true samples.\n",
      "  'recall', 'true', average, warn_for)\n",
      "/home/rcampos/projects/amb009/venv/lib/python3.5/site-packages/sklearn/metrics/classification.py:1115: UndefinedMetricWarning: F-score is ill-defined and being set to 0.0 in labels with no true samples.\n",
      "  'recall', 'true', average, warn_for)\n",
      "/home/rcampos/projects/amb009/venv/lib/python3.5/site-packages/sklearn/metrics/classification.py:1113: UndefinedMetricWarning: F-score is ill-defined and being set to 0.0 in labels with no predicted samples.\n",
      "  'precision', 'predicted', average, warn_for)\n",
      "/home/rcampos/projects/amb009/venv/lib/python3.5/site-packages/sklearn/metrics/classification.py:1115: UndefinedMetricWarning: F-score is ill-defined and being set to 0.0 in labels with no true samples.\n",
      "  'recall', 'true', average, warn_for)\n",
      "/home/rcampos/projects/amb009/venv/lib/python3.5/site-packages/sklearn/metrics/classification.py:1113: UndefinedMetricWarning: F-score is ill-defined and being set to 0.0 in labels with no predicted samples.\n",
      "  'precision', 'predicted', average, warn_for)\n",
      "/home/rcampos/projects/amb009/venv/lib/python3.5/site-packages/sklearn/metrics/classification.py:1115: UndefinedMetricWarning: F-score is ill-defined and being set to 0.0 in labels with no true samples.\n",
      "  'recall', 'true', average, warn_for)\n",
      "/home/rcampos/projects/amb009/venv/lib/python3.5/site-packages/sklearn/metrics/classification.py:1113: UndefinedMetricWarning: F-score is ill-defined and being set to 0.0 in labels with no predicted samples.\n",
      "  'precision', 'predicted', average, warn_for)\n",
      "/home/rcampos/projects/amb009/venv/lib/python3.5/site-packages/sklearn/metrics/classification.py:1115: UndefinedMetricWarning: F-score is ill-defined and being set to 0.0 in labels with no true samples.\n",
      "  'recall', 'true', average, warn_for)\n",
      "/home/rcampos/projects/amb009/venv/lib/python3.5/site-packages/sklearn/metrics/classification.py:1113: UndefinedMetricWarning: F-score is ill-defined and being set to 0.0 in labels with no predicted samples.\n",
      "  'precision', 'predicted', average, warn_for)\n",
      "/home/rcampos/projects/amb009/venv/lib/python3.5/site-packages/sklearn/metrics/classification.py:1115: UndefinedMetricWarning: F-score is ill-defined and being set to 0.0 in labels with no true samples.\n",
      "  'recall', 'true', average, warn_for)\n",
      "/home/rcampos/projects/amb009/venv/lib/python3.5/site-packages/sklearn/metrics/classification.py:1113: UndefinedMetricWarning: F-score is ill-defined and being set to 0.0 in labels with no predicted samples.\n",
      "  'precision', 'predicted', average, warn_for)\n",
      "/home/rcampos/projects/amb009/venv/lib/python3.5/site-packages/sklearn/metrics/classification.py:1115: UndefinedMetricWarning: F-score is ill-defined and being set to 0.0 in labels with no true samples.\n",
      "  'recall', 'true', average, warn_for)\n",
      "/home/rcampos/projects/amb009/venv/lib/python3.5/site-packages/sklearn/metrics/classification.py:1113: UndefinedMetricWarning: F-score is ill-defined and being set to 0.0 in labels with no predicted samples.\n",
      "  'precision', 'predicted', average, warn_for)\n",
      "/home/rcampos/projects/amb009/venv/lib/python3.5/site-packages/sklearn/metrics/classification.py:1115: UndefinedMetricWarning: F-score is ill-defined and being set to 0.0 in labels with no true samples.\n",
      "  'recall', 'true', average, warn_for)\n",
      "/home/rcampos/projects/amb009/venv/lib/python3.5/site-packages/sklearn/metrics/classification.py:1113: UndefinedMetricWarning: F-score is ill-defined and being set to 0.0 in labels with no predicted samples.\n",
      "  'precision', 'predicted', average, warn_for)\n",
      "/home/rcampos/projects/amb009/venv/lib/python3.5/site-packages/sklearn/metrics/classification.py:1115: UndefinedMetricWarning: F-score is ill-defined and being set to 0.0 in labels with no true samples.\n",
      "  'recall', 'true', average, warn_for)\n",
      "/home/rcampos/projects/amb009/venv/lib/python3.5/site-packages/sklearn/metrics/classification.py:1113: UndefinedMetricWarning: F-score is ill-defined and being set to 0.0 in labels with no predicted samples.\n",
      "  'precision', 'predicted', average, warn_for)\n",
      "/home/rcampos/projects/amb009/venv/lib/python3.5/site-packages/sklearn/metrics/classification.py:1115: UndefinedMetricWarning: F-score is ill-defined and being set to 0.0 in labels with no true samples.\n",
      "  'recall', 'true', average, warn_for)\n",
      "/home/rcampos/projects/amb009/venv/lib/python3.5/site-packages/sklearn/metrics/classification.py:1113: UndefinedMetricWarning: F-score is ill-defined and being set to 0.0 in labels with no predicted samples.\n",
      "  'precision', 'predicted', average, warn_for)\n",
      "/home/rcampos/projects/amb009/venv/lib/python3.5/site-packages/sklearn/metrics/classification.py:1115: UndefinedMetricWarning: F-score is ill-defined and being set to 0.0 in labels with no true samples.\n",
      "  'recall', 'true', average, warn_for)\n",
      "/home/rcampos/projects/amb009/venv/lib/python3.5/site-packages/sklearn/metrics/classification.py:1113: UndefinedMetricWarning: F-score is ill-defined and being set to 0.0 in labels with no predicted samples.\n",
      "  'precision', 'predicted', average, warn_for)\n",
      "/home/rcampos/projects/amb009/venv/lib/python3.5/site-packages/sklearn/metrics/classification.py:1115: UndefinedMetricWarning: F-score is ill-defined and being set to 0.0 in labels with no true samples.\n",
      "  'recall', 'true', average, warn_for)\n",
      "/home/rcampos/projects/amb009/venv/lib/python3.5/site-packages/sklearn/metrics/classification.py:1113: UndefinedMetricWarning: F-score is ill-defined and being set to 0.0 in labels with no predicted samples.\n",
      "  'precision', 'predicted', average, warn_for)\n",
      "/home/rcampos/projects/amb009/venv/lib/python3.5/site-packages/sklearn/metrics/classification.py:1115: UndefinedMetricWarning: F-score is ill-defined and being set to 0.0 in labels with no true samples.\n",
      "  'recall', 'true', average, warn_for)\n",
      "/home/rcampos/projects/amb009/venv/lib/python3.5/site-packages/sklearn/metrics/classification.py:1113: UndefinedMetricWarning: F-score is ill-defined and being set to 0.0 in labels with no predicted samples.\n",
      "  'precision', 'predicted', average, warn_for)\n",
      "/home/rcampos/projects/amb009/venv/lib/python3.5/site-packages/sklearn/metrics/classification.py:1115: UndefinedMetricWarning: F-score is ill-defined and being set to 0.0 in labels with no true samples.\n",
      "  'recall', 'true', average, warn_for)\n",
      "/home/rcampos/projects/amb009/venv/lib/python3.5/site-packages/sklearn/metrics/classification.py:1113: UndefinedMetricWarning: F-score is ill-defined and being set to 0.0 in labels with no predicted samples.\n",
      "  'precision', 'predicted', average, warn_for)\n",
      "/home/rcampos/projects/amb009/venv/lib/python3.5/site-packages/sklearn/metrics/classification.py:1115: UndefinedMetricWarning: F-score is ill-defined and being set to 0.0 in labels with no true samples.\n",
      "  'recall', 'true', average, warn_for)\n"
     ]
    }
   ],
   "source": [
    "from sklearn.model_selection import validation_curve, KFold, ShuffleKFo\n",
    "\n",
    "ordered = np.argsort(y_train)\n",
    "\n",
    "Cs = 2. ** np.arange(-12, -2, 0.5)\n",
    "cv = KFold(n_splits = 5)\n",
    "train_scores, valid_scores = validation_curve(svm, X_train[ordered], y_train[ordered], 'C', Cs, cv=cv, n_jobs=-1, scoring='f1_macro')"
   ]
  },
  {
   "cell_type": "code",
   "execution_count": 108,
   "metadata": {
    "collapsed": false
   },
   "outputs": [
    {
     "name": "stdout",
     "output_type": "stream",
     "text": [
      "Melhor F1 : 0.034786; Melhor C : 0.044194\n"
     ]
    },
    {
     "data": {
      "image/png": "[encoded data removed]",
      "text/plain": [
       "<matplotlib.figure.Figure at 0x7fae55811a58>"
      ]
     },
     "metadata": {},
     "output_type": "display_data"
    }
   ],
   "source": [
    "mean_valid_score = valid_scores.mean(1)\n",
    "mean_train_score = train_scores.mean(1)\n",
    "\n",
    "best_param_index = np.argmax(mean_valid_score)\n",
    "\n",
    "print(\"Melhor F1 : %f; Melhor C : %f\" % (mean_valid_score[best_param_index], Cs[best_param_index]))\n",
    "\n",
    "resultados = np.vstack((Cs, 1 - mean_valid_score, 1 - mean_train_score)).T\n",
    "plot_bias_variance_tradeoff(resultados, Cs[best_param_index])"
   ]
  },
  {
   "cell_type": "code",
   "execution_count": 112,
   "metadata": {
    "collapsed": false
   },
   "outputs": [
    {
     "name": "stdout",
     "output_type": "stream",
     "text": [
      "Melhor F1 : 0.718348; Melhor C : 0.007812\n"
     ]
    },
    {
     "data": {
      "image/png": "[encoded data removed]",
      "text/plain": [
       "<matplotlib.figure.Figure at 0x7fae555239b0>"
      ]
     },
     "metadata": {},
     "output_type": "display_data"
    }
   ],
   "source": [
    "# ordered = np.argsort(y_train)\n",
    "Cs = 2. ** np.arange(-12, -2, 0.5)\n",
    "cv = KFold(n_splits = 5)\n",
    "train_scores, valid_scores = validation_curve(svm, X_train, y_train, 'C', Cs, cv=cv, n_jobs=-1, scoring='f1_macro')\n",
    "\n",
    "mean_valid_score = valid_scores.mean(1)\n",
    "mean_train_score = train_scores.mean(1)\n",
    "\n",
    "best_param_index = np.argmax(mean_valid_score)\n",
    "\n",
    "print(\"Melhor F1 : %f; Melhor C : %f\" % (mean_valid_score[best_param_index], Cs[best_param_index]))\n",
    "\n",
    "resultados = np.vstack((Cs, 1 - mean_valid_score, 1 - mean_train_score)).T\n",
    "plot_bias_variance_tradeoff(resultados, Cs[best_param_index])"
   ]
  },
  {
   "cell_type": "code",
   "execution_count": 96,
   "metadata": {
    "collapsed": false
   },
   "outputs": [
    {
     "name": "stdout",
     "output_type": "stream",
     "text": [
      "Melhor F1 : 0.724111; Melhor C : 0.011049\n"
     ]
    },
    {
     "data": {
      "image/png": "[encoded data removed]",
      "text/plain": [
       "<matplotlib.figure.Figure at 0x7fae553a2860>"
      ]
     },
     "metadata": {},
     "output_type": "display_data"
    }
   ],
   "source": [
    "Cs = 2. ** np.arange(-12, -2, 0.5)\n",
    "cv = KFold(n_splits = 10)\n",
    "train_scores, valid_scores = validation_curve(svm, X_train, y_train, 'C', Cs, cv=cv, n_jobs=-1, scoring='f1_macro')\n",
    "\n",
    "mean_valid_score = valid_scores.mean(1)\n",
    "mean_train_score = train_scores.mean(1)\n",
    "\n",
    "best_param_index = np.argmax(mean_valid_score)\n",
    "\n",
    "print(\"Melhor F1 : %f; Melhor C : %f\" % (mean_valid_score[best_param_index], Cs[best_param_index]))\n",
    "\n",
    "resultados = np.vstack((Cs, 1 - mean_valid_score, 1 - mean_train_score)).T\n",
    "plot_bias_variance_tradeoff(resultados, Cs[best_param_index])"
   ]
  },
  {
   "cell_type": "markdown",
   "metadata": {},
   "source": [
    "### Calibrando mais de um hiperparâmetro\n",
    "\n",
    "E quando o modelo possui mais de um hiperparâmetro, como fazer a calibragem?\n",
    "\n",
    "- Fazer a calibragem individual de cada um deles, sempre escolhendo o melhor valor para cada hiperparâmetro individual.\n",
    "  \n",
    "  - Não leva em consideração que os hiperparâmtros podem afetar uns aos outros\n",
    "  - Menos custo\n",
    "  \n",
    "- Usar um tática força bruta, e tentar todas as combinações de hiperparâmetros. Essa técnica é conhecida como GridSearch\n",
    "  - Pode ser muito custosa computacionalmente\n",
    "\n",
    "- Fazer uma exploração aleatória em busca dos melhores valores\n",
    "  - Computanionalmente melhor que GridSearch, porém pode ser resultar em o modelo pior que usando a técnica do GridSearch.\n",
    "    \n",
    "  \n",
    "Scikit-learn nos oferece formas simples tanto de fazer um gridsearch quanto fazer uma busca aleatória, respectivamente com os modulos, **GridSearchCV** e **RandomizedSearchCV**."
   ]
  },
  {
   "cell_type": "code",
   "execution_count": 113,
   "metadata": {
    "collapsed": false
   },
   "outputs": [
    {
     "data": {
      "text/plain": [
       "LinearSVC(C=0.011048543456039806, class_weight=None, dual=True,\n",
       "     fit_intercept=True, intercept_scaling=1, loss='squared_hinge',\n",
       "     max_iter=1000, multi_class='ovr', penalty='l2', random_state=0,\n",
       "     tol=0.0001, verbose=0)"
      ]
     },
     "execution_count": 113,
     "metadata": {},
     "output_type": "execute_result"
    }
   ],
   "source": [
    "svm"
   ]
  },
  {
   "cell_type": "markdown",
   "metadata": {},
   "source": [
    "Além do hiperparâmetro C, a implementação do SVM linear disponibilizada pelo Scikit-learn tem outros parâmetros que influenciam o aprendizado do modelo, e portanto, sua predição final. Dessa forma, podemos calibrá-los juntamente com C.\n",
    "\n",
    "Vamos então fazer isso utilizando o  **GridSearchCV** e **RandomizedSearchCV** do scikit."
   ]
  },
  {
   "cell_type": "code",
   "execution_count": 135,
   "metadata": {
    "collapsed": false,
    "scrolled": true
   },
   "outputs": [
    {
     "name": "stdout",
     "output_type": "stream",
     "text": [
      "Fitting 5 folds for each of 40 candidates, totalling 200 fits\n",
      "[CV] C=0.000244140625, class_weight=None .............................\n",
      "[CV] C=0.000244140625, class_weight=None .............................\n",
      "[CV] C=0.000244140625, class_weight=None .............................\n",
      "[CV] C=0.000244140625, class_weight=None .............................\n",
      "[CV] C=0.000244140625, class_weight=None .............................\n",
      "[CV] C=0.000244140625, class_weight=balanced .........................\n",
      "[CV] C=0.000244140625, class_weight=balanced .........................\n",
      "[CV] C=0.000244140625, class_weight=balanced .........................\n",
      "[CV]  C=0.000244140625, class_weight=None, score=0.656710, total=   1.9s\n",
      "[CV] C=0.000244140625, class_weight=balanced .........................\n",
      "[CV]  C=0.000244140625, class_weight=balanced, score=0.657889, total=   1.9s\n",
      "[CV] C=0.000244140625, class_weight=balanced .........................\n",
      "[CV]  C=0.000244140625, class_weight=None, score=0.653323, total=   2.1s\n",
      "[CV] C=0.000345266983001, class_weight=None ..........................\n",
      "[CV]  C=0.000244140625, class_weight=balanced, score=0.662525, total=   2.1s\n"
     ]
    },
    {
     "name": "stderr",
     "output_type": "stream",
     "text": [
      "[Parallel(n_jobs=-1)]: Done   2 tasks      | elapsed:    2.1s\n"
     ]
    },
    {
     "name": "stdout",
     "output_type": "stream",
     "text": [
      "[CV] C=0.000345266983001, class_weight=None ..........................\n",
      "[CV]  C=0.000244140625, class_weight=None, score=0.653290, total=   2.2s\n",
      "[CV] C=0.000345266983001, class_weight=None ..........................\n",
      "[CV]  C=0.000244140625, class_weight=None, score=0.643926, total=   2.3s\n",
      "[CV] C=0.000345266983001, class_weight=None ..........................\n",
      "[CV]  C=0.000244140625, class_weight=balanced, score=0.666381, total=   2.6s\n",
      "[CV] C=0.000345266983001, class_weight=None ..........................\n",
      "[CV]  C=0.000244140625, class_weight=None, score=0.662162, total=   2.9s\n",
      "[CV] C=0.000345266983001, class_weight=balanced ......................\n",
      "[CV]  C=0.000244140625, class_weight=balanced, score=0.662644, total=   1.9s\n",
      "[CV] C=0.000345266983001, class_weight=balanced ......................\n"
     ]
    },
    {
     "name": "stderr",
     "output_type": "stream",
     "text": [
      "[Parallel(n_jobs=-1)]: Done   9 tasks      | elapsed:    4.0s\n"
     ]
    },
    {
     "name": "stdout",
     "output_type": "stream",
     "text": [
      "[CV]  C=0.000345266983001, class_weight=None, score=0.659423, total=   1.8s\n",
      "[CV] C=0.000345266983001, class_weight=balanced ......................\n",
      "[CV]  C=0.000345266983001, class_weight=None, score=0.675587, total=   2.0s\n",
      "[CV] C=0.000345266983001, class_weight=balanced ......................\n",
      "[CV]  C=0.000345266983001, class_weight=None, score=0.669306, total=   2.0s\n",
      "[CV]  C=0.000244140625, class_weight=balanced, score=0.656523, total=   2.4s\n",
      "[CV] C=0.000345266983001, class_weight=balanced ......................\n",
      "[CV]  C=0.000345266983001, class_weight=None, score=0.666787, total=   2.1s\n",
      "[CV] C=0.00048828125, class_weight=None ..............................\n",
      "[CV] C=0.00048828125, class_weight=None ..............................\n",
      "[CV]  C=0.000345266983001, class_weight=balanced, score=0.678362, total=   1.9s\n",
      "[CV] C=0.00048828125, class_weight=None ..............................\n",
      "[CV]  C=0.000345266983001, class_weight=None, score=0.658176, total=   2.5s\n",
      "[CV] C=0.00048828125, class_weight=None ..............................\n"
     ]
    },
    {
     "name": "stderr",
     "output_type": "stream",
     "text": [
      "[Parallel(n_jobs=-1)]: Done  16 tasks      | elapsed:    5.3s\n"
     ]
    },
    {
     "name": "stdout",
     "output_type": "stream",
     "text": [
      "[CV]  C=0.000345266983001, class_weight=balanced, score=0.670839, total=   2.2s\n",
      "[CV]  C=0.000345266983001, class_weight=balanced, score=0.670727, total=   2.0s\n",
      "[CV] C=0.00048828125, class_weight=None ..............................\n",
      "[CV] C=0.00048828125, class_weight=balanced ..........................\n",
      "[CV]  C=0.000345266983001, class_weight=balanced, score=0.675161, total=   2.1s\n",
      "[CV] C=0.00048828125, class_weight=balanced ..........................\n",
      "[CV]  C=0.000345266983001, class_weight=balanced, score=0.663598, total=   2.2s\n",
      "[CV] C=0.00048828125, class_weight=balanced ..........................\n",
      "[CV]  C=0.00048828125, class_weight=None, score=0.673091, total=   2.1s\n",
      "[CV] C=0.00048828125, class_weight=balanced ..........................\n",
      "[CV]  C=0.00048828125, class_weight=None, score=0.678514, total=   3.4s\n",
      "[CV] C=0.00048828125, class_weight=balanced ..........................\n",
      "[CV]  C=0.00048828125, class_weight=None, score=0.678755, total=   2.7s\n",
      "[CV] C=0.000690533966002, class_weight=None ..........................\n",
      "[CV]  C=0.00048828125, class_weight=balanced, score=0.683224, total=   2.1s\n",
      "[CV] C=0.000690533966002, class_weight=None ..........................\n",
      "[CV]  C=0.00048828125, class_weight=balanced, score=0.687367, total=   2.9s\n",
      "[CV] C=0.000690533966002, class_weight=None ..........................\n"
     ]
    },
    {
     "name": "stderr",
     "output_type": "stream",
     "text": [
      "[Parallel(n_jobs=-1)]: Done  25 tasks      | elapsed:    9.3s\n"
     ]
    },
    {
     "name": "stdout",
     "output_type": "stream",
     "text": [
      "[CV]  C=0.00048828125, class_weight=balanced, score=0.681343, total=   3.4s\n",
      "[CV] C=0.000690533966002, class_weight=None ..........................\n",
      "[CV]  C=0.00048828125, class_weight=None, score=0.667023, total=   3.9s\n",
      "[CV] C=0.000690533966002, class_weight=None ..........................\n",
      "[CV]  C=0.00048828125, class_weight=balanced, score=0.680456, total=   3.2s\n",
      "[CV] C=0.000690533966002, class_weight=balanced ......................\n",
      "[CV]  C=0.00048828125, class_weight=None, score=0.683900, total=   6.0s\n",
      "[CV] C=0.000690533966002, class_weight=balanced ......................\n",
      "[CV]  C=0.00048828125, class_weight=balanced, score=0.671186, total=   3.2s\n",
      "[CV] C=0.000690533966002, class_weight=balanced ......................\n",
      "[CV]  C=0.000690533966002, class_weight=None, score=0.682246, total=   2.0s\n",
      "[CV] C=0.000690533966002, class_weight=balanced ......................\n",
      "[CV]  C=0.000690533966002, class_weight=None, score=0.695919, total=   3.2s\n",
      "[CV] C=0.000690533966002, class_weight=balanced ......................\n",
      "[CV]  C=0.000690533966002, class_weight=None, score=0.687229, total=   2.8s\n",
      "[CV] C=0.0009765625, class_weight=None ...............................\n",
      "[CV]  C=0.000690533966002, class_weight=None, score=0.672102, total=   2.2s\n",
      "[CV] C=0.0009765625, class_weight=None ...............................\n"
     ]
    },
    {
     "name": "stderr",
     "output_type": "stream",
     "text": [
      "[Parallel(n_jobs=-1)]: Done  34 tasks      | elapsed:   12.5s\n"
     ]
    },
    {
     "name": "stdout",
     "output_type": "stream",
     "text": [
      "[CV]  C=0.000690533966002, class_weight=balanced, score=0.686249, total=   2.4s\n",
      "[CV] C=0.0009765625, class_weight=None ...............................\n",
      "[CV]  C=0.000690533966002, class_weight=balanced, score=0.696063, total=   2.2s\n",
      "[CV] C=0.0009765625, class_weight=None ...............................\n",
      "[CV]  C=0.000690533966002, class_weight=balanced, score=0.687120, total=   2.4s\n",
      "[CV] C=0.0009765625, class_weight=None ...............................\n",
      "[CV]  C=0.000690533966002, class_weight=balanced, score=0.700357, total=   3.3s\n",
      "[CV] C=0.0009765625, class_weight=balanced ...........................\n",
      "[CV]  C=0.000690533966002, class_weight=balanced, score=0.677483, total=   2.7s\n",
      "[CV] C=0.0009765625, class_weight=balanced ...........................\n",
      "[CV]  C=0.0009765625, class_weight=None, score=0.698602, total=   3.3s\n",
      "[CV] C=0.0009765625, class_weight=balanced ...........................\n",
      "[CV]  C=0.000690533966002, class_weight=None, score=0.686025, total=   5.8s\n",
      "[CV] C=0.0009765625, class_weight=balanced ...........................\n",
      "[CV]  C=0.0009765625, class_weight=None, score=0.705051, total=   3.8s\n",
      "[CV] C=0.0009765625, class_weight=balanced ...........................\n",
      "[CV]  C=0.0009765625, class_weight=None, score=0.682261, total=   2.5s\n",
      "[CV] C=0.001381067932, class_weight=None .............................\n",
      "[CV]  C=0.0009765625, class_weight=None, score=0.688458, total=   3.8s\n",
      "[CV] C=0.001381067932, class_weight=None .............................\n",
      "[CV]  C=0.0009765625, class_weight=balanced, score=0.698048, total=   3.7s\n",
      "[CV] C=0.001381067932, class_weight=None .............................\n"
     ]
    },
    {
     "name": "stderr",
     "output_type": "stream",
     "text": [
      "[Parallel(n_jobs=-1)]: Done  45 tasks      | elapsed:   18.0s\n"
     ]
    },
    {
     "name": "stdout",
     "output_type": "stream",
     "text": [
      "[CV]  C=0.001381067932, class_weight=None, score=0.711630, total=   2.4s\n",
      "[CV] C=0.001381067932, class_weight=None .............................\n",
      "[CV]  C=0.0009765625, class_weight=balanced, score=0.686572, total=   2.9s\n",
      "[CV] C=0.001381067932, class_weight=None .............................\n",
      "[CV]  C=0.0009765625, class_weight=balanced, score=0.711024, total=   5.1s\n",
      "[CV] C=0.001381067932, class_weight=balanced .........................\n",
      "[CV]  C=0.0009765625, class_weight=None, score=0.694996, total=   5.5s\n",
      "[CV] C=0.001381067932, class_weight=balanced .........................\n",
      "[CV]  C=0.001381067932, class_weight=None, score=0.704832, total=   2.2s\n",
      "[CV] C=0.001381067932, class_weight=balanced .........................\n",
      "[CV]  C=0.0009765625, class_weight=balanced, score=0.698243, total=   3.9s\n",
      "[CV] C=0.001381067932, class_weight=balanced .........................\n",
      "[CV]  C=0.001381067932, class_weight=balanced, score=0.706915, total=   2.2s\n",
      "[CV] C=0.001381067932, class_weight=balanced .........................\n",
      "[CV]  C=0.001381067932, class_weight=balanced, score=0.717747, total=   2.5s\n",
      "[CV] C=0.001953125, class_weight=None ................................\n",
      "[CV]  C=0.001381067932, class_weight=None, score=0.685735, total=   2.9s\n",
      "[CV] C=0.001953125, class_weight=None ................................\n",
      "[CV]  C=0.0009765625, class_weight=balanced, score=0.693758, total=   6.1s\n",
      "[CV] C=0.001953125, class_weight=None ................................\n",
      "[CV]  C=0.001381067932, class_weight=None, score=0.697764, total=   4.1s\n",
      "[CV] C=0.001953125, class_weight=None ................................\n"
     ]
    },
    {
     "name": "stderr",
     "output_type": "stream",
     "text": [
      "[Parallel(n_jobs=-1)]: Done  56 tasks      | elapsed:   22.1s\n"
     ]
    },
    {
     "name": "stdout",
     "output_type": "stream",
     "text": [
      "[CV]  C=0.001381067932, class_weight=balanced, score=0.705826, total=   3.2s\n",
      "[CV] C=0.001953125, class_weight=None ................................\n",
      "[CV]  C=0.001381067932, class_weight=None, score=0.697431, total=   5.0s\n",
      "[CV] C=0.001953125, class_weight=balanced ............................\n",
      "[CV] . C=0.001953125, class_weight=None, score=0.715905, total=   2.5s\n",
      "[CV] C=0.001953125, class_weight=balanced ............................\n",
      "[CV] . C=0.001953125, class_weight=None, score=0.706239, total=   2.8s\n",
      "[CV] C=0.001953125, class_weight=balanced ............................\n",
      "[CV]  C=0.001381067932, class_weight=balanced, score=0.701314, total=   5.3s\n",
      "[CV] C=0.001953125, class_weight=balanced ............................\n",
      "[CV] . C=0.001953125, class_weight=None, score=0.689381, total=   3.6s\n",
      "[CV] C=0.001953125, class_weight=balanced ............................\n",
      "[CV]  C=0.001953125, class_weight=balanced, score=0.725788, total=   2.6s\n",
      "[CV] C=0.00276213586401, class_weight=None ...........................\n",
      "[CV] . C=0.001953125, class_weight=None, score=0.710032, total=   4.4s\n",
      "[CV] C=0.00276213586401, class_weight=None ...........................\n",
      "[CV]  C=0.001953125, class_weight=balanced, score=0.712056, total=   2.8s\n",
      "[CV] C=0.00276213586401, class_weight=None ...........................\n",
      "[CV] . C=0.001953125, class_weight=None, score=0.705188, total=   5.2s\n",
      "[CV] C=0.00276213586401, class_weight=None ...........................\n",
      "[CV]  C=0.001381067932, class_weight=balanced, score=0.692219, total=   6.1s\n",
      "[CV] C=0.00276213586401, class_weight=None ...........................\n",
      "[CV]  C=0.001953125, class_weight=balanced, score=0.715686, total=   4.5s\n",
      "[CV] C=0.00276213586401, class_weight=balanced .......................\n",
      "[CV]  C=0.001953125, class_weight=balanced, score=0.694794, total=   3.5s\n",
      "[CV] C=0.00276213586401, class_weight=balanced .......................\n",
      "[CV]  C=0.00276213586401, class_weight=None, score=0.722165, total=   3.3s\n"
     ]
    },
    {
     "name": "stderr",
     "output_type": "stream",
     "text": [
      "[Parallel(n_jobs=-1)]: Done  69 tasks      | elapsed:   29.7s\n"
     ]
    },
    {
     "name": "stdout",
     "output_type": "stream",
     "text": [
      "[CV] C=0.00276213586401, class_weight=balanced .......................\n",
      "[CV]  C=0.00276213586401, class_weight=None, score=0.709813, total=   3.7s\n",
      "[CV] C=0.00276213586401, class_weight=balanced .......................\n",
      "[CV]  C=0.001953125, class_weight=balanced, score=0.703316, total=   5.1s\n",
      "[CV] C=0.00276213586401, class_weight=balanced .......................\n",
      "[CV]  C=0.00276213586401, class_weight=None, score=0.716058, total=   3.6s\n",
      "[CV] C=0.00390625, class_weight=None .................................\n",
      "[CV]  C=0.00276213586401, class_weight=None, score=0.707365, total=   3.6s\n",
      "[CV] C=0.00390625, class_weight=None .................................\n",
      "[CV]  C=0.00276213586401, class_weight=None, score=0.697210, total=   3.8s\n",
      "[CV] C=0.00390625, class_weight=None .................................\n",
      "[CV]  C=0.00276213586401, class_weight=balanced, score=0.729153, total=   2.6s\n",
      "[CV] C=0.00390625, class_weight=None .................................\n",
      "[CV]  C=0.00276213586401, class_weight=balanced, score=0.718064, total=   3.1s\n",
      "[CV] C=0.00390625, class_weight=None .................................\n",
      "[CV]  C=0.00276213586401, class_weight=balanced, score=0.718102, total=   3.6s\n",
      "[CV] C=0.00390625, class_weight=balanced .............................\n",
      "[CV] .. C=0.00390625, class_weight=None, score=0.727305, total=   3.0s\n",
      "[CV] C=0.00390625, class_weight=balanced .............................\n",
      "[CV]  C=0.00276213586401, class_weight=balanced, score=0.699435, total=   3.7s\n",
      "[CV] C=0.00390625, class_weight=balanced .............................\n",
      "[CV]  C=0.00276213586401, class_weight=balanced, score=0.706440, total=   3.8s\n",
      "[CV] C=0.00390625, class_weight=balanced .............................\n",
      "[CV] .. C=0.00390625, class_weight=None, score=0.716818, total=   3.9s\n",
      "[CV] C=0.00390625, class_weight=balanced .............................\n",
      "[CV] .. C=0.00390625, class_weight=None, score=0.708965, total=   3.1s\n"
     ]
    },
    {
     "name": "stderr",
     "output_type": "stream",
     "text": [
      "[Parallel(n_jobs=-1)]: Done  82 tasks      | elapsed:   35.1s\n"
     ]
    },
    {
     "name": "stdout",
     "output_type": "stream",
     "text": [
      "[CV] C=0.00552427172802, class_weight=None ...........................\n",
      "[CV] .. C=0.00390625, class_weight=None, score=0.720932, total=   4.1s\n",
      "[CV] C=0.00552427172802, class_weight=None ...........................\n",
      "[CV]  C=0.00390625, class_weight=balanced, score=0.734351, total=   3.0s\n",
      "[CV] C=0.00552427172802, class_weight=None ...........................\n",
      "[CV]  C=0.00390625, class_weight=balanced, score=0.708148, total=   2.8s\n",
      "[CV] C=0.00552427172802, class_weight=None ...........................\n",
      "[CV]  C=0.00390625, class_weight=balanced, score=0.718963, total=   3.5s\n",
      "[CV] C=0.00552427172802, class_weight=None ...........................\n",
      "[CV] .. C=0.00390625, class_weight=None, score=0.699714, total=   5.3s\n",
      "[CV] C=0.00552427172802, class_weight=balanced .......................\n",
      "[CV]  C=0.00552427172802, class_weight=None, score=0.724941, total=   3.3s\n",
      "[CV] C=0.00552427172802, class_weight=balanced .......................\n",
      "[CV]  C=0.00552427172802, class_weight=None, score=0.717436, total=   3.0s\n",
      "[CV] C=0.00552427172802, class_weight=balanced .......................\n",
      "[CV]  C=0.00390625, class_weight=balanced, score=0.722287, total=   4.7s\n",
      "[CV] C=0.00552427172802, class_weight=balanced .......................\n",
      "[CV]  C=0.00552427172802, class_weight=None, score=0.717251, total=   3.2s\n",
      "[CV] C=0.00552427172802, class_weight=balanced .......................\n",
      "[CV]  C=0.00552427172802, class_weight=None, score=0.722960, total=   3.8s\n",
      "[CV] C=0.0078125, class_weight=None ..................................\n",
      "[CV]  C=0.00390625, class_weight=balanced, score=0.704412, total=   5.7s\n",
      "[CV] C=0.0078125, class_weight=None ..................................\n",
      "[CV]  C=0.00552427172802, class_weight=balanced, score=0.721625, total=   2.7s\n",
      "[CV] C=0.0078125, class_weight=None ..................................\n",
      "[CV]  C=0.00552427172802, class_weight=balanced, score=0.731603, total=   3.3s\n",
      "[CV] C=0.0078125, class_weight=None ..................................\n",
      "[CV]  C=0.00552427172802, class_weight=balanced, score=0.713048, total=   3.1s\n",
      "[CV] C=0.0078125, class_weight=None ..................................\n"
     ]
    },
    {
     "name": "stderr",
     "output_type": "stream",
     "text": [
      "[Parallel(n_jobs=-1)]: Done  97 tasks      | elapsed:   42.2s\n"
     ]
    },
    {
     "name": "stdout",
     "output_type": "stream",
     "text": [
      "[CV]  C=0.00552427172802, class_weight=balanced, score=0.726544, total=   3.6s\n",
      "[CV] C=0.0078125, class_weight=balanced ..............................\n",
      "[CV]  C=0.00552427172802, class_weight=None, score=0.699008, total=   5.4s\n",
      "[CV] C=0.0078125, class_weight=balanced ..............................\n",
      "[CV] ... C=0.0078125, class_weight=None, score=0.727641, total=   3.5s\n",
      "[CV] C=0.0078125, class_weight=balanced ..............................\n",
      "[CV] ... C=0.0078125, class_weight=None, score=0.717752, total=   3.5s\n",
      "[CV] C=0.0078125, class_weight=balanced ..............................\n",
      "[CV] ... C=0.0078125, class_weight=None, score=0.717986, total=   2.9s\n",
      "[CV] C=0.0078125, class_weight=balanced ..............................\n",
      "[CV] ... C=0.0078125, class_weight=None, score=0.727652, total=   3.9s\n",
      "[CV] C=0.011048543456, class_weight=None .............................\n",
      "[CV]  C=0.0078125, class_weight=balanced, score=0.727570, total=   3.0s\n",
      "[CV] C=0.011048543456, class_weight=None .............................\n",
      "[CV]  C=0.00552427172802, class_weight=balanced, score=0.705175, total=   5.4s\n",
      "[CV] C=0.011048543456, class_weight=None .............................\n",
      "[CV]  C=0.0078125, class_weight=balanced, score=0.718722, total=   3.3s\n",
      "[CV] C=0.011048543456, class_weight=None .............................\n",
      "[CV]  C=0.0078125, class_weight=balanced, score=0.718032, total=   2.9s\n",
      "[CV] C=0.011048543456, class_weight=None .............................\n",
      "[CV] ... C=0.0078125, class_weight=None, score=0.700709, total=   5.8s\n",
      "[CV] C=0.011048543456, class_weight=balanced .........................\n",
      "[CV]  C=0.0078125, class_weight=balanced, score=0.727589, total=   4.0s\n",
      "[CV] C=0.011048543456, class_weight=balanced .........................\n",
      "[CV]  C=0.011048543456, class_weight=None, score=0.723595, total=   3.4s\n",
      "[CV] C=0.011048543456, class_weight=balanced .........................\n",
      "[CV]  C=0.011048543456, class_weight=None, score=0.719700, total=   2.9s\n",
      "[CV] C=0.011048543456, class_weight=balanced .........................\n",
      "[CV]  C=0.0078125, class_weight=balanced, score=0.710573, total=   5.5s\n",
      "[CV] C=0.011048543456, class_weight=balanced .........................\n",
      "[CV]  C=0.011048543456, class_weight=None, score=0.713440, total=   4.7s\n",
      "[CV] C=0.015625, class_weight=None ...................................\n"
     ]
    },
    {
     "name": "stderr",
     "output_type": "stream",
     "text": [
      "[Parallel(n_jobs=-1)]: Done 112 tasks      | elapsed:   50.3s\n"
     ]
    },
    {
     "name": "stdout",
     "output_type": "stream",
     "text": [
      "[CV]  C=0.011048543456, class_weight=None, score=0.730328, total=   4.6s\n",
      "[CV] C=0.015625, class_weight=None ...................................\n",
      "[CV]  C=0.011048543456, class_weight=None, score=0.700100, total=   4.0s\n",
      "[CV] C=0.015625, class_weight=None ...................................\n",
      "[CV]  C=0.011048543456, class_weight=balanced, score=0.723787, total=   3.6s\n",
      "[CV] C=0.015625, class_weight=None ...................................\n",
      "[CV]  C=0.011048543456, class_weight=balanced, score=0.718142, total=   3.0s\n",
      "[CV] C=0.015625, class_weight=None ...................................\n",
      "[CV]  C=0.011048543456, class_weight=balanced, score=0.729153, total=   4.2s\n",
      "[CV] C=0.015625, class_weight=balanced ...............................\n",
      "[CV]  C=0.011048543456, class_weight=balanced, score=0.714990, total=   4.9s\n",
      "[CV] C=0.015625, class_weight=balanced ...............................\n",
      "[CV]  C=0.011048543456, class_weight=balanced, score=0.705923, total=   4.9s\n",
      "[CV] C=0.015625, class_weight=balanced ...............................\n",
      "[CV] .... C=0.015625, class_weight=None, score=0.724804, total=   5.0s\n",
      "[CV] C=0.015625, class_weight=balanced ...............................\n",
      "[CV] .... C=0.015625, class_weight=None, score=0.712037, total=   5.1s\n",
      "[CV] C=0.015625, class_weight=balanced ...............................\n",
      "[CV] .... C=0.015625, class_weight=None, score=0.716127, total=   4.4s\n",
      "[CV] .... C=0.015625, class_weight=None, score=0.725417, total=   4.5s\n",
      "[CV] C=0.0220970869121, class_weight=None ............................\n",
      "[CV] C=0.0220970869121, class_weight=None ............................\n",
      "[CV] .... C=0.015625, class_weight=None, score=0.703557, total=   4.3s\n",
      "[CV] C=0.0220970869121, class_weight=None ............................\n",
      "[CV]  C=0.015625, class_weight=balanced, score=0.710293, total=   4.9s\n",
      "[CV] C=0.0220970869121, class_weight=None ............................\n",
      "[CV]  C=0.015625, class_weight=balanced, score=0.722830, total=   5.1s\n",
      "[CV] C=0.0220970869121, class_weight=None ............................\n",
      "[CV]  C=0.015625, class_weight=balanced, score=0.713511, total=   3.3s\n",
      "[CV] C=0.0220970869121, class_weight=balanced ........................\n",
      "[CV]  C=0.015625, class_weight=balanced, score=0.722154, total=   5.1s\n",
      "[CV] C=0.0220970869121, class_weight=balanced ........................\n",
      "[CV]  C=0.0220970869121, class_weight=None, score=0.708303, total=   4.2s\n",
      "[CV] C=0.0220970869121, class_weight=balanced ........................\n"
     ]
    },
    {
     "name": "stderr",
     "output_type": "stream",
     "text": [
      "[Parallel(n_jobs=-1)]: Done 129 tasks      | elapsed:  1.0min\n"
     ]
    },
    {
     "name": "stdout",
     "output_type": "stream",
     "text": [
      "[CV]  C=0.015625, class_weight=balanced, score=0.708420, total=   5.1s\n",
      "[CV] C=0.0220970869121, class_weight=balanced ........................\n",
      "[CV]  C=0.0220970869121, class_weight=None, score=0.719823, total=   4.9s\n",
      "[CV] C=0.0220970869121, class_weight=balanced ........................\n",
      "[CV]  C=0.0220970869121, class_weight=None, score=0.722537, total=   5.0s\n",
      "[CV] C=0.03125, class_weight=None ....................................\n",
      "[CV]  C=0.0220970869121, class_weight=None, score=0.710062, total=   4.3s\n",
      "[CV] C=0.03125, class_weight=None ....................................\n",
      "[CV]  C=0.0220970869121, class_weight=None, score=0.703011, total=   4.7s\n",
      "[CV] C=0.03125, class_weight=None ....................................\n",
      "[CV]  C=0.0220970869121, class_weight=balanced, score=0.721207, total=   5.0s\n",
      "[CV] C=0.03125, class_weight=None ....................................\n",
      "[CV]  C=0.0220970869121, class_weight=balanced, score=0.709106, total=   4.2s\n",
      "[CV] C=0.03125, class_weight=None ....................................\n",
      "[CV]  C=0.0220970869121, class_weight=balanced, score=0.705512, total=   3.8s\n",
      "[CV] C=0.03125, class_weight=balanced ................................\n",
      "[CV]  C=0.0220970869121, class_weight=balanced, score=0.723060, total=   4.6s\n",
      "[CV] C=0.03125, class_weight=balanced ................................\n",
      "[CV]  C=0.0220970869121, class_weight=balanced, score=0.710679, total=   5.7s\n",
      "[CV] C=0.03125, class_weight=balanced ................................\n",
      "[CV] ..... C=0.03125, class_weight=None, score=0.699413, total=   4.3s\n",
      "[CV] C=0.03125, class_weight=balanced ................................\n",
      "[CV] ..... C=0.03125, class_weight=None, score=0.712567, total=   5.5s\n",
      "[CV] C=0.03125, class_weight=balanced ................................\n",
      "[CV] ..... C=0.03125, class_weight=None, score=0.707446, total=   4.8s\n",
      "[CV] C=0.0441941738242, class_weight=None ............................\n",
      "[CV] ..... C=0.03125, class_weight=None, score=0.719422, total=   6.2s\n",
      "[CV] C=0.0441941738242, class_weight=None ............................\n",
      "[CV] . C=0.03125, class_weight=balanced, score=0.702873, total=   4.6s\n",
      "[CV] C=0.0441941738242, class_weight=None ............................\n",
      "[CV] ..... C=0.03125, class_weight=None, score=0.701288, total=   5.7s\n",
      "[CV] C=0.0441941738242, class_weight=None ............................\n"
     ]
    },
    {
     "name": "stderr",
     "output_type": "stream",
     "text": [
      "[Parallel(n_jobs=-1)]: Done 146 tasks      | elapsed:  1.2min\n"
     ]
    },
    {
     "name": "stdout",
     "output_type": "stream",
     "text": [
      "[CV] . C=0.03125, class_weight=balanced, score=0.714638, total=   5.5s\n",
      "[CV] C=0.0441941738242, class_weight=None ............................\n",
      "[CV] . C=0.03125, class_weight=balanced, score=0.706331, total=   4.4s\n",
      "[CV] C=0.0441941738242, class_weight=balanced ........................\n",
      "[CV] . C=0.03125, class_weight=balanced, score=0.716986, total=   6.1s\n",
      "[CV] C=0.0441941738242, class_weight=balanced ........................\n",
      "[CV] . C=0.03125, class_weight=balanced, score=0.703334, total=   6.1s\n",
      "[CV] C=0.0441941738242, class_weight=balanced ........................\n",
      "[CV]  C=0.0441941738242, class_weight=None, score=0.694920, total=   4.6s\n",
      "[CV] C=0.0441941738242, class_weight=balanced ........................\n",
      "[CV]  C=0.0441941738242, class_weight=None, score=0.707248, total=   3.8s\n",
      "[CV] C=0.0441941738242, class_weight=balanced ........................\n",
      "[CV]  C=0.0441941738242, class_weight=None, score=0.716804, total=   5.2s\n",
      "[CV] C=0.0625, class_weight=None .....................................\n",
      "[CV]  C=0.0441941738242, class_weight=None, score=0.708607, total=   7.1s\n",
      "[CV] C=0.0625, class_weight=None .....................................\n",
      "[CV]  C=0.0441941738242, class_weight=None, score=0.698059, total=   5.4s\n",
      "[CV] C=0.0625, class_weight=None .....................................\n",
      "[CV]  C=0.0441941738242, class_weight=balanced, score=0.706749, total=   3.6s\n",
      "[CV] C=0.0625, class_weight=None .....................................\n",
      "[CV]  C=0.0441941738242, class_weight=balanced, score=0.696234, total=   5.1s\n",
      "[CV] C=0.0625, class_weight=None .....................................\n",
      "[CV]  C=0.0441941738242, class_weight=balanced, score=0.709630, total=   7.1s\n",
      "[CV] C=0.0625, class_weight=balanced .................................\n",
      "[CV]  C=0.0441941738242, class_weight=balanced, score=0.714826, total=   5.6s\n",
      "[CV] C=0.0625, class_weight=balanced .................................\n",
      "[CV]  C=0.0441941738242, class_weight=balanced, score=0.696497, total=   6.0s\n",
      "[CV] C=0.0625, class_weight=balanced .................................\n",
      "[CV] ...... C=0.0625, class_weight=None, score=0.712853, total=   5.3s\n",
      "[CV] C=0.0625, class_weight=balanced .................................\n",
      "[CV] ...... C=0.0625, class_weight=None, score=0.690879, total=   5.6s\n",
      "[CV] C=0.0625, class_weight=balanced .................................\n",
      "[CV] ...... C=0.0625, class_weight=None, score=0.705658, total=   3.9s\n",
      "[CV] C=0.0883883476483, class_weight=None ............................\n",
      "[CV] ...... C=0.0625, class_weight=None, score=0.707077, total=   7.3s\n",
      "[CV] C=0.0883883476483, class_weight=None ............................\n",
      "[CV] ...... C=0.0625, class_weight=None, score=0.690518, total=   5.9s\n",
      "[CV] C=0.0883883476483, class_weight=None ............................\n"
     ]
    },
    {
     "name": "stderr",
     "output_type": "stream",
     "text": [
      "[Parallel(n_jobs=-1)]: Done 165 tasks      | elapsed:  1.4min\n"
     ]
    },
    {
     "name": "stdout",
     "output_type": "stream",
     "text": [
      "[CV] .. C=0.0625, class_weight=balanced, score=0.691571, total=   5.4s\n",
      "[CV] C=0.0883883476483, class_weight=None ............................\n",
      "[CV] .. C=0.0625, class_weight=balanced, score=0.704063, total=   3.9s\n",
      "[CV] C=0.0883883476483, class_weight=None ............................\n",
      "[CV] .. C=0.0625, class_weight=balanced, score=0.713827, total=   5.9s\n",
      "[CV] C=0.0883883476483, class_weight=balanced ........................\n",
      "[CV] .. C=0.0625, class_weight=balanced, score=0.704425, total=   8.3s\n",
      "[CV] C=0.0883883476483, class_weight=balanced ........................\n",
      "[CV] .. C=0.0625, class_weight=balanced, score=0.690606, total=   5.9s\n",
      "[CV] C=0.0883883476483, class_weight=balanced ........................\n",
      "[CV]  C=0.0883883476483, class_weight=None, score=0.687248, total=   6.1s\n",
      "[CV] C=0.0883883476483, class_weight=balanced ........................\n",
      "[CV]  C=0.0883883476483, class_weight=None, score=0.698756, total=   4.0s\n",
      "[CV] C=0.0883883476483, class_weight=balanced ........................\n",
      "[CV]  C=0.0883883476483, class_weight=None, score=0.708248, total=   6.4s\n",
      "[CV] C=0.125, class_weight=None ......................................\n",
      "[CV]  C=0.0883883476483, class_weight=None, score=0.699419, total=   9.0s\n",
      "[CV] C=0.125, class_weight=None ......................................\n",
      "[CV]  C=0.0883883476483, class_weight=None, score=0.684312, total=   7.3s\n",
      "[CV] C=0.125, class_weight=None ......................................\n",
      "[CV]  C=0.0883883476483, class_weight=balanced, score=0.696211, total=   4.9s\n",
      "[CV] C=0.125, class_weight=None ......................................\n",
      "[CV]  C=0.0883883476483, class_weight=balanced, score=0.705636, total=   6.9s\n",
      "[CV] C=0.125, class_weight=None ......................................\n",
      "[CV]  C=0.0883883476483, class_weight=balanced, score=0.686713, total=   7.5s\n",
      "[CV] C=0.125, class_weight=balanced ..................................\n",
      "[CV]  C=0.0883883476483, class_weight=balanced, score=0.698736, total=   8.6s\n",
      "[CV] C=0.125, class_weight=balanced ..................................\n",
      "[CV]  C=0.0883883476483, class_weight=balanced, score=0.684610, total=   7.0s\n",
      "[CV] C=0.125, class_weight=balanced ..................................\n",
      "[CV] ....... C=0.125, class_weight=None, score=0.677617, total=   7.7s\n",
      "[CV] C=0.125, class_weight=balanced ..................................\n",
      "[CV] ....... C=0.125, class_weight=None, score=0.691941, total=   5.4s\n",
      "[CV] C=0.125, class_weight=balanced ..................................\n",
      "[CV] ....... C=0.125, class_weight=None, score=0.701638, total=   7.0s\n",
      "[CV] C=0.176776695297, class_weight=None .............................\n",
      "[CV] ....... C=0.125, class_weight=None, score=0.688931, total=   9.7s\n",
      "[CV] C=0.176776695297, class_weight=None .............................\n"
     ]
    },
    {
     "name": "stderr",
     "output_type": "stream",
     "text": [
      "[Parallel(n_jobs=-1)]: Done 184 tasks      | elapsed:  1.7min\n"
     ]
    },
    {
     "name": "stdout",
     "output_type": "stream",
     "text": [
      "[CV] ....... C=0.125, class_weight=None, score=0.679487, total=   7.4s\n",
      "[CV] C=0.176776695297, class_weight=None .............................\n",
      "[CV] ... C=0.125, class_weight=balanced, score=0.675154, total=   7.3s\n",
      "[CV] C=0.176776695297, class_weight=None .............................\n",
      "[CV] ... C=0.125, class_weight=balanced, score=0.689652, total=   4.4s\n",
      "[CV] C=0.176776695297, class_weight=None .............................\n",
      "[CV] ... C=0.125, class_weight=balanced, score=0.696894, total=   7.5s\n",
      "[CV] C=0.176776695297, class_weight=balanced .........................\n",
      "[CV] ... C=0.125, class_weight=balanced, score=0.689441, total=   9.3s\n",
      "[CV] C=0.176776695297, class_weight=balanced .........................\n",
      "[CV] ... C=0.125, class_weight=balanced, score=0.680307, total=   7.1s\n",
      "[CV] C=0.176776695297, class_weight=balanced .........................\n",
      "[CV]  C=0.176776695297, class_weight=None, score=0.669887, total=   8.2s\n",
      "[CV] C=0.176776695297, class_weight=balanced .........................\n",
      "[CV]  C=0.176776695297, class_weight=None, score=0.682929, total=   8.9s\n",
      "[CV] C=0.176776695297, class_weight=balanced .........................\n",
      "[CV]  C=0.176776695297, class_weight=None, score=0.679753, total=   6.2s\n",
      "[CV]  C=0.176776695297, class_weight=None, score=0.692391, total=   7.5s\n",
      "[CV]  C=0.176776695297, class_weight=None, score=0.673820, total=   7.2s\n",
      "[CV]  C=0.176776695297, class_weight=balanced, score=0.669769, total=   6.5s\n",
      "[CV]  C=0.176776695297, class_weight=balanced, score=0.681163, total=   7.9s\n",
      "[CV]  C=0.176776695297, class_weight=balanced, score=0.690342, total=   5.2s\n",
      "[CV]  C=0.176776695297, class_weight=balanced, score=0.677741, total=   3.2s\n",
      "[CV]  C=0.176776695297, class_weight=balanced, score=0.674161, total=   3.6s\n"
     ]
    },
    {
     "name": "stderr",
     "output_type": "stream",
     "text": [
      "[Parallel(n_jobs=-1)]: Done 200 out of 200 | elapsed:  1.9min finished\n"
     ]
    },
    {
     "data": {
      "text/plain": [
       "GridSearchCV(cv=KFold(n_splits=5, random_state=None, shuffle=False),\n",
       "       error_score='raise',\n",
       "       estimator=LinearSVC(C=0.011048543456039806, class_weight=None, dual=True,\n",
       "     fit_intercept=True, intercept_scaling=1, loss='squared_hinge',\n",
       "     max_iter=1000, multi_class='ovr', penalty='l2', random_state=0,\n",
       "     tol=0.0001, verbose=0),\n",
       "       fit_params={}, iid=True, n_jobs=-1,\n",
       "       param_grid={'C': array([ 0.00024,  0.00035,  0.00049,  0.00069,  0.00098,  0.00138,\n",
       "        0.00195,  0.00276,  0.00391,  0.00552,  0.00781,  0.01105,\n",
       "        0.01562,  0.0221 ,  0.03125,  0.04419,  0.0625 ,  0.08839,\n",
       "        0.125  ,  0.17678]), 'class_weight': [None, 'balanced']},\n",
       "       pre_dispatch='2*n_jobs', refit=True, return_train_score=True,\n",
       "       scoring='f1_macro', verbose=10)"
      ]
     },
     "execution_count": 135,
     "metadata": {},
     "output_type": "execute_result"
    }
   ],
   "source": [
    "from sklearn.model_selection import  GridSearchCV, RandomizedSearchCV\n",
    "\n",
    "param_grid = {\n",
    "    'C': 2. ** np.arange(-12, -2, 0.5),\n",
    "    'class_weight': [None, 'balanced'],\n",
    "             }\n",
    "grid = GridSearchCV(svm, param_grid, scoring='f1_macro', cv=cv, n_jobs=-1, verbose=10)\n",
    "\n",
    "grid.fit(X_train, y_train)"
   ]
  },
  {
   "cell_type": "code",
   "execution_count": 136,
   "metadata": {
    "collapsed": false
   },
   "outputs": [
    {
     "name": "stdout",
     "output_type": "stream",
     "text": [
      "Melhores parâmetros: {'C': 0.0078125, 'class_weight': 'balanced'}; Melhor F1: 0.720498\n",
      "Teste F1: 0.648014\n"
     ]
    }
   ],
   "source": [
    "print(\"Melhores parâmetros: %s; Melhor F1: %f\" % (grid.best_params_, grid.best_score_))\n",
    "print(\"Teste F1: %f\" % (f1_score(y_test, grid.predict(X_test), average='macro')))"
   ]
  },
  {
   "cell_type": "code",
   "execution_count": 137,
   "metadata": {
    "collapsed": false,
    "scrolled": true
   },
   "outputs": [
    {
     "name": "stdout",
     "output_type": "stream",
     "text": [
      "Fitting 5 folds for each of 10 candidates, totalling 50 fits\n",
      "[CV] C=0.011048543456, class_weight=None .............................\n",
      "[CV] C=0.011048543456, class_weight=None .............................\n",
      "[CV] C=0.011048543456, class_weight=None .............................\n",
      "[CV] C=0.011048543456, class_weight=None .............................\n",
      "[CV] C=0.011048543456, class_weight=None .............................\n",
      "[CV] C=0.0078125, class_weight=None ..................................\n",
      "[CV] C=0.0078125, class_weight=None ..................................\n",
      "[CV] C=0.0078125, class_weight=None ..................................\n",
      "[CV]  C=0.011048543456, class_weight=None, score=0.719700, total=   3.2s\n",
      "[CV] C=0.0078125, class_weight=None ..................................\n",
      "[CV] ... C=0.0078125, class_weight=None, score=0.717752, total=   3.2s\n",
      "[CV] C=0.0078125, class_weight=None ..................................\n"
     ]
    },
    {
     "name": "stderr",
     "output_type": "stream",
     "text": [
      "[Parallel(n_jobs=-1)]: Done   2 tasks      | elapsed:    3.4s\n"
     ]
    },
    {
     "name": "stdout",
     "output_type": "stream",
     "text": [
      "[CV]  C=0.011048543456, class_weight=None, score=0.723595, total=   3.9s\n",
      "[CV] ... C=0.0078125, class_weight=None, score=0.727652, total=   3.8s\n",
      "[CV] C=0.015625, class_weight=balanced ...............................\n",
      "[CV] C=0.015625, class_weight=balanced ...............................\n",
      "[CV] ... C=0.0078125, class_weight=None, score=0.727641, total=   3.9s\n",
      "[CV] C=0.015625, class_weight=balanced ...............................\n",
      "[CV]  C=0.011048543456, class_weight=None, score=0.700100, total=   4.3s\n",
      "[CV] C=0.015625, class_weight=balanced ...............................\n",
      "[CV]  C=0.011048543456, class_weight=None, score=0.730328, total=   4.6s\n",
      "[CV] C=0.015625, class_weight=balanced ...............................\n",
      "[CV]  C=0.011048543456, class_weight=None, score=0.713440, total=   5.0s\n",
      "[CV] C=0.00048828125, class_weight=None ..............................\n",
      "[CV] ... C=0.0078125, class_weight=None, score=0.717986, total=   3.3s\n",
      "[CV] C=0.00048828125, class_weight=None ..............................\n"
     ]
    },
    {
     "name": "stderr",
     "output_type": "stream",
     "text": [
      "[Parallel(n_jobs=-1)]: Done   9 tasks      | elapsed:    6.6s\n"
     ]
    },
    {
     "name": "stdout",
     "output_type": "stream",
     "text": [
      "[CV]  C=0.015625, class_weight=balanced, score=0.713511, total=   3.1s\n",
      "[CV] C=0.00048828125, class_weight=None ..............................\n",
      "[CV]  C=0.015625, class_weight=balanced, score=0.708420, total=   4.2s\n",
      "[CV] C=0.00048828125, class_weight=None ..............................\n",
      "[CV]  C=0.015625, class_weight=balanced, score=0.710293, total=   5.0s\n",
      "[CV]  C=0.015625, class_weight=balanced, score=0.722830, total=   5.0s\n",
      "[CV]  C=0.015625, class_weight=balanced, score=0.722154, total=   4.9s\n",
      "[CV] C=0.00048828125, class_weight=None ..............................\n",
      "[CV] C=0.001381067932, class_weight=None .............................\n",
      "[CV] C=0.001381067932, class_weight=None .............................\n",
      "[CV]  C=0.00048828125, class_weight=None, score=0.673091, total=   1.9s\n",
      "[CV] C=0.001381067932, class_weight=None .............................\n",
      "[CV] ... C=0.0078125, class_weight=None, score=0.700709, total=   6.5s\n",
      "[CV] C=0.001381067932, class_weight=None .............................\n"
     ]
    },
    {
     "name": "stderr",
     "output_type": "stream",
     "text": [
      "[Parallel(n_jobs=-1)]: Done  16 tasks      | elapsed:    9.9s\n"
     ]
    },
    {
     "name": "stdout",
     "output_type": "stream",
     "text": [
      "[CV]  C=0.00048828125, class_weight=None, score=0.678514, total=   3.6s\n",
      "[CV] C=0.001381067932, class_weight=None .............................\n",
      "[CV]  C=0.001381067932, class_weight=None, score=0.704832, total=   2.2s\n",
      "[CV] C=0.00276213586401, class_weight=balanced .......................\n",
      "[CV]  C=0.00048828125, class_weight=None, score=0.678755, total=   2.5s\n",
      "[CV] C=0.00276213586401, class_weight=balanced .......................\n",
      "[CV]  C=0.001381067932, class_weight=None, score=0.711630, total=   2.7s\n",
      "[CV] C=0.00276213586401, class_weight=balanced .......................\n",
      "[CV]  C=0.00048828125, class_weight=None, score=0.683900, total=   7.3s\n",
      "[CV] C=0.00276213586401, class_weight=balanced .......................\n",
      "[CV]  C=0.00048828125, class_weight=None, score=0.667023, total=   4.0s\n",
      "[CV] C=0.00276213586401, class_weight=balanced .......................\n",
      "[CV]  C=0.001381067932, class_weight=None, score=0.685735, total=   3.2s\n",
      "[CV] C=0.03125, class_weight=None ....................................\n",
      "[CV]  C=0.001381067932, class_weight=None, score=0.697764, total=   4.6s\n",
      "[CV] C=0.03125, class_weight=None ....................................\n",
      "[CV]  C=0.00276213586401, class_weight=balanced, score=0.729153, total=   2.9s\n",
      "[CV] C=0.03125, class_weight=None ....................................\n"
     ]
    },
    {
     "name": "stderr",
     "output_type": "stream",
     "text": [
      "[Parallel(n_jobs=-1)]: Done  25 tasks      | elapsed:   14.4s\n"
     ]
    },
    {
     "name": "stdout",
     "output_type": "stream",
     "text": [
      "[CV]  C=0.00276213586401, class_weight=balanced, score=0.718064, total=   3.2s\n",
      "[CV] C=0.03125, class_weight=None ....................................\n",
      "[CV]  C=0.00276213586401, class_weight=balanced, score=0.718102, total=   3.9s\n",
      "[CV] C=0.03125, class_weight=None ....................................\n",
      "[CV]  C=0.001381067932, class_weight=None, score=0.697431, total=   6.0s\n",
      "[CV] C=0.001381067932, class_weight=balanced .........................\n",
      "[CV]  C=0.00276213586401, class_weight=balanced, score=0.706440, total=   3.8s\n",
      "[CV] C=0.001381067932, class_weight=balanced .........................\n",
      "[CV]  C=0.00276213586401, class_weight=balanced, score=0.699435, total=   4.0s\n",
      "[CV] C=0.001381067932, class_weight=balanced .........................\n",
      "[CV] ..... C=0.03125, class_weight=None, score=0.712567, total=   5.0s\n",
      "[CV] C=0.001381067932, class_weight=balanced .........................\n",
      "[CV] ..... C=0.03125, class_weight=None, score=0.699413, total=   4.4s\n",
      "[CV] C=0.001381067932, class_weight=balanced .........................\n",
      "[CV]  C=0.001381067932, class_weight=balanced, score=0.717747, total=   2.6s\n",
      "[CV] C=0.00552427172802, class_weight=None ...........................\n",
      "[CV]  C=0.001381067932, class_weight=balanced, score=0.706915, total=   2.8s\n",
      "[CV] C=0.00552427172802, class_weight=None ...........................\n",
      "[CV] ..... C=0.03125, class_weight=None, score=0.707446, total=   4.5s\n",
      "[CV] C=0.00552427172802, class_weight=None ...........................\n"
     ]
    },
    {
     "name": "stderr",
     "output_type": "stream",
     "text": [
      "[Parallel(n_jobs=-1)]: Done  34 tasks      | elapsed:   19.3s\n"
     ]
    },
    {
     "name": "stdout",
     "output_type": "stream",
     "text": [
      "[CV]  C=0.001381067932, class_weight=balanced, score=0.705826, total=   3.1s\n",
      "[CV] C=0.00552427172802, class_weight=None ...........................\n",
      "[CV] ..... C=0.03125, class_weight=None, score=0.719422, total=   6.0s\n",
      "[CV] C=0.00552427172802, class_weight=None ...........................\n",
      "[CV] ..... C=0.03125, class_weight=None, score=0.701288, total=   4.9s\n",
      "[CV] C=0.03125, class_weight=balanced ................................\n",
      "[CV]  C=0.00552427172802, class_weight=None, score=0.724941, total=   3.7s\n",
      "[CV] C=0.03125, class_weight=balanced ................................\n",
      "[CV]  C=0.00552427172802, class_weight=None, score=0.717436, total=   3.3s\n",
      "[CV] C=0.03125, class_weight=balanced ................................\n",
      "[CV]  C=0.00552427172802, class_weight=None, score=0.717251, total=   3.0s\n",
      "[CV] C=0.03125, class_weight=balanced ................................\n"
     ]
    },
    {
     "name": "stderr",
     "output_type": "stream",
     "text": [
      "[Parallel(n_jobs=-1)]: Done  41 out of  50 | elapsed:   23.5s remaining:    5.2s\n"
     ]
    },
    {
     "name": "stdout",
     "output_type": "stream",
     "text": [
      "[CV]  C=0.00552427172802, class_weight=None, score=0.722960, total=   4.8s\n",
      "[CV] C=0.03125, class_weight=balanced ................................\n",
      "[CV]  C=0.001381067932, class_weight=balanced, score=0.701314, total=   5.8s\n",
      "[CV]  C=0.001381067932, class_weight=balanced, score=0.692219, total=   5.6s\n",
      "[CV]  C=0.00552427172802, class_weight=None, score=0.699008, total=   5.0s\n",
      "[CV] . C=0.03125, class_weight=balanced, score=0.702873, total=   3.5s\n",
      "[CV] . C=0.03125, class_weight=balanced, score=0.714638, total=   5.8s\n"
     ]
    },
    {
     "name": "stderr",
     "output_type": "stream",
     "text": [
      "[Parallel(n_jobs=-1)]: Done  47 out of  50 | elapsed:   26.6s remaining:    1.7s\n"
     ]
    },
    {
     "name": "stdout",
     "output_type": "stream",
     "text": [
      "[CV] . C=0.03125, class_weight=balanced, score=0.706331, total=   3.5s\n",
      "[CV] . C=0.03125, class_weight=balanced, score=0.716986, total=   4.3s\n",
      "[CV] . C=0.03125, class_weight=balanced, score=0.703334, total=   2.8s\n"
     ]
    },
    {
     "name": "stderr",
     "output_type": "stream",
     "text": [
      "[Parallel(n_jobs=-1)]: Done  50 out of  50 | elapsed:   27.2s finished\n"
     ]
    },
    {
     "data": {
      "text/plain": [
       "RandomizedSearchCV(cv=KFold(n_splits=5, random_state=None, shuffle=False),\n",
       "          error_score='raise',\n",
       "          estimator=LinearSVC(C=0.011048543456039806, class_weight=None, dual=True,\n",
       "     fit_intercept=True, intercept_scaling=1, loss='squared_hinge',\n",
       "     max_iter=1000, multi_class='ovr', penalty='l2', random_state=0,\n",
       "     tol=0.0001, verbose=0),\n",
       "          fit_params={}, iid=True, n_iter=10, n_jobs=-1,\n",
       "          param_distributions={'C': array([ 0.00024,  0.00035,  0.00049,  0.00069,  0.00098,  0.00138,\n",
       "        0.00195,  0.00276,  0.00391,  0.00552,  0.00781,  0.01105,\n",
       "        0.01562,  0.0221 ,  0.03125,  0.04419,  0.0625 ,  0.08839,\n",
       "        0.125  ,  0.17678]), 'class_weight': [None, 'balanced']},\n",
       "          pre_dispatch='2*n_jobs', random_state=0, refit=True,\n",
       "          return_train_score=True, scoring='f1_macro', verbose=10)"
      ]
     },
     "execution_count": 137,
     "metadata": {},
     "output_type": "execute_result"
    }
   ],
   "source": [
    "from sklearn.model_selection import  GridSearchCV, RandomizedSearchCV\n",
    "\n",
    "param_grid = {\n",
    "    'C': 2. ** np.arange(-12, -2, 0.5),\n",
    "    'class_weight': [None, 'balanced'],\n",
    "             }\n",
    "rand = RandomizedSearchCV(svm, param_grid, scoring='f1_macro', cv=cv, n_jobs=-1, verbose=10, random_state=0)\n",
    "\n",
    "rand.fit(X_train, y_train)"
   ]
  },
  {
   "cell_type": "code",
   "execution_count": 138,
   "metadata": {
    "collapsed": false
   },
   "outputs": [
    {
     "name": "stdout",
     "output_type": "stream",
     "text": [
      "Melhores parâmetros: {'C': 0.0078125, 'class_weight': None}; Melhor F1: 0.718349\n",
      "Teste F1: 0.646523\n"
     ]
    }
   ],
   "source": [
    "print(\"Melhores parâmetros: %s; Melhor F1: %f\" % (rand.best_params_, rand.best_score_))\n",
    "print(\"Teste F1: %f\" % (f1_score(y_test, rand.predict(X_test), average='macro')))"
   ]
  },
  {
   "cell_type": "markdown",
   "metadata": {},
   "source": [
    "Além do hiperparâmetros do algoritmo de aprendizado de máquinas, outros fatores influenciam no aprendizado de um determinado modelo. Esse fatores podem ser, os atributos e as transformações que fazemos nos atributos, os kernels do svm e assim por diante. Nesse contexto, vamos mostrar como construir um pipeline para seleção de atributos, criação e enriquecimento de atributos. E isso tudo nós temos de escolher empiricamente, e cada combinação desse fatores gerará um modelo distinto e devemos escolher o melhor dentre eles para nós colocarmos em produção.\n",
    "\n",
    "\n",
    "Ainda no contexto de classificação de textual vamos então escolher os melhores atributos, enriquecer e criar novos atributos na esperança de melhorar obtermos modelos melhores."
   ]
  },
  {
   "cell_type": "code",
   "execution_count": null,
   "metadata": {
    "collapsed": true
   },
   "outputs": [],
   "source": []
  }
 ],
 "metadata": {
  "kernelspec": {
   "display_name": "Python 3",
   "language": "python",
   "name": "python3"
  },
  "language_info": {
   "codemirror_mode": {
    "name": "ipython",
    "version": 3
   },
   "file_extension": ".py",
   "mimetype": "text/x-python",
   "name": "python",
   "nbconvert_exporter": "python",
   "pygments_lexer": "ipython3",
   "version": "3.5.2"
  }
 },
 "nbformat": 4,
 "nbformat_minor": 2
}
