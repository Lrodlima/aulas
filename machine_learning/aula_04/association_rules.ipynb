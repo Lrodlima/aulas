{
 "cells": [
  {
   "cell_type": "markdown",
   "metadata": {},
   "source": [
    "## Esse notebook é um exemplo de uso de regras de associação usando Orange Lib\n",
    "\n",
    "Para execução do código, será necessário instalar as seguintes bibliotecas:\n",
    "\n",
    "pip3 install numpy\n",
    "\n",
    "pip3 install scipy\n",
    "\n",
    "pip3 install orange3"
   ]
  },
  {
   "cell_type": "code",
   "execution_count": 1,
   "metadata": {
    "collapsed": true
   },
   "outputs": [],
   "source": [
    "from orangecontrib.associate.fpgrowth import *  \n",
    "import Orange"
   ]
  },
  {
   "cell_type": "code",
   "execution_count": 2,
   "metadata": {
    "collapsed": true
   },
   "outputs": [],
   "source": [
    "# Create simple transactions data\n",
    "T = [[1, 3, 4],\n",
    "    [2, 3, 5],\n",
    "    [1, 2, 3, 5],\n",
    "    [2, 5]]"
   ]
  },
  {
   "cell_type": "markdown",
   "metadata": {},
   "source": [
    "**Min support** = Qual a frequência minima de uma regra?"
   ]
  },
  {
   "cell_type": "code",
   "execution_count": 6,
   "metadata": {},
   "outputs": [
    {
     "name": "stdout",
     "output_type": "stream",
     "text": [
      "Itemsets found : \n",
      "\n",
      "\n",
      "Itemset: frozenset({1}) has frequency of 2\n",
      "Itemset: frozenset({2}) has frequency of 3\n",
      "Itemset: frozenset({3}) has frequency of 3\n",
      "Itemset: frozenset({1, 3}) has frequency of 2\n",
      "Itemset: frozenset({2, 3}) has frequency of 2\n",
      "Itemset: frozenset({5}) has frequency of 3\n",
      "Itemset: frozenset({2, 5}) has frequency of 3\n",
      "Itemset: frozenset({3, 5}) has frequency of 2\n",
      "Itemset: frozenset({2, 3, 5}) has frequency of 2\n",
      "\n",
      "\n",
      "Association rules found : \n",
      "\n",
      "\n",
      "3, 5 --> 2 (supp: 2, conf: 1.0)\n",
      "2, 5 --> 3 (supp: 2, conf: 0.6666666666666666)\n",
      "5 --> 2 (supp: 2, conf: 0.6666666666666666)\n",
      "2, 3 --> 5 (supp: 2, conf: 1.0)\n",
      "3 --> 2 (supp: 2, conf: 0.6666666666666666)\n"
     ]
    }
   ],
   "source": [
    "min_support = 2\n",
    "itemsets = frequent_itemsets(T, min_support)\n",
    "\n",
    "print(\"Itemsets found : \\n\\n\")\n",
    "for item,freq in list(itemsets):\n",
    "    print('Itemset: ' +repr(item) + ' has frequency of ' + repr(freq))\n",
    "    \n",
    "rules = [(P, Q, supp, conf)\n",
    "    for P, Q, supp, conf in association_rules(dict(frequent_itemsets(T, min_support)), .01)]\n",
    "\n",
    "print(\"\\n\\nAssociation rules found : \\n\\n\")\n",
    "for ante, cons, supp, conf in rules[:5]:\n",
    "    print(', '.join(str(i) for i in ante), '-->',\n",
    "        next(iter(cons)),\n",
    "        '(supp: {}, conf: {})'.format(supp, conf))\n"
   ]
  },
  {
   "cell_type": "markdown",
   "metadata": {},
   "source": [
    "## Zoo Dataset\n",
    "Vamos agora usar esse conhecimento em um dataset real."
   ]
  },
  {
   "cell_type": "code",
   "execution_count": 4,
   "metadata": {},
   "outputs": [
    {
     "name": "stdout",
     "output_type": "stream",
     "text": [
      "data = \n",
      "[[1, 0, 0, 1, 0, ... | mammal] {aardvark},\n",
      " [1, 0, 0, 1, 0, ... | mammal] {antelope},\n",
      " [0, 0, 1, 0, 0, ... | fish] {bass},\n",
      " [1, 0, 0, 1, 0, ... | mammal] {bear},\n",
      " [1, 0, 0, 1, 0, ... | mammal] {boar},\n",
      " ...\n",
      "]\n",
      "\n",
      "X (one hode encoding)= \n",
      "array([[False,  True,  True, ..., False,  True, False],\n",
      "       [False,  True,  True, ..., False,  True, False],\n",
      "       [ True, False,  True, ..., False, False, False],\n",
      "       ..., \n",
      "       [False,  True,  True, ..., False,  True, False],\n",
      "       [ True, False,  True, ...,  True, False, False],\n",
      "       [ True, False, False, ..., False, False, False]], dtype=bool) of shape (101, 43)\n"
     ]
    }
   ],
   "source": [
    "data = Orange.data.Table('zoo')\n",
    "print('data = \\n'+ repr(data[0:10]))\n",
    "X, mapping = OneHot.encode(data, include_class=True)\n",
    "print('\\nX (one hode encoding)= \\n'+ repr(X) + ' of shape '+ repr(X.shape))\n",
    "# print('\\nMapping = \\n' + repr(mapping.items()))\n",
    "itemsets = dict(frequent_itemsets(X, .4))"
   ]
  },
  {
   "cell_type": "markdown",
   "metadata": {},
   "source": [
    "### E é claro, precisamos analisar as regras geradas! :)"
   ]
  },
  {
   "cell_type": "code",
   "execution_count": 5,
   "metadata": {},
   "outputs": [
    {
     "name": "stdout",
     "output_type": "stream",
     "text": [
      "backbone=1, feathers=0, breathes=1, venomous=0, milk=1 --> type=mammal (supp: 41, conf: 1.0)\n",
      "backbone=1, feathers=0, breathes=1, milk=1 --> type=mammal (supp: 41, conf: 1.0)\n",
      "backbone=1, breathes=1, venomous=0, milk=1 --> type=mammal (supp: 41, conf: 1.0)\n",
      "feathers=0, breathes=1, venomous=0, milk=1 --> type=mammal (supp: 41, conf: 1.0)\n",
      "backbone=1, feathers=0, breathes=1, venomous=0 --> type=mammal (supp: 41, conf: 0.8723404255319149)\n"
     ]
    }
   ],
   "source": [
    "class_items = {item\n",
    "    for item, var, _ in OneHot.decode(mapping, data, mapping)\n",
    "    if var is data.domain.class_var}\n",
    "\n",
    "rules = [(P, Q, supp, conf)\n",
    "    for P, Q, supp, conf in association_rules(itemsets, .8)\n",
    "    if len(Q) == 1 and Q & class_items]\n",
    "\n",
    "names = {item: '{}={}'.format(var.name, val)\n",
    "    for item, var, val in OneHot.decode(mapping, data, mapping)}\n",
    "\n",
    "for ante, cons, supp, conf in rules[:5]:\n",
    "    print(', '.join(names[i] for i in ante), '-->',\n",
    "        names[next(iter(cons))],\n",
    "        '(supp: {}, conf: {})'.format(supp, conf))\n"
   ]
  },
  {
   "cell_type": "markdown",
   "metadata": {},
   "source": [
    "## Desafio\n",
    "Implemente outas métricas de avaliação, assim como Lift."
   ]
  }
 ],
 "metadata": {
  "kernelspec": {
   "display_name": "Python 3",
   "language": "python",
   "name": "python3"
  },
  "language_info": {
   "codemirror_mode": {
    "name": "ipython",
    "version": 3
   },
   "file_extension": ".py",
   "mimetype": "text/x-python",
   "name": "python",
   "nbconvert_exporter": "python",
   "pygments_lexer": "ipython3",
   "version": "3.5.2"
  }
 },
 "nbformat": 4,
 "nbformat_minor": 2
}
