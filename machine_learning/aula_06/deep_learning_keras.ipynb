{
 "cells": [
  {
   "cell_type": "markdown",
   "metadata": {},
   "source": [
    "# Long Short Term Memory\n",
    "\n",
    "Vamos treinar uma rede neural LSTM para classificar sentimento. A base escolhida, são de filmes do IMDB, ela é muito pequena e por isso os resultados da rede acaba sendo muito pioor nesses casos. Porém é um exemplo de utilização e conseguiriamos melhorar bastante com a adição de novos dados"
   ]
  },
  {
   "cell_type": "code",
   "execution_count": 1,
   "metadata": {},
   "outputs": [
    {
     "name": "stderr",
     "output_type": "stream",
     "text": [
      "Using TensorFlow backend.\n"
     ]
    }
   ],
   "source": [
    "from __future__ import print_function\n",
    "\n",
    "from keras.preprocessing import sequence\n",
    "from keras.models import Sequential\n",
    "from keras.layers import Dense, Embedding\n",
    "from keras.layers import LSTM"
   ]
  },
  {
   "cell_type": "markdown",
   "metadata": {},
   "source": [
    "Primeiro passo a seguir é fazer o download dos dados. Como dito anteriormente a base de dados escolhida é do IMDB, uma das bases testes existentes no conjunto de dataset de experimentos do Keras"
   ]
  },
  {
   "cell_type": "code",
   "execution_count": 2,
   "metadata": {},
   "outputs": [
    {
     "name": "stdout",
     "output_type": "stream",
     "text": [
      "Loading data...\n",
      "25000 train sequences\n",
      "25000 test sequences\n"
     ]
    }
   ],
   "source": [
    "from keras.datasets import imdb\n",
    "\n",
    "max_features = 20000\n",
    "print('Loading data...')\n",
    "(x_train, y_train), (x_test, y_test) = imdb.load_data(num_words=max_features)\n",
    "print(len(x_train), 'train sequences')\n",
    "print(len(x_test), 'test sequences')"
   ]
  },
  {
   "cell_type": "code",
   "execution_count": 3,
   "metadata": {},
   "outputs": [
    {
     "name": "stdout",
     "output_type": "stream",
     "text": [
      "Pad sequences (samples x time)\n",
      "x_train shape: (25000, 80)\n",
      "x_test shape: (25000, 80)\n"
     ]
    }
   ],
   "source": [
    "maxlen = 80  # Limita o número de palavras utilizadas\n",
    "batch_size = 32\n",
    "\n",
    "print('Pad sequences (samples x time)')\n",
    "x_train = sequence.pad_sequences(x_train, maxlen=maxlen)\n",
    "x_test = sequence.pad_sequences(x_test, maxlen=maxlen)\n",
    "print('x_train shape:', x_train.shape)\n",
    "print('x_test shape:', x_test.shape)"
   ]
  },
  {
   "cell_type": "code",
   "execution_count": 4,
   "metadata": {},
   "outputs": [
    {
     "name": "stdout",
     "output_type": "stream",
     "text": [
      "Build model...\n"
     ]
    }
   ],
   "source": [
    "print('Build model...')\n",
    "model = Sequential()\n",
    "model.add(Embedding(max_features, 128))\n",
    "model.add(LSTM(128, dropout=0.2, recurrent_dropout=0.2))\n",
    "model.add(Dense(1, activation='sigmoid'))\n",
    "\n",
    "# try using different optimizers and different optimizer configs\n",
    "model.compile(loss='binary_crossentropy',\n",
    "              optimizer='adam',\n",
    "              metrics=['accuracy'])"
   ]
  },
  {
   "cell_type": "code",
   "execution_count": 5,
   "metadata": {},
   "outputs": [
    {
     "name": "stdout",
     "output_type": "stream",
     "text": [
      "Train...\n",
      "Train on 25000 samples, validate on 25000 samples\n",
      "Epoch 1/15\n",
      "25000/25000 [==============================] - 163s - loss: 0.4586 - acc: 0.7835 - val_loss: 0.3808 - val_acc: 0.8324\n",
      "Epoch 2/15\n",
      "25000/25000 [==============================] - 187s - loss: 0.2945 - acc: 0.8804 - val_loss: 0.3987 - val_acc: 0.8356\n",
      "Epoch 3/15\n",
      "25000/25000 [==============================] - 195s - loss: 0.2148 - acc: 0.9161 - val_loss: 0.4072 - val_acc: 0.8299\n",
      "Epoch 4/15\n",
      "25000/25000 [==============================] - 195s - loss: 0.1444 - acc: 0.9479 - val_loss: 0.5752 - val_acc: 0.8145\n",
      "Epoch 5/15\n",
      "25000/25000 [==============================] - 180s - loss: 0.1062 - acc: 0.9616 - val_loss: 0.5320 - val_acc: 0.8240\n",
      "Epoch 6/15\n",
      "25000/25000 [==============================] - 181s - loss: 0.0722 - acc: 0.9739 - val_loss: 0.6947 - val_acc: 0.8206\n",
      "Epoch 7/15\n",
      "25000/25000 [==============================] - 199s - loss: 0.0569 - acc: 0.9804 - val_loss: 0.6519 - val_acc: 0.8174\n",
      "Epoch 8/15\n",
      "25000/25000 [==============================] - 184s - loss: 0.0444 - acc: 0.9848 - val_loss: 0.8180 - val_acc: 0.8170\n",
      "Epoch 9/15\n",
      "25000/25000 [==============================] - 181s - loss: 0.0300 - acc: 0.9911 - val_loss: 0.8920 - val_acc: 0.8100\n",
      "Epoch 10/15\n",
      "25000/25000 [==============================] - 190s - loss: 0.0256 - acc: 0.9920 - val_loss: 0.8704 - val_acc: 0.8146\n",
      "Epoch 11/15\n",
      "25000/25000 [==============================] - 179s - loss: 0.0211 - acc: 0.9939 - val_loss: 0.9293 - val_acc: 0.8112\n",
      "Epoch 12/15\n",
      "25000/25000 [==============================] - 183s - loss: 0.0229 - acc: 0.9923 - val_loss: 0.9244 - val_acc: 0.8062\n",
      "Epoch 13/15\n",
      "25000/25000 [==============================] - 174s - loss: 0.0191 - acc: 0.9932 - val_loss: 1.0935 - val_acc: 0.8078\n",
      "Epoch 14/15\n",
      "25000/25000 [==============================] - 179s - loss: 0.0125 - acc: 0.9962 - val_loss: 1.0484 - val_acc: 0.8084\n",
      "Epoch 15/15\n",
      "25000/25000 [==============================] - 183s - loss: 0.0103 - acc: 0.9969 - val_loss: 1.0971 - val_acc: 0.8120\n",
      "24992/25000 [============================>.] - ETA: 0sTest score: 1.0970538514\n",
      "Test accuracy: 0.81204\n"
     ]
    }
   ],
   "source": [
    "print('Train...')\n",
    "model.fit(x_train, y_train,\n",
    "          batch_size=batch_size,\n",
    "          epochs=15,\n",
    "          validation_data=(x_test, y_test))\n",
    "score, acc = model.evaluate(x_test, y_test,\n",
    "                            batch_size=batch_size)\n",
    "print('Test score:', score)\n",
    "print('Test accuracy:', acc)"
   ]
  }
 ],
 "metadata": {
  "kernelspec": {
   "display_name": "Python 3",
   "language": "python",
   "name": "python3"
  },
  "language_info": {
   "codemirror_mode": {
    "name": "ipython",
    "version": 3
   },
   "file_extension": ".py",
   "mimetype": "text/x-python",
   "name": "python",
   "nbconvert_exporter": "python",
   "pygments_lexer": "ipython3",
   "version": "3.5.2"
  }
 },
 "nbformat": 4,
 "nbformat_minor": 2
}
