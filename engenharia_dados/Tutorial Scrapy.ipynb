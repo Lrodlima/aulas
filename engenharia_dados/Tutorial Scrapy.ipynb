{
 "cells": [
  {
   "cell_type": "markdown",
   "metadata": {},
   "source": [
    "## Objetivo\n",
    "\n",
    "O objetivo desse tutorial é introduzí-los a coloeta de dados na web utilizando a ferramenta Scrapy.\n",
    "\n",
    "Vamos mostrar um exemplo simples de coleta utilizando o scrapy já pronto, e etão vocês vão ter de construir suas próprias \"aranhas\" (spiders) e parses para realizarem a coleta em um site com dados do IBGE que criamos especialmente para esssa aula.\n",
    "\n",
    "\n",
    "# Scrapy\n",
    "\n",
    "É um **framework** de código aberto e colaborativo para extração de dados a partir de websites. Ele escala bem, é simples de utilizar e facilmente extensível.\n",
    "\n"
   ]
  },
  {
   "cell_type": "code",
   "execution_count": null,
   "metadata": {
    "collapsed": true
   },
   "outputs": [],
   "source": [
    "#"
   ]
  }
 ],
 "metadata": {
  "kernelspec": {
   "display_name": "Python 3",
   "language": "python",
   "name": "python3"
  },
  "language_info": {
   "codemirror_mode": {
    "name": "ipython",
    "version": 3
   },
   "file_extension": ".py",
   "mimetype": "text/x-python",
   "name": "python",
   "nbconvert_exporter": "python",
   "pygments_lexer": "ipython3",
   "version": "3.5.2"
  }
 },
 "nbformat": 4,
 "nbformat_minor": 2
}
